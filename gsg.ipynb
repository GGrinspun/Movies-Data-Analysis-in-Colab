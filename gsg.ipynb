{
  "nbformat": 4,
  "nbformat_minor": 0,
  "metadata": {
    "colab": {
      "provenance": [],
      "collapsed_sections": [
        "97ZcoLWBQIDb",
        "96GJ7Lov8nKw",
        "mKdmndyKXu18",
        "AUtvuweiZbat",
        "cQhbD8LEa1dt",
        "SAHOfveHuPzl",
        "OZr9IRpYer6L",
        "fRWfNzb2g40N",
        "KnbqKDZE15Uu",
        "9s1fB4QdieP1",
        "dRAuYz1cjBZ8",
        "z3WjZPR6Solz",
        "20BTiPED38Bf",
        "6j5DBL0J4Wo2",
        "nxUNGaHgLCBm",
        "D0SqeesT01Sy",
        "1RWKDxK74xOU",
        "fsZUIA-ipxBJ",
        "ddWUctIfOOaq",
        "LFAQAY5d7NZ9",
        "2otLVCrG3MZS"
      ],
      "authorship_tag": "ABX9TyNjdGTdGu7SZktYImOelZad",
      "include_colab_link": true
    },
    "kernelspec": {
      "name": "python3",
      "display_name": "Python 3"
    },
    "language_info": {
      "name": "python"
    }
  },
  "cells": [
    {
      "cell_type": "markdown",
      "metadata": {
        "id": "view-in-github",
        "colab_type": "text"
      },
      "source": [
        "<a href=\"https://colab.research.google.com/github/GGrinspun/Movies-Data-Analysis-in-Colab/blob/main/gsg.ipynb\" target=\"_parent\"><img src=\"https://colab.research.google.com/assets/colab-badge.svg\" alt=\"Open In Colab\"/></a>"
      ]
    },
    {
      "cell_type": "markdown",
      "source": [
        "##**Walmart - Apresentação dos Dados**\n",
        "\n",
        "---\n",
        "###Data dictionary (columns):\n",
        "\n",
        "* ID: Movie ID\n",
        "* Popularity: Popularity score\n",
        "* Budget: Amount spent to make the movie\n",
        "* Revenue: Amount realized from the movie\n",
        "* original title: Movie title\n",
        "* Cast: Actors & Actresses in the movie\n",
        "* Homepage: Movie website\n",
        "* Director: Director(s) of the movie\n",
        "* Tagline: Catchphrase(s)/slogan of the movie\n",
        "* keywords: Words associated with a movie\n",
        "* Overview: Movie Summary\n",
        "* Runtime: length of a movie\n",
        "* Genres: Category\n",
        "* Production companies: Companies that produced the movie\n",
        "* Release date: Date movie was released\n",
        "* Vote count:\n",
        "* Vote average:\n",
        "* Release year: year movie was released\n",
        "* Budget adj: Budget In terms of 2010 dollars\n",
        "* Revenue adj: Revenue in terms of 2010 dollars\n",
        "  \n",
        "\n"
      ],
      "metadata": {
        "id": "0qMwO6tdtYJk"
      }
    },
    {
      "cell_type": "code",
      "execution_count": null,
      "metadata": {
        "id": "xMg_jMeYtRD_"
      },
      "outputs": [],
      "source": [
        "#Importando as libs\n",
        "import numpy as np\n",
        "import pandas as pd\n",
        "from google.colab import drive"
      ]
    },
    {
      "cell_type": "code",
      "source": [
        "drive.mount('/content/gdrive')"
      ],
      "metadata": {
        "colab": {
          "base_uri": "https://localhost:8080/"
        },
        "id": "JaS7oC5hOpGN",
        "outputId": "1ee2faba-4206-44ea-c6c3-50ef91428cca"
      },
      "execution_count": null,
      "outputs": [
        {
          "output_type": "stream",
          "name": "stdout",
          "text": [
            "Drive already mounted at /content/gdrive; to attempt to forcibly remount, call drive.mount(\"/content/gdrive\", force_remount=True).\n"
          ]
        }
      ]
    },
    {
      "cell_type": "code",
      "source": [
        "Movie = pd.read_csv('/content/gdrive/MyDrive/Colab Notebooks/TMBD Movie Dataset.csv')"
      ],
      "metadata": {
        "id": "4nAMlHz5pjZO"
      },
      "execution_count": null,
      "outputs": []
    },
    {
      "cell_type": "code",
      "source": [
        "Movie.shape #número de linhas e colunas"
      ],
      "metadata": {
        "colab": {
          "base_uri": "https://localhost:8080/"
        },
        "id": "60zFatZ_3Lag",
        "outputId": "ee4f27e0-a612-466d-d996-7848a921d9a4"
      },
      "execution_count": null,
      "outputs": [
        {
          "output_type": "execute_result",
          "data": {
            "text/plain": [
              "(1287, 24)"
            ]
          },
          "metadata": {},
          "execution_count": 435
        }
      ]
    },
    {
      "cell_type": "code",
      "source": [
        "Movie.head(5)"
      ],
      "metadata": {
        "colab": {
          "base_uri": "https://localhost:8080/"
        },
        "id": "syd-WRlWDVPJ",
        "outputId": "134cfd52-fa2b-42c8-b1ee-0a75805bb249"
      },
      "execution_count": null,
      "outputs": [
        {
          "output_type": "execute_result",
          "data": {
            "text/plain": [
              "   Unnamed: 0      id    imdb_id  popularity       budget       revenue  \\\n",
              "0           0  135397  tt0369610   32.985763  150000000.0  1.513529e+09   \n",
              "1           1   76341  tt1392190   28.419936  150000000.0  3.784364e+08   \n",
              "2           2  262500  tt2908446   13.112507  110000000.0  2.952382e+08   \n",
              "3           3  140607  tt2488496   11.173104  200000000.0  2.068178e+09   \n",
              "4           4  168259  tt2820852    9.335014  190000000.0  1.506249e+09   \n",
              "\n",
              "                 original_title  \\\n",
              "0                Jurassic World   \n",
              "1            Mad Max: Fury Road   \n",
              "2                     Insurgent   \n",
              "3  Star Wars: The Force Awakens   \n",
              "4                     Furious 7   \n",
              "\n",
              "                                                cast  \\\n",
              "0  Chris Pratt|Bryce Dallas Howard|Irrfan Khan|Vi...   \n",
              "1  Tom Hardy|Charlize Theron|Hugh Keays-Byrne|Nic...   \n",
              "2  Shailene Woodley|Theo James|Kate Winslet|Ansel...   \n",
              "3  Harrison Ford|Mark Hamill|Carrie Fisher|Adam D...   \n",
              "4  Vin Diesel|Paul Walker|Jason Statham|Michelle ...   \n",
              "\n",
              "                                            homepage          director  ...  \\\n",
              "0                      http://www.jurassicworld.com/   Colin Trevorrow  ...   \n",
              "1                        http://www.madmaxmovie.com/     George Miller  ...   \n",
              "2     http://www.thedivergentseries.movie/#insurgent  Robert Schwentke  ...   \n",
              "3  http://www.starwars.com/films/star-wars-episod...       J.J. Abrams  ...   \n",
              "4                           http://www.furious7.com/         James Wan  ...   \n",
              "\n",
              "                                      genres  \\\n",
              "0  Action|Adventure|Science Fiction|Thriller   \n",
              "1  Action|Adventure|Science Fiction|Thriller   \n",
              "2         Adventure|Science Fiction|Thriller   \n",
              "3   Action|Adventure|Science Fiction|Fantasy   \n",
              "4                      Action|Crime|Thriller   \n",
              "\n",
              "                                production_companies release_date  vote_count  \\\n",
              "0  Universal Studios|Amblin Entertainment|Legenda...   2015-06-09        5562   \n",
              "1  Village Roadshow Pictures|Kennedy Miller Produ...   2015-05-13        6185   \n",
              "2  Summit Entertainment|Mandeville Films|Red Wago...   2015-03-18        2480   \n",
              "3          Lucasfilm|Truenorth Productions|Bad Robot   2015-12-15        5292   \n",
              "4  Universal Pictures|Original Film|Media Rights ...   2015-04-01        2947   \n",
              "\n",
              "  vote_average release_year    budget_adj   revenue_adj        profit  \\\n",
              "0          6.5         2015  1.379999e+08  1.392446e+09  1.363529e+09   \n",
              "1          7.1         2015  1.379999e+08  3.481613e+08  2.284364e+08   \n",
              "2          6.3         2015  1.012000e+08  2.716190e+08  1.852382e+08   \n",
              "3          7.5         2015  1.839999e+08  1.902723e+09  1.868178e+09   \n",
              "4          7.3         2015  1.747999e+08  1.385749e+09  1.316249e+09   \n",
              "\n",
              "   popularity_level  \n",
              "0              High  \n",
              "1              High  \n",
              "2              High  \n",
              "3              High  \n",
              "4              High  \n",
              "\n",
              "[5 rows x 24 columns]"
            ],
            "text/html": [
              "\n",
              "  <div id=\"df-990fd0bd-3251-4c89-b10b-61e3573bc17c\">\n",
              "    <div class=\"colab-df-container\">\n",
              "      <div>\n",
              "<style scoped>\n",
              "    .dataframe tbody tr th:only-of-type {\n",
              "        vertical-align: middle;\n",
              "    }\n",
              "\n",
              "    .dataframe tbody tr th {\n",
              "        vertical-align: top;\n",
              "    }\n",
              "\n",
              "    .dataframe thead th {\n",
              "        text-align: right;\n",
              "    }\n",
              "</style>\n",
              "<table border=\"1\" class=\"dataframe\">\n",
              "  <thead>\n",
              "    <tr style=\"text-align: right;\">\n",
              "      <th></th>\n",
              "      <th>Unnamed: 0</th>\n",
              "      <th>id</th>\n",
              "      <th>imdb_id</th>\n",
              "      <th>popularity</th>\n",
              "      <th>budget</th>\n",
              "      <th>revenue</th>\n",
              "      <th>original_title</th>\n",
              "      <th>cast</th>\n",
              "      <th>homepage</th>\n",
              "      <th>director</th>\n",
              "      <th>...</th>\n",
              "      <th>genres</th>\n",
              "      <th>production_companies</th>\n",
              "      <th>release_date</th>\n",
              "      <th>vote_count</th>\n",
              "      <th>vote_average</th>\n",
              "      <th>release_year</th>\n",
              "      <th>budget_adj</th>\n",
              "      <th>revenue_adj</th>\n",
              "      <th>profit</th>\n",
              "      <th>popularity_level</th>\n",
              "    </tr>\n",
              "  </thead>\n",
              "  <tbody>\n",
              "    <tr>\n",
              "      <th>0</th>\n",
              "      <td>0</td>\n",
              "      <td>135397</td>\n",
              "      <td>tt0369610</td>\n",
              "      <td>32.985763</td>\n",
              "      <td>150000000.0</td>\n",
              "      <td>1.513529e+09</td>\n",
              "      <td>Jurassic World</td>\n",
              "      <td>Chris Pratt|Bryce Dallas Howard|Irrfan Khan|Vi...</td>\n",
              "      <td>http://www.jurassicworld.com/</td>\n",
              "      <td>Colin Trevorrow</td>\n",
              "      <td>...</td>\n",
              "      <td>Action|Adventure|Science Fiction|Thriller</td>\n",
              "      <td>Universal Studios|Amblin Entertainment|Legenda...</td>\n",
              "      <td>2015-06-09</td>\n",
              "      <td>5562</td>\n",
              "      <td>6.5</td>\n",
              "      <td>2015</td>\n",
              "      <td>1.379999e+08</td>\n",
              "      <td>1.392446e+09</td>\n",
              "      <td>1.363529e+09</td>\n",
              "      <td>High</td>\n",
              "    </tr>\n",
              "    <tr>\n",
              "      <th>1</th>\n",
              "      <td>1</td>\n",
              "      <td>76341</td>\n",
              "      <td>tt1392190</td>\n",
              "      <td>28.419936</td>\n",
              "      <td>150000000.0</td>\n",
              "      <td>3.784364e+08</td>\n",
              "      <td>Mad Max: Fury Road</td>\n",
              "      <td>Tom Hardy|Charlize Theron|Hugh Keays-Byrne|Nic...</td>\n",
              "      <td>http://www.madmaxmovie.com/</td>\n",
              "      <td>George Miller</td>\n",
              "      <td>...</td>\n",
              "      <td>Action|Adventure|Science Fiction|Thriller</td>\n",
              "      <td>Village Roadshow Pictures|Kennedy Miller Produ...</td>\n",
              "      <td>2015-05-13</td>\n",
              "      <td>6185</td>\n",
              "      <td>7.1</td>\n",
              "      <td>2015</td>\n",
              "      <td>1.379999e+08</td>\n",
              "      <td>3.481613e+08</td>\n",
              "      <td>2.284364e+08</td>\n",
              "      <td>High</td>\n",
              "    </tr>\n",
              "    <tr>\n",
              "      <th>2</th>\n",
              "      <td>2</td>\n",
              "      <td>262500</td>\n",
              "      <td>tt2908446</td>\n",
              "      <td>13.112507</td>\n",
              "      <td>110000000.0</td>\n",
              "      <td>2.952382e+08</td>\n",
              "      <td>Insurgent</td>\n",
              "      <td>Shailene Woodley|Theo James|Kate Winslet|Ansel...</td>\n",
              "      <td>http://www.thedivergentseries.movie/#insurgent</td>\n",
              "      <td>Robert Schwentke</td>\n",
              "      <td>...</td>\n",
              "      <td>Adventure|Science Fiction|Thriller</td>\n",
              "      <td>Summit Entertainment|Mandeville Films|Red Wago...</td>\n",
              "      <td>2015-03-18</td>\n",
              "      <td>2480</td>\n",
              "      <td>6.3</td>\n",
              "      <td>2015</td>\n",
              "      <td>1.012000e+08</td>\n",
              "      <td>2.716190e+08</td>\n",
              "      <td>1.852382e+08</td>\n",
              "      <td>High</td>\n",
              "    </tr>\n",
              "    <tr>\n",
              "      <th>3</th>\n",
              "      <td>3</td>\n",
              "      <td>140607</td>\n",
              "      <td>tt2488496</td>\n",
              "      <td>11.173104</td>\n",
              "      <td>200000000.0</td>\n",
              "      <td>2.068178e+09</td>\n",
              "      <td>Star Wars: The Force Awakens</td>\n",
              "      <td>Harrison Ford|Mark Hamill|Carrie Fisher|Adam D...</td>\n",
              "      <td>http://www.starwars.com/films/star-wars-episod...</td>\n",
              "      <td>J.J. Abrams</td>\n",
              "      <td>...</td>\n",
              "      <td>Action|Adventure|Science Fiction|Fantasy</td>\n",
              "      <td>Lucasfilm|Truenorth Productions|Bad Robot</td>\n",
              "      <td>2015-12-15</td>\n",
              "      <td>5292</td>\n",
              "      <td>7.5</td>\n",
              "      <td>2015</td>\n",
              "      <td>1.839999e+08</td>\n",
              "      <td>1.902723e+09</td>\n",
              "      <td>1.868178e+09</td>\n",
              "      <td>High</td>\n",
              "    </tr>\n",
              "    <tr>\n",
              "      <th>4</th>\n",
              "      <td>4</td>\n",
              "      <td>168259</td>\n",
              "      <td>tt2820852</td>\n",
              "      <td>9.335014</td>\n",
              "      <td>190000000.0</td>\n",
              "      <td>1.506249e+09</td>\n",
              "      <td>Furious 7</td>\n",
              "      <td>Vin Diesel|Paul Walker|Jason Statham|Michelle ...</td>\n",
              "      <td>http://www.furious7.com/</td>\n",
              "      <td>James Wan</td>\n",
              "      <td>...</td>\n",
              "      <td>Action|Crime|Thriller</td>\n",
              "      <td>Universal Pictures|Original Film|Media Rights ...</td>\n",
              "      <td>2015-04-01</td>\n",
              "      <td>2947</td>\n",
              "      <td>7.3</td>\n",
              "      <td>2015</td>\n",
              "      <td>1.747999e+08</td>\n",
              "      <td>1.385749e+09</td>\n",
              "      <td>1.316249e+09</td>\n",
              "      <td>High</td>\n",
              "    </tr>\n",
              "  </tbody>\n",
              "</table>\n",
              "<p>5 rows × 24 columns</p>\n",
              "</div>\n",
              "      <button class=\"colab-df-convert\" onclick=\"convertToInteractive('df-990fd0bd-3251-4c89-b10b-61e3573bc17c')\"\n",
              "              title=\"Convert this dataframe to an interactive table.\"\n",
              "              style=\"display:none;\">\n",
              "        \n",
              "  <svg xmlns=\"http://www.w3.org/2000/svg\" height=\"24px\"viewBox=\"0 0 24 24\"\n",
              "       width=\"24px\">\n",
              "    <path d=\"M0 0h24v24H0V0z\" fill=\"none\"/>\n",
              "    <path d=\"M18.56 5.44l.94 2.06.94-2.06 2.06-.94-2.06-.94-.94-2.06-.94 2.06-2.06.94zm-11 1L8.5 8.5l.94-2.06 2.06-.94-2.06-.94L8.5 2.5l-.94 2.06-2.06.94zm10 10l.94 2.06.94-2.06 2.06-.94-2.06-.94-.94-2.06-.94 2.06-2.06.94z\"/><path d=\"M17.41 7.96l-1.37-1.37c-.4-.4-.92-.59-1.43-.59-.52 0-1.04.2-1.43.59L10.3 9.45l-7.72 7.72c-.78.78-.78 2.05 0 2.83L4 21.41c.39.39.9.59 1.41.59.51 0 1.02-.2 1.41-.59l7.78-7.78 2.81-2.81c.8-.78.8-2.07 0-2.86zM5.41 20L4 18.59l7.72-7.72 1.47 1.35L5.41 20z\"/>\n",
              "  </svg>\n",
              "      </button>\n",
              "      \n",
              "  <style>\n",
              "    .colab-df-container {\n",
              "      display:flex;\n",
              "      flex-wrap:wrap;\n",
              "      gap: 12px;\n",
              "    }\n",
              "\n",
              "    .colab-df-convert {\n",
              "      background-color: #E8F0FE;\n",
              "      border: none;\n",
              "      border-radius: 50%;\n",
              "      cursor: pointer;\n",
              "      display: none;\n",
              "      fill: #1967D2;\n",
              "      height: 32px;\n",
              "      padding: 0 0 0 0;\n",
              "      width: 32px;\n",
              "    }\n",
              "\n",
              "    .colab-df-convert:hover {\n",
              "      background-color: #E2EBFA;\n",
              "      box-shadow: 0px 1px 2px rgba(60, 64, 67, 0.3), 0px 1px 3px 1px rgba(60, 64, 67, 0.15);\n",
              "      fill: #174EA6;\n",
              "    }\n",
              "\n",
              "    [theme=dark] .colab-df-convert {\n",
              "      background-color: #3B4455;\n",
              "      fill: #D2E3FC;\n",
              "    }\n",
              "\n",
              "    [theme=dark] .colab-df-convert:hover {\n",
              "      background-color: #434B5C;\n",
              "      box-shadow: 0px 1px 3px 1px rgba(0, 0, 0, 0.15);\n",
              "      filter: drop-shadow(0px 1px 2px rgba(0, 0, 0, 0.3));\n",
              "      fill: #FFFFFF;\n",
              "    }\n",
              "  </style>\n",
              "\n",
              "      <script>\n",
              "        const buttonEl =\n",
              "          document.querySelector('#df-990fd0bd-3251-4c89-b10b-61e3573bc17c button.colab-df-convert');\n",
              "        buttonEl.style.display =\n",
              "          google.colab.kernel.accessAllowed ? 'block' : 'none';\n",
              "\n",
              "        async function convertToInteractive(key) {\n",
              "          const element = document.querySelector('#df-990fd0bd-3251-4c89-b10b-61e3573bc17c');\n",
              "          const dataTable =\n",
              "            await google.colab.kernel.invokeFunction('convertToInteractive',\n",
              "                                                     [key], {});\n",
              "          if (!dataTable) return;\n",
              "\n",
              "          const docLinkHtml = 'Like what you see? Visit the ' +\n",
              "            '<a target=\"_blank\" href=https://colab.research.google.com/notebooks/data_table.ipynb>data table notebook</a>'\n",
              "            + ' to learn more about interactive tables.';\n",
              "          element.innerHTML = '';\n",
              "          dataTable['output_type'] = 'display_data';\n",
              "          await google.colab.output.renderOutput(dataTable, element);\n",
              "          const docLink = document.createElement('div');\n",
              "          docLink.innerHTML = docLinkHtml;\n",
              "          element.appendChild(docLink);\n",
              "        }\n",
              "      </script>\n",
              "    </div>\n",
              "  </div>\n",
              "  "
            ]
          },
          "metadata": {},
          "execution_count": 436
        }
      ]
    },
    {
      "cell_type": "code",
      "source": [
        "Movie.columns"
      ],
      "metadata": {
        "colab": {
          "base_uri": "https://localhost:8080/"
        },
        "id": "hAxuuMedEbrF",
        "outputId": "391f4adc-bcb2-4c14-9bb3-ab2930c23447"
      },
      "execution_count": null,
      "outputs": [
        {
          "output_type": "execute_result",
          "data": {
            "text/plain": [
              "Index(['Unnamed: 0', 'id', 'imdb_id', 'popularity', 'budget', 'revenue',\n",
              "       'original_title', 'cast', 'homepage', 'director', 'tagline', 'keywords',\n",
              "       'overview', 'runtime', 'genres', 'production_companies', 'release_date',\n",
              "       'vote_count', 'vote_average', 'release_year', 'budget_adj',\n",
              "       'revenue_adj', 'profit', 'popularity_level'],\n",
              "      dtype='object')"
            ]
          },
          "metadata": {},
          "execution_count": 437
        }
      ]
    },
    {
      "cell_type": "markdown",
      "source": [
        "---"
      ],
      "metadata": {
        "id": "hpPkIKzEFIuF"
      }
    },
    {
      "cell_type": "code",
      "source": [
        "Movie['popularity_level'].value_counts(sort=False).sort_index()\n"
      ],
      "metadata": {
        "colab": {
          "base_uri": "https://localhost:8080/"
        },
        "id": "GDbfD0ICKLqC",
        "outputId": "c0feee10-dcbb-4cec-efac-423abe638188"
      },
      "execution_count": null,
      "outputs": [
        {
          "output_type": "execute_result",
          "data": {
            "text/plain": [
              "High               322\n",
              "Low                321\n",
              "Medium             322\n",
              "Moderately High    321\n",
              "Name: popularity_level, dtype: int64"
            ]
          },
          "metadata": {},
          "execution_count": 438
        }
      ]
    },
    {
      "cell_type": "code",
      "source": [
        "Movie['runtime'].describe()"
      ],
      "metadata": {
        "colab": {
          "base_uri": "https://localhost:8080/"
        },
        "id": "alCk08SFPovV",
        "outputId": "9d01327d-9ae8-4c96-cbe1-5a2dd135e449"
      },
      "execution_count": null,
      "outputs": [
        {
          "output_type": "execute_result",
          "data": {
            "text/plain": [
              "count    1287.000000\n",
              "mean      110.273504\n",
              "std        18.811369\n",
              "min        63.000000\n",
              "25%        97.000000\n",
              "50%       107.000000\n",
              "75%       121.000000\n",
              "max       201.000000\n",
              "Name: runtime, dtype: float64"
            ]
          },
          "metadata": {},
          "execution_count": 439
        }
      ]
    },
    {
      "cell_type": "markdown",
      "source": [
        "##**informaçoes basicas do DataSet**"
      ],
      "metadata": {
        "id": "Tgck6L98b40m"
      }
    },
    {
      "cell_type": "code",
      "source": [
        "Movie.describe()"
      ],
      "metadata": {
        "colab": {
          "base_uri": "https://localhost:8080/",
          "height": 300
        },
        "id": "cL04ozd9cHXh",
        "outputId": "00fb2651-5dd5-41e2-fd06-74ca674b3eb4"
      },
      "execution_count": null,
      "outputs": [
        {
          "output_type": "execute_result",
          "data": {
            "text/plain": [
              "         Unnamed: 0             id   popularity        budget       revenue  \\\n",
              "count   1287.000000    1287.000000  1287.000000  1.287000e+03  1.287000e+03   \n",
              "mean    4125.843046   52557.491064     1.786022  5.200349e+07  1.762444e+08   \n",
              "std     2671.936574   74450.077163     2.172137  5.514540e+07  2.538156e+08   \n",
              "min        0.000000      11.000000     0.010335  1.000000e+00  4.300000e+01   \n",
              "25%     1972.000000    5851.500000     0.664783  1.400000e+07  2.565097e+07   \n",
              "50%     3523.000000   20178.000000     1.152354  3.200000e+07  8.208716e+07   \n",
              "75%     6554.500000   62209.500000     2.125342  7.000000e+07  2.140694e+08   \n",
              "max    10760.000000  333348.000000    32.985763  4.250000e+08  2.781506e+09   \n",
              "\n",
              "           runtime   vote_count  vote_average  release_year    budget_adj  \\\n",
              "count  1287.000000  1287.000000   1287.000000   1287.000000  1.287000e+03   \n",
              "mean    110.273504   947.266511      6.279487   2007.017094  5.462994e+07   \n",
              "std      18.811369  1255.476215      0.795955      8.060503  5.525463e+07   \n",
              "min      63.000000    10.000000      2.200000   1961.000000  9.693980e-01   \n",
              "25%      97.000000   179.000000      5.800000   2005.000000  1.519180e+07   \n",
              "50%     107.000000   439.000000      6.300000   2009.000000  3.556927e+07   \n",
              "75%     121.000000  1173.000000      6.800000   2011.000000  7.630125e+07   \n",
              "max     201.000000  9767.000000      8.300000   2015.000000  4.250000e+08   \n",
              "\n",
              "        revenue_adj        profit  \n",
              "count  1.287000e+03  1.287000e+03  \n",
              "mean   1.991775e+08  1.242409e+08  \n",
              "std    2.968515e+08  2.183462e+08  \n",
              "min    4.300000e+01 -4.139124e+08  \n",
              "25%    2.764890e+07  3.142641e+06  \n",
              "50%    8.674770e+07  4.524300e+07  \n",
              "75%    2.351178e+08  1.470070e+08  \n",
              "max    2.827124e+09  2.544506e+09  "
            ],
            "text/html": [
              "\n",
              "  <div id=\"df-3cf7336a-6dc9-4a17-bc12-26ae1e6bdd0a\">\n",
              "    <div class=\"colab-df-container\">\n",
              "      <div>\n",
              "<style scoped>\n",
              "    .dataframe tbody tr th:only-of-type {\n",
              "        vertical-align: middle;\n",
              "    }\n",
              "\n",
              "    .dataframe tbody tr th {\n",
              "        vertical-align: top;\n",
              "    }\n",
              "\n",
              "    .dataframe thead th {\n",
              "        text-align: right;\n",
              "    }\n",
              "</style>\n",
              "<table border=\"1\" class=\"dataframe\">\n",
              "  <thead>\n",
              "    <tr style=\"text-align: right;\">\n",
              "      <th></th>\n",
              "      <th>Unnamed: 0</th>\n",
              "      <th>id</th>\n",
              "      <th>popularity</th>\n",
              "      <th>budget</th>\n",
              "      <th>revenue</th>\n",
              "      <th>runtime</th>\n",
              "      <th>vote_count</th>\n",
              "      <th>vote_average</th>\n",
              "      <th>release_year</th>\n",
              "      <th>budget_adj</th>\n",
              "      <th>revenue_adj</th>\n",
              "      <th>profit</th>\n",
              "    </tr>\n",
              "  </thead>\n",
              "  <tbody>\n",
              "    <tr>\n",
              "      <th>count</th>\n",
              "      <td>1287.000000</td>\n",
              "      <td>1287.000000</td>\n",
              "      <td>1287.000000</td>\n",
              "      <td>1.287000e+03</td>\n",
              "      <td>1.287000e+03</td>\n",
              "      <td>1287.000000</td>\n",
              "      <td>1287.000000</td>\n",
              "      <td>1287.000000</td>\n",
              "      <td>1287.000000</td>\n",
              "      <td>1.287000e+03</td>\n",
              "      <td>1.287000e+03</td>\n",
              "      <td>1.287000e+03</td>\n",
              "    </tr>\n",
              "    <tr>\n",
              "      <th>mean</th>\n",
              "      <td>4125.843046</td>\n",
              "      <td>52557.491064</td>\n",
              "      <td>1.786022</td>\n",
              "      <td>5.200349e+07</td>\n",
              "      <td>1.762444e+08</td>\n",
              "      <td>110.273504</td>\n",
              "      <td>947.266511</td>\n",
              "      <td>6.279487</td>\n",
              "      <td>2007.017094</td>\n",
              "      <td>5.462994e+07</td>\n",
              "      <td>1.991775e+08</td>\n",
              "      <td>1.242409e+08</td>\n",
              "    </tr>\n",
              "    <tr>\n",
              "      <th>std</th>\n",
              "      <td>2671.936574</td>\n",
              "      <td>74450.077163</td>\n",
              "      <td>2.172137</td>\n",
              "      <td>5.514540e+07</td>\n",
              "      <td>2.538156e+08</td>\n",
              "      <td>18.811369</td>\n",
              "      <td>1255.476215</td>\n",
              "      <td>0.795955</td>\n",
              "      <td>8.060503</td>\n",
              "      <td>5.525463e+07</td>\n",
              "      <td>2.968515e+08</td>\n",
              "      <td>2.183462e+08</td>\n",
              "    </tr>\n",
              "    <tr>\n",
              "      <th>min</th>\n",
              "      <td>0.000000</td>\n",
              "      <td>11.000000</td>\n",
              "      <td>0.010335</td>\n",
              "      <td>1.000000e+00</td>\n",
              "      <td>4.300000e+01</td>\n",
              "      <td>63.000000</td>\n",
              "      <td>10.000000</td>\n",
              "      <td>2.200000</td>\n",
              "      <td>1961.000000</td>\n",
              "      <td>9.693980e-01</td>\n",
              "      <td>4.300000e+01</td>\n",
              "      <td>-4.139124e+08</td>\n",
              "    </tr>\n",
              "    <tr>\n",
              "      <th>25%</th>\n",
              "      <td>1972.000000</td>\n",
              "      <td>5851.500000</td>\n",
              "      <td>0.664783</td>\n",
              "      <td>1.400000e+07</td>\n",
              "      <td>2.565097e+07</td>\n",
              "      <td>97.000000</td>\n",
              "      <td>179.000000</td>\n",
              "      <td>5.800000</td>\n",
              "      <td>2005.000000</td>\n",
              "      <td>1.519180e+07</td>\n",
              "      <td>2.764890e+07</td>\n",
              "      <td>3.142641e+06</td>\n",
              "    </tr>\n",
              "    <tr>\n",
              "      <th>50%</th>\n",
              "      <td>3523.000000</td>\n",
              "      <td>20178.000000</td>\n",
              "      <td>1.152354</td>\n",
              "      <td>3.200000e+07</td>\n",
              "      <td>8.208716e+07</td>\n",
              "      <td>107.000000</td>\n",
              "      <td>439.000000</td>\n",
              "      <td>6.300000</td>\n",
              "      <td>2009.000000</td>\n",
              "      <td>3.556927e+07</td>\n",
              "      <td>8.674770e+07</td>\n",
              "      <td>4.524300e+07</td>\n",
              "    </tr>\n",
              "    <tr>\n",
              "      <th>75%</th>\n",
              "      <td>6554.500000</td>\n",
              "      <td>62209.500000</td>\n",
              "      <td>2.125342</td>\n",
              "      <td>7.000000e+07</td>\n",
              "      <td>2.140694e+08</td>\n",
              "      <td>121.000000</td>\n",
              "      <td>1173.000000</td>\n",
              "      <td>6.800000</td>\n",
              "      <td>2011.000000</td>\n",
              "      <td>7.630125e+07</td>\n",
              "      <td>2.351178e+08</td>\n",
              "      <td>1.470070e+08</td>\n",
              "    </tr>\n",
              "    <tr>\n",
              "      <th>max</th>\n",
              "      <td>10760.000000</td>\n",
              "      <td>333348.000000</td>\n",
              "      <td>32.985763</td>\n",
              "      <td>4.250000e+08</td>\n",
              "      <td>2.781506e+09</td>\n",
              "      <td>201.000000</td>\n",
              "      <td>9767.000000</td>\n",
              "      <td>8.300000</td>\n",
              "      <td>2015.000000</td>\n",
              "      <td>4.250000e+08</td>\n",
              "      <td>2.827124e+09</td>\n",
              "      <td>2.544506e+09</td>\n",
              "    </tr>\n",
              "  </tbody>\n",
              "</table>\n",
              "</div>\n",
              "      <button class=\"colab-df-convert\" onclick=\"convertToInteractive('df-3cf7336a-6dc9-4a17-bc12-26ae1e6bdd0a')\"\n",
              "              title=\"Convert this dataframe to an interactive table.\"\n",
              "              style=\"display:none;\">\n",
              "        \n",
              "  <svg xmlns=\"http://www.w3.org/2000/svg\" height=\"24px\"viewBox=\"0 0 24 24\"\n",
              "       width=\"24px\">\n",
              "    <path d=\"M0 0h24v24H0V0z\" fill=\"none\"/>\n",
              "    <path d=\"M18.56 5.44l.94 2.06.94-2.06 2.06-.94-2.06-.94-.94-2.06-.94 2.06-2.06.94zm-11 1L8.5 8.5l.94-2.06 2.06-.94-2.06-.94L8.5 2.5l-.94 2.06-2.06.94zm10 10l.94 2.06.94-2.06 2.06-.94-2.06-.94-.94-2.06-.94 2.06-2.06.94z\"/><path d=\"M17.41 7.96l-1.37-1.37c-.4-.4-.92-.59-1.43-.59-.52 0-1.04.2-1.43.59L10.3 9.45l-7.72 7.72c-.78.78-.78 2.05 0 2.83L4 21.41c.39.39.9.59 1.41.59.51 0 1.02-.2 1.41-.59l7.78-7.78 2.81-2.81c.8-.78.8-2.07 0-2.86zM5.41 20L4 18.59l7.72-7.72 1.47 1.35L5.41 20z\"/>\n",
              "  </svg>\n",
              "      </button>\n",
              "      \n",
              "  <style>\n",
              "    .colab-df-container {\n",
              "      display:flex;\n",
              "      flex-wrap:wrap;\n",
              "      gap: 12px;\n",
              "    }\n",
              "\n",
              "    .colab-df-convert {\n",
              "      background-color: #E8F0FE;\n",
              "      border: none;\n",
              "      border-radius: 50%;\n",
              "      cursor: pointer;\n",
              "      display: none;\n",
              "      fill: #1967D2;\n",
              "      height: 32px;\n",
              "      padding: 0 0 0 0;\n",
              "      width: 32px;\n",
              "    }\n",
              "\n",
              "    .colab-df-convert:hover {\n",
              "      background-color: #E2EBFA;\n",
              "      box-shadow: 0px 1px 2px rgba(60, 64, 67, 0.3), 0px 1px 3px 1px rgba(60, 64, 67, 0.15);\n",
              "      fill: #174EA6;\n",
              "    }\n",
              "\n",
              "    [theme=dark] .colab-df-convert {\n",
              "      background-color: #3B4455;\n",
              "      fill: #D2E3FC;\n",
              "    }\n",
              "\n",
              "    [theme=dark] .colab-df-convert:hover {\n",
              "      background-color: #434B5C;\n",
              "      box-shadow: 0px 1px 3px 1px rgba(0, 0, 0, 0.15);\n",
              "      filter: drop-shadow(0px 1px 2px rgba(0, 0, 0, 0.3));\n",
              "      fill: #FFFFFF;\n",
              "    }\n",
              "  </style>\n",
              "\n",
              "      <script>\n",
              "        const buttonEl =\n",
              "          document.querySelector('#df-3cf7336a-6dc9-4a17-bc12-26ae1e6bdd0a button.colab-df-convert');\n",
              "        buttonEl.style.display =\n",
              "          google.colab.kernel.accessAllowed ? 'block' : 'none';\n",
              "\n",
              "        async function convertToInteractive(key) {\n",
              "          const element = document.querySelector('#df-3cf7336a-6dc9-4a17-bc12-26ae1e6bdd0a');\n",
              "          const dataTable =\n",
              "            await google.colab.kernel.invokeFunction('convertToInteractive',\n",
              "                                                     [key], {});\n",
              "          if (!dataTable) return;\n",
              "\n",
              "          const docLinkHtml = 'Like what you see? Visit the ' +\n",
              "            '<a target=\"_blank\" href=https://colab.research.google.com/notebooks/data_table.ipynb>data table notebook</a>'\n",
              "            + ' to learn more about interactive tables.';\n",
              "          element.innerHTML = '';\n",
              "          dataTable['output_type'] = 'display_data';\n",
              "          await google.colab.output.renderOutput(dataTable, element);\n",
              "          const docLink = document.createElement('div');\n",
              "          docLink.innerHTML = docLinkHtml;\n",
              "          element.appendChild(docLink);\n",
              "        }\n",
              "      </script>\n",
              "    </div>\n",
              "  </div>\n",
              "  "
            ]
          },
          "metadata": {},
          "execution_count": 440
        }
      ]
    },
    {
      "cell_type": "code",
      "source": [
        "Movie.var()"
      ],
      "metadata": {
        "colab": {
          "base_uri": "https://localhost:8080/"
        },
        "id": "yTBWjMSOrIIM",
        "outputId": "02278788-1a48-40f4-a971-62c594a930e3"
      },
      "execution_count": null,
      "outputs": [
        {
          "output_type": "stream",
          "name": "stderr",
          "text": [
            "<ipython-input-441-70bd7607e038>:1: FutureWarning:\n",
            "\n",
            "The default value of numeric_only in DataFrame.var is deprecated. In a future version, it will default to False. In addition, specifying 'numeric_only=None' is deprecated. Select only valid columns or specify the value of numeric_only to silence this warning.\n",
            "\n"
          ]
        },
        {
          "output_type": "execute_result",
          "data": {
            "text/plain": [
              "Unnamed: 0      7.139245e+06\n",
              "id              5.542814e+09\n",
              "popularity      4.718179e+00\n",
              "budget          3.041016e+15\n",
              "revenue         6.442235e+16\n",
              "runtime         3.538676e+02\n",
              "vote_count      1.576221e+06\n",
              "vote_average    6.335447e-01\n",
              "release_year    6.497171e+01\n",
              "budget_adj      3.053074e+15\n",
              "revenue_adj     8.812079e+16\n",
              "profit          4.767506e+16\n",
              "dtype: float64"
            ]
          },
          "metadata": {},
          "execution_count": 441
        }
      ]
    },
    {
      "cell_type": "markdown",
      "source": [
        "##**Probabilidade Simples**\n",
        "Vejamos as seguintes probabilidades:\n",
        "\n",
        "Qual a probabilidade do filme ter um nivel de popularidade alto?\n",
        "\n",
        "Qual a probabilidade do filme ter mais de duas horas de duração(120min) ?\n"
      ],
      "metadata": {
        "id": "97ZcoLWBQIDb"
      }
    },
    {
      "cell_type": "code",
      "source": [
        "qtHigh = len(Movie[Movie['popularity_level'] == \"High\"])\n",
        "probHigh = round((qtHigh)/len(Movie) , 5)\n",
        "print(\"Total de filmes avaliados com High é:\" + str(qtHigh))\n",
        "print(\"\\nA probabilidade de um filme ser muito popular (High) é: \" + str(probHigh*100) + \"%\")"
      ],
      "metadata": {
        "colab": {
          "base_uri": "https://localhost:8080/"
        },
        "id": "bIeJN_NPGlz3",
        "outputId": "a6a2cd0e-7e3a-402d-f2e7-ec02bcf1c6c2"
      },
      "execution_count": null,
      "outputs": [
        {
          "output_type": "stream",
          "name": "stdout",
          "text": [
            "Total de filmes avaliados com High é:322\n",
            "\n",
            "A probabilidade de um filme ser muito popular (High) é: 25.019000000000002%\n"
          ]
        }
      ]
    },
    {
      "cell_type": "code",
      "source": [
        "qtTempos120 = len(Movie[Movie['runtime'] >= 120])\n",
        "\n",
        "probTempos120 = round((qtTempos120)/len(Movie) , 4)\n",
        "\n",
        "#print('A probabilidade de X é igual a: '+ str(qt*100) + '%')\n",
        "print(\"O Total defilmes com pelo menos 120 minutos de duração é: \" + str(qtTempos120))\n",
        "print(\"\\nA probabilidade de um filme ter 120 minutos ou mais é: \" + str(probTempos120 * 100) + '%')"
      ],
      "metadata": {
        "colab": {
          "base_uri": "https://localhost:8080/"
        },
        "id": "LDzvq7lCqve-",
        "outputId": "c11b9762-3241-4e8b-e77d-3b274af20e1d"
      },
      "execution_count": null,
      "outputs": [
        {
          "output_type": "stream",
          "name": "stdout",
          "text": [
            "O Total defilmes com pelo menos 120 minutos de duração é: 346\n",
            "\n",
            "A probabilidade de um filme ter 120 minutos ou mais é: 26.88%\n"
          ]
        }
      ]
    },
    {
      "cell_type": "markdown",
      "source": [
        "##**Probabilidade Da União**\n",
        "\n",
        "Qual a probabilidade do filme ter sido popular (High ou Moderately High)?"
      ],
      "metadata": {
        "id": "96GJ7Lov8nKw"
      }
    },
    {
      "cell_type": "code",
      "source": [
        "qtHigh_MHigh = len(Movie[(Movie['popularity_level'] =='High') | (Movie['popularity_level'] =='Moderately High')])\n",
        "\n",
        "prob_qtHigh_MHigh = round(qtHigh_MHigh/len(Movie), 4)\n",
        "\n",
        "print(\"A probabilidade de um filme ser popular avaliado como High ou Moderately High é de:\" +str(prob_qtHigh_MHigh*100) + \"%.\")"
      ],
      "metadata": {
        "colab": {
          "base_uri": "https://localhost:8080/"
        },
        "id": "y-t7qMSeaICt",
        "outputId": "5656f8b3-4c6b-435e-ed72-c47f4e9a3699"
      },
      "execution_count": null,
      "outputs": [
        {
          "output_type": "stream",
          "name": "stdout",
          "text": [
            "A probabilidade de um filme ser popular avaliado como High ou Moderately High é de:49.96%.\n"
          ]
        }
      ]
    },
    {
      "cell_type": "markdown",
      "source": [
        "##**Probabilidade da Intersecção**\n",
        "\n",
        "qual a probabilideade de um filme ser popular(High ou Moderately High) e ter pelo menos 120 minutos de duração?"
      ],
      "metadata": {
        "id": "mKdmndyKXu18"
      }
    },
    {
      "cell_type": "code",
      "source": [
        "BemAvE2H = len(Movie[ ((Movie['popularity_level'] == 'High') | (Movie['popularity_level'] == 'Moderately High')) & (Movie['runtime'] >= 120) ])\n",
        "prob_BemAvE2H = round(BemAvE2H/len(Movie) , 4)\n",
        "\n",
        "print(\"A probabilideade de um filme ser popular(High ou Moderately High) e ter 120 minutos de duração é:\" + str(prob_BemAvE2H*100) +\"%\")"
      ],
      "metadata": {
        "colab": {
          "base_uri": "https://localhost:8080/"
        },
        "id": "o--fnHXy7OMQ",
        "outputId": "4d9624ca-751b-4f17-e351-627fb4c8ec49"
      },
      "execution_count": null,
      "outputs": [
        {
          "output_type": "stream",
          "name": "stdout",
          "text": [
            "A probabilideade de um filme ser popular(High ou Moderately High) e ter 120 minutos de duração é:17.95%\n"
          ]
        }
      ]
    },
    {
      "cell_type": "markdown",
      "source": [
        "##**Probabilidade do Complemento**\n",
        "\n",
        "Qual a probabilidade de um filme popular(High e Mod. High) ter menos de 2 horas?"
      ],
      "metadata": {
        "id": "AUtvuweiZbat"
      }
    },
    {
      "cell_type": "code",
      "source": [
        "BemeM2h =  qtHigh_MHigh - BemAvE2H\n",
        "prob_BemeMenos2h = prob_qtHigh_MHigh - prob_BemAvE2H\n",
        "\n",
        "print(\"A probabilidade de um filme bem avaliado ter menos de duas horas é: \" + str(prob_BemeMenos2h * 100) + \"%\")"
      ],
      "metadata": {
        "colab": {
          "base_uri": "https://localhost:8080/"
        },
        "id": "tTXsYUrTBPsY",
        "outputId": "5f1211d7-f01b-4b86-92f0-c78377520c42"
      },
      "execution_count": null,
      "outputs": [
        {
          "output_type": "stream",
          "name": "stdout",
          "text": [
            "A probabilidade de um filme bem avaliado ter menos de duas horas é: 32.01%\n"
          ]
        }
      ]
    },
    {
      "cell_type": "markdown",
      "source": [
        "##**Probabilidade da Diferença**\n",
        "\n",
        "qual a probabilidade de um filme pertencer ao conjunto dos populares mas não ser de um ano depois de 2008?\n"
      ],
      "metadata": {
        "id": "cQhbD8LEa1dt"
      }
    },
    {
      "cell_type": "code",
      "source": [
        "BemAv_antes2008 = len(Movie[ ((Movie['popularity_level'] == 'High') | (Movie['popularity_level'] == 'Moderately High')) & (Movie['release_year'] < 2008) ])\n",
        "\n",
        "prob_BemAv_antes2008 = round(BemAv_antes2008 / len(Movie), 4)\n",
        "\n",
        "\n",
        "print(\"A probabilidade de um filme ser bem avaliado mas não ter sido lançado depois de 2008 é de \" + str(prob_BemAv_antes2008 *100 ) + \"%\" )"
      ],
      "metadata": {
        "colab": {
          "base_uri": "https://localhost:8080/"
        },
        "id": "zwfhNikzLARN",
        "outputId": "a9b8606f-a925-4d35-fd1c-8e87015f6050"
      },
      "execution_count": null,
      "outputs": [
        {
          "output_type": "stream",
          "name": "stdout",
          "text": [
            "A probabilidade de um filme ser bem avaliado mas não ter sido lançado depois de 2008 é de 18.65%\n"
          ]
        }
      ]
    },
    {
      "cell_type": "markdown",
      "source": [
        "##**Probabilidade Condicional**\n",
        "\n",
        "qual a probabilidade de um filme ser de 2005 sabendo que ele é bem populare foi feito antes de 2008"
      ],
      "metadata": {
        "id": "SAHOfveHuPzl"
      }
    },
    {
      "cell_type": "code",
      "source": [
        "Filme2005 = len(Movie[Movie['release_year'] == 2005])\n",
        "ProbFilme2005 = round(Filme2005/len(Movie), 4)\n",
        "\n",
        "ProbCond = round(prob_BemAv_antes2008/ProbFilme2005, 4)\n",
        "\n",
        "print(\"A probabilidade de um filme ser de 2005 sabendo que ele é popular e foi feito antes de 2008 é de \" +str(ProbCond) + \"%\")"
      ],
      "metadata": {
        "colab": {
          "base_uri": "https://localhost:8080/"
        },
        "id": "F6ot31_0qI06",
        "outputId": "0a46cbfe-401c-4ba6-ffd7-9584cee8b204"
      },
      "execution_count": null,
      "outputs": [
        {
          "output_type": "stream",
          "name": "stdout",
          "text": [
            "A probabilidade de um filme ser de 2005 sabendo que ele é popular e foi feito antes de 2008 é de 4.7096%\n"
          ]
        }
      ]
    },
    {
      "cell_type": "markdown",
      "source": [
        "##**Teorema de Bayes**\n",
        "\n",
        "Qual a probabilidade um filme ser bem popular(high e Moderately High) tal que ele foi feito em 2007?"
      ],
      "metadata": {
        "id": "OZr9IRpYer6L"
      }
    },
    {
      "cell_type": "code",
      "source": [
        "#para esse problema precisamos de: a probabilidade de um filme ter sido feito em 2007 e ter sido classificado como High ou Moderately High ( o que chamaremos de caso favorável completo) no numerador\n",
        "#dividido por caso favoravel completo + probabilidade de filmes produzidos em 2007 que possuem a classificação de Low + a prob de filmes produzidos em 2007 classificados como mediummd + a probabilidade dos filmes que não foram feitos em 2007 bons e ruins\n",
        "\n",
        "filmes2007 = len(Movie[Movie['release_year'] == 2007])\n",
        "prob_filme2007 = round(filmes2007/len(Movie), 4)\n",
        "\n",
        "High2007 = len(Movie[ (Movie['release_year'] == 2007) & ((Movie['popularity_level'] == 'High') | (Movie['popularity_level'] == 'Moderately High') )  ])\n",
        "\n",
        "prob_High2007 = round((High2007/filmes2007), 4)\n",
        "\n",
        "Mid2007 = len(Movie[ (Movie['release_year'] == 2007) & (Movie['popularity_level'] == 'Medium') ])\n",
        "\n",
        "prob_Mid2007 = round((Mid2007/filmes2007), 4)\n",
        "\n",
        "Low2007 = len(Movie[ (Movie['release_year'] == 2007) & (Movie['popularity_level'] == 'Low') ])\n",
        "\n",
        "prob_Low2007 = round((Low2007/filmes2007), 4)\n",
        "\n",
        "highNao2007 = len(Movie[ (Movie['release_year'] != 2007) & ((Movie['popularity_level'] == 'High') | (Movie['popularity_level'] == 'Moderately High') )  ])\n",
        "\n",
        "prob_highNao2007 = round(highNao2007/len(Movie), 4)\n",
        "\n",
        "LowNao2007 = len(Movie[ (Movie['release_year'] != 2007) & (Movie['popularity_level'] == 'Low') ])\n",
        "\n",
        "prob_LowNao2007 = round(LowNao2007 / len(Movie), 4)\n",
        "\n",
        "MidNao2007 = len(Movie[ (Movie['release_year'] != 2007) & (Movie['popularity_level'] == 'Medium') ])\n",
        "\n",
        "prob_MidNao2007 = round(MidNao2007 / len(Movie), 4)\n",
        "\n",
        "favoravel_completo = (prob_filme2007 * prob_High2007)\n",
        "\n",
        "Prob_Beyes = round(favoravel_completo / favoravel_completo + prob_Mid2007 + prob_Low2007 + prob_highNao2007 + prob_MidNao2007 + prob_LowNao2007)\n",
        "\n",
        "print(\"A probabilidade de Beyes que envolve os filmes serem de 2007 e serem populares é: \" +str(Prob_Beyes) + \"%\")"
      ],
      "metadata": {
        "colab": {
          "base_uri": "https://localhost:8080/"
        },
        "id": "T-ssy5BcuzYn",
        "outputId": "f7a95039-6e6e-426b-8b08-61fd861c7a2b"
      },
      "execution_count": null,
      "outputs": [
        {
          "output_type": "stream",
          "name": "stdout",
          "text": [
            "A probabilidade de Beyes que envolve os filmes serem de 2007 e serem populares é: 3%\n"
          ]
        }
      ]
    },
    {
      "cell_type": "markdown",
      "source": [
        "(para este calculo da probabilidade de Bayes eu fiz tanto da maneira mostrada no slide de referencia(titanic) como na maneira aprendida em aula e as duas alternativas deram o mesmo resultado)"
      ],
      "metadata": {
        "id": "8-SC-fWLqFWO"
      }
    },
    {
      "cell_type": "markdown",
      "source": [
        "##**Variáveis Aleatórias**"
      ],
      "metadata": {
        "id": "fRWfNzb2g40N"
      }
    },
    {
      "cell_type": "markdown",
      "source": [
        "Primeiramente vamos fazer uma limpesa de dados que não serão mais utilizadoa a partir daqui:\n"
      ],
      "metadata": {
        "id": "Ae4vHz-w5w9D"
      }
    },
    {
      "cell_type": "code",
      "source": [
        "Movie.columns"
      ],
      "metadata": {
        "colab": {
          "base_uri": "https://localhost:8080/"
        },
        "id": "WsPE2yNQ5_YX",
        "outputId": "de3bed6e-0a45-427d-a2fb-15515509f621"
      },
      "execution_count": null,
      "outputs": [
        {
          "output_type": "execute_result",
          "data": {
            "text/plain": [
              "Index(['Unnamed: 0', 'id', 'imdb_id', 'popularity', 'budget', 'revenue',\n",
              "       'original_title', 'cast', 'homepage', 'director', 'tagline', 'keywords',\n",
              "       'overview', 'runtime', 'genres', 'production_companies', 'release_date',\n",
              "       'vote_count', 'vote_average', 'release_year', 'budget_adj',\n",
              "       'revenue_adj', 'profit', 'popularity_level'],\n",
              "      dtype='object')"
            ]
          },
          "metadata": {},
          "execution_count": 450
        }
      ]
    },
    {
      "cell_type": "code",
      "source": [
        "Movie.columns"
      ],
      "metadata": {
        "colab": {
          "base_uri": "https://localhost:8080/"
        },
        "id": "t4uIx0ht6av4",
        "outputId": "79a87c06-abd2-4edc-fc85-f39b4b364f40"
      },
      "execution_count": null,
      "outputs": [
        {
          "output_type": "execute_result",
          "data": {
            "text/plain": [
              "Index(['Unnamed: 0', 'id', 'imdb_id', 'popularity', 'budget', 'revenue',\n",
              "       'original_title', 'cast', 'homepage', 'director', 'tagline', 'keywords',\n",
              "       'overview', 'runtime', 'genres', 'production_companies', 'release_date',\n",
              "       'vote_count', 'vote_average', 'release_year', 'budget_adj',\n",
              "       'revenue_adj', 'profit', 'popularity_level'],\n",
              "      dtype='object')"
            ]
          },
          "metadata": {},
          "execution_count": 451
        }
      ]
    },
    {
      "cell_type": "code",
      "source": [
        "Movie.drop(['Unnamed: 0', 'id', 'imdb_id', 'budget', 'revenue',\n",
        "            'cast', 'homepage', 'director', 'tagline', 'keywords',\n",
        "       'overview', 'genres', 'production_companies', 'release_date',\n",
        "        'release_year', 'budget_adj',\n",
        "       'revenue_adj', 'profit', ], axis=1, inplace=True)"
      ],
      "metadata": {
        "id": "biglkejJ7BMR"
      },
      "execution_count": null,
      "outputs": []
    },
    {
      "cell_type": "code",
      "source": [
        "#adicionar coluna 'Potencial_classic'\n",
        "Movie['Potencial_classic'] = 0"
      ],
      "metadata": {
        "id": "_MEESau--Q_X"
      },
      "execution_count": null,
      "outputs": []
    },
    {
      "cell_type": "code",
      "source": [
        "Movie.head(5)"
      ],
      "metadata": {
        "colab": {
          "base_uri": "https://localhost:8080/"
        },
        "id": "JQ9s7pI-6ctM",
        "outputId": "7e9e6e42-7796-412c-c31b-687d5d464e7b"
      },
      "execution_count": null,
      "outputs": [
        {
          "output_type": "execute_result",
          "data": {
            "text/plain": [
              "   popularity                original_title  runtime  vote_count  \\\n",
              "0   32.985763                Jurassic World      124        5562   \n",
              "1   28.419936            Mad Max: Fury Road      120        6185   \n",
              "2   13.112507                     Insurgent      119        2480   \n",
              "3   11.173104  Star Wars: The Force Awakens      136        5292   \n",
              "4    9.335014                     Furious 7      137        2947   \n",
              "\n",
              "   vote_average popularity_level  Potencial_classic  \n",
              "0           6.5             High                  0  \n",
              "1           7.1             High                  0  \n",
              "2           6.3             High                  0  \n",
              "3           7.5             High                  0  \n",
              "4           7.3             High                  0  "
            ],
            "text/html": [
              "\n",
              "  <div id=\"df-40650289-9b71-45f4-afa6-f70cc45983cc\">\n",
              "    <div class=\"colab-df-container\">\n",
              "      <div>\n",
              "<style scoped>\n",
              "    .dataframe tbody tr th:only-of-type {\n",
              "        vertical-align: middle;\n",
              "    }\n",
              "\n",
              "    .dataframe tbody tr th {\n",
              "        vertical-align: top;\n",
              "    }\n",
              "\n",
              "    .dataframe thead th {\n",
              "        text-align: right;\n",
              "    }\n",
              "</style>\n",
              "<table border=\"1\" class=\"dataframe\">\n",
              "  <thead>\n",
              "    <tr style=\"text-align: right;\">\n",
              "      <th></th>\n",
              "      <th>popularity</th>\n",
              "      <th>original_title</th>\n",
              "      <th>runtime</th>\n",
              "      <th>vote_count</th>\n",
              "      <th>vote_average</th>\n",
              "      <th>popularity_level</th>\n",
              "      <th>Potencial_classic</th>\n",
              "    </tr>\n",
              "  </thead>\n",
              "  <tbody>\n",
              "    <tr>\n",
              "      <th>0</th>\n",
              "      <td>32.985763</td>\n",
              "      <td>Jurassic World</td>\n",
              "      <td>124</td>\n",
              "      <td>5562</td>\n",
              "      <td>6.5</td>\n",
              "      <td>High</td>\n",
              "      <td>0</td>\n",
              "    </tr>\n",
              "    <tr>\n",
              "      <th>1</th>\n",
              "      <td>28.419936</td>\n",
              "      <td>Mad Max: Fury Road</td>\n",
              "      <td>120</td>\n",
              "      <td>6185</td>\n",
              "      <td>7.1</td>\n",
              "      <td>High</td>\n",
              "      <td>0</td>\n",
              "    </tr>\n",
              "    <tr>\n",
              "      <th>2</th>\n",
              "      <td>13.112507</td>\n",
              "      <td>Insurgent</td>\n",
              "      <td>119</td>\n",
              "      <td>2480</td>\n",
              "      <td>6.3</td>\n",
              "      <td>High</td>\n",
              "      <td>0</td>\n",
              "    </tr>\n",
              "    <tr>\n",
              "      <th>3</th>\n",
              "      <td>11.173104</td>\n",
              "      <td>Star Wars: The Force Awakens</td>\n",
              "      <td>136</td>\n",
              "      <td>5292</td>\n",
              "      <td>7.5</td>\n",
              "      <td>High</td>\n",
              "      <td>0</td>\n",
              "    </tr>\n",
              "    <tr>\n",
              "      <th>4</th>\n",
              "      <td>9.335014</td>\n",
              "      <td>Furious 7</td>\n",
              "      <td>137</td>\n",
              "      <td>2947</td>\n",
              "      <td>7.3</td>\n",
              "      <td>High</td>\n",
              "      <td>0</td>\n",
              "    </tr>\n",
              "  </tbody>\n",
              "</table>\n",
              "</div>\n",
              "      <button class=\"colab-df-convert\" onclick=\"convertToInteractive('df-40650289-9b71-45f4-afa6-f70cc45983cc')\"\n",
              "              title=\"Convert this dataframe to an interactive table.\"\n",
              "              style=\"display:none;\">\n",
              "        \n",
              "  <svg xmlns=\"http://www.w3.org/2000/svg\" height=\"24px\"viewBox=\"0 0 24 24\"\n",
              "       width=\"24px\">\n",
              "    <path d=\"M0 0h24v24H0V0z\" fill=\"none\"/>\n",
              "    <path d=\"M18.56 5.44l.94 2.06.94-2.06 2.06-.94-2.06-.94-.94-2.06-.94 2.06-2.06.94zm-11 1L8.5 8.5l.94-2.06 2.06-.94-2.06-.94L8.5 2.5l-.94 2.06-2.06.94zm10 10l.94 2.06.94-2.06 2.06-.94-2.06-.94-.94-2.06-.94 2.06-2.06.94z\"/><path d=\"M17.41 7.96l-1.37-1.37c-.4-.4-.92-.59-1.43-.59-.52 0-1.04.2-1.43.59L10.3 9.45l-7.72 7.72c-.78.78-.78 2.05 0 2.83L4 21.41c.39.39.9.59 1.41.59.51 0 1.02-.2 1.41-.59l7.78-7.78 2.81-2.81c.8-.78.8-2.07 0-2.86zM5.41 20L4 18.59l7.72-7.72 1.47 1.35L5.41 20z\"/>\n",
              "  </svg>\n",
              "      </button>\n",
              "      \n",
              "  <style>\n",
              "    .colab-df-container {\n",
              "      display:flex;\n",
              "      flex-wrap:wrap;\n",
              "      gap: 12px;\n",
              "    }\n",
              "\n",
              "    .colab-df-convert {\n",
              "      background-color: #E8F0FE;\n",
              "      border: none;\n",
              "      border-radius: 50%;\n",
              "      cursor: pointer;\n",
              "      display: none;\n",
              "      fill: #1967D2;\n",
              "      height: 32px;\n",
              "      padding: 0 0 0 0;\n",
              "      width: 32px;\n",
              "    }\n",
              "\n",
              "    .colab-df-convert:hover {\n",
              "      background-color: #E2EBFA;\n",
              "      box-shadow: 0px 1px 2px rgba(60, 64, 67, 0.3), 0px 1px 3px 1px rgba(60, 64, 67, 0.15);\n",
              "      fill: #174EA6;\n",
              "    }\n",
              "\n",
              "    [theme=dark] .colab-df-convert {\n",
              "      background-color: #3B4455;\n",
              "      fill: #D2E3FC;\n",
              "    }\n",
              "\n",
              "    [theme=dark] .colab-df-convert:hover {\n",
              "      background-color: #434B5C;\n",
              "      box-shadow: 0px 1px 3px 1px rgba(0, 0, 0, 0.15);\n",
              "      filter: drop-shadow(0px 1px 2px rgba(0, 0, 0, 0.3));\n",
              "      fill: #FFFFFF;\n",
              "    }\n",
              "  </style>\n",
              "\n",
              "      <script>\n",
              "        const buttonEl =\n",
              "          document.querySelector('#df-40650289-9b71-45f4-afa6-f70cc45983cc button.colab-df-convert');\n",
              "        buttonEl.style.display =\n",
              "          google.colab.kernel.accessAllowed ? 'block' : 'none';\n",
              "\n",
              "        async function convertToInteractive(key) {\n",
              "          const element = document.querySelector('#df-40650289-9b71-45f4-afa6-f70cc45983cc');\n",
              "          const dataTable =\n",
              "            await google.colab.kernel.invokeFunction('convertToInteractive',\n",
              "                                                     [key], {});\n",
              "          if (!dataTable) return;\n",
              "\n",
              "          const docLinkHtml = 'Like what you see? Visit the ' +\n",
              "            '<a target=\"_blank\" href=https://colab.research.google.com/notebooks/data_table.ipynb>data table notebook</a>'\n",
              "            + ' to learn more about interactive tables.';\n",
              "          element.innerHTML = '';\n",
              "          dataTable['output_type'] = 'display_data';\n",
              "          await google.colab.output.renderOutput(dataTable, element);\n",
              "          const docLink = document.createElement('div');\n",
              "          docLink.innerHTML = docLinkHtml;\n",
              "          element.appendChild(docLink);\n",
              "        }\n",
              "      </script>\n",
              "    </div>\n",
              "  </div>\n",
              "  "
            ]
          },
          "metadata": {},
          "execution_count": 454
        }
      ]
    },
    {
      "cell_type": "code",
      "source": [
        "Movie.columns\n"
      ],
      "metadata": {
        "colab": {
          "base_uri": "https://localhost:8080/"
        },
        "id": "AK1NYhC1CQ0D",
        "outputId": "0b9c93f6-f138-4f4c-fcb6-a44527c214de"
      },
      "execution_count": null,
      "outputs": [
        {
          "output_type": "execute_result",
          "data": {
            "text/plain": [
              "Index(['popularity', 'original_title', 'runtime', 'vote_count', 'vote_average',\n",
              "       'popularity_level', 'Potencial_classic'],\n",
              "      dtype='object')"
            ]
          },
          "metadata": {},
          "execution_count": 455
        }
      ]
    },
    {
      "cell_type": "code",
      "source": [
        "Movie['vote_average'].value_counts(sort=False).sort_index()"
      ],
      "metadata": {
        "colab": {
          "base_uri": "https://localhost:8080/"
        },
        "id": "p4AZHXq_k00v",
        "outputId": "111087c8-4ffe-477e-acb8-a63685fb97d7"
      },
      "execution_count": null,
      "outputs": [
        {
          "output_type": "execute_result",
          "data": {
            "text/plain": [
              "2.2     1\n",
              "3.3     1\n",
              "3.4     1\n",
              "3.8     4\n",
              "3.9     2\n",
              "4.0     1\n",
              "4.2     3\n",
              "4.3     2\n",
              "4.4     7\n",
              "4.5     5\n",
              "4.6     6\n",
              "4.7     6\n",
              "4.8     8\n",
              "4.9    12\n",
              "5.0    11\n",
              "5.1    18\n",
              "5.2    33\n",
              "5.3    30\n",
              "5.4    23\n",
              "5.5    46\n",
              "5.6    44\n",
              "5.7    46\n",
              "5.8    58\n",
              "5.9    65\n",
              "6.0    62\n",
              "6.1    62\n",
              "6.2    62\n",
              "6.3    65\n",
              "6.4    58\n",
              "6.5    69\n",
              "6.6    61\n",
              "6.7    53\n",
              "6.8    47\n",
              "6.9    59\n",
              "7.0    43\n",
              "7.1    35\n",
              "7.2    30\n",
              "7.3    36\n",
              "7.4    17\n",
              "7.5    20\n",
              "7.6    25\n",
              "7.7    14\n",
              "7.8    14\n",
              "7.9     9\n",
              "8.0     8\n",
              "8.1     3\n",
              "8.2     1\n",
              "8.3     1\n",
              "Name: vote_average, dtype: int64"
            ]
          },
          "metadata": {},
          "execution_count": 456
        }
      ]
    },
    {
      "cell_type": "markdown",
      "source": [
        "A analise será apartir da mediana de 'vote_average'"
      ],
      "metadata": {
        "id": "2nHTqfaD7SO-"
      }
    },
    {
      "cell_type": "code",
      "source": [
        "Media_votes = Movie['vote_average'].median()\n",
        "print(str(Media_votes))"
      ],
      "metadata": {
        "colab": {
          "base_uri": "https://localhost:8080/"
        },
        "id": "kS41PqHkpKPg",
        "outputId": "34d14593-70c9-4652-adc0-1538a7afa7cf"
      },
      "execution_count": null,
      "outputs": [
        {
          "output_type": "stream",
          "name": "stdout",
          "text": [
            "6.3\n"
          ]
        }
      ]
    },
    {
      "cell_type": "markdown",
      "source": [
        "##Para o desenvolvimento dessa nova célula envolvendo variáveis aleatórias vamos analisar se o filme tem \"potencial de classico\" ou seja ser um filme que provavelmente tenha um impacto social e seja lembrado(o publico gostou e ele foi bem avaliado), portanto não entraremos na questão financeira(receita, lucro ou bilheteria)#\n",
        "---\n",
        "A análise será feita da seguinte forma: o filme entrará na coluna 'Potencial de classico' com:\n",
        "\n",
        "* 0 Se ele tiver uma avaliação menor que a media e uma popularidade Low\n",
        "* 1 Se ele tiver uma avaliação maior que a media e uma popularidade Low\n",
        "* 2 Se ele tiver uma avaliação menor que a media e uma popularidade Medium\n",
        "* 3 Se ele tiver uma avaliação maior que a media e uma popularidade Medium\n",
        "* 4 Se ele tiver uma avaliação menor que a media e uma popularidade Moderately High\n",
        "* 5 Se ele tiver uma avaliação maior que a media e uma popularidade Moderately High\n",
        "* 6 Se ele tiver uma avaliação menor que a media e uma popularidade High\n",
        "* 7 Se ele tiver uma avaliação maior que a media e uma popularidade High\n"
      ],
      "metadata": {
        "id": "KnbqKDZE15Uu"
      }
    },
    {
      "cell_type": "code",
      "source": [
        "#criação de um dataframe para melhor visualisação dos dados\n",
        "df = pd.DataFrame(Movie, columns = ['original_title', 'vote_average', 'popularity_level', 'Potencial_classic'])\n",
        "df.head(5)"
      ],
      "metadata": {
        "colab": {
          "base_uri": "https://localhost:8080/"
        },
        "id": "eR6S8obCAsjd",
        "outputId": "bfb33bb7-4bba-4415-972a-adb4fcb026ef"
      },
      "execution_count": null,
      "outputs": [
        {
          "output_type": "execute_result",
          "data": {
            "text/plain": [
              "                 original_title  vote_average popularity_level  \\\n",
              "0                Jurassic World           6.5             High   \n",
              "1            Mad Max: Fury Road           7.1             High   \n",
              "2                     Insurgent           6.3             High   \n",
              "3  Star Wars: The Force Awakens           7.5             High   \n",
              "4                     Furious 7           7.3             High   \n",
              "\n",
              "   Potencial_classic  \n",
              "0                  0  \n",
              "1                  0  \n",
              "2                  0  \n",
              "3                  0  \n",
              "4                  0  "
            ],
            "text/html": [
              "\n",
              "  <div id=\"df-290a57a1-5764-4d38-bcd0-d4487df68d8d\">\n",
              "    <div class=\"colab-df-container\">\n",
              "      <div>\n",
              "<style scoped>\n",
              "    .dataframe tbody tr th:only-of-type {\n",
              "        vertical-align: middle;\n",
              "    }\n",
              "\n",
              "    .dataframe tbody tr th {\n",
              "        vertical-align: top;\n",
              "    }\n",
              "\n",
              "    .dataframe thead th {\n",
              "        text-align: right;\n",
              "    }\n",
              "</style>\n",
              "<table border=\"1\" class=\"dataframe\">\n",
              "  <thead>\n",
              "    <tr style=\"text-align: right;\">\n",
              "      <th></th>\n",
              "      <th>original_title</th>\n",
              "      <th>vote_average</th>\n",
              "      <th>popularity_level</th>\n",
              "      <th>Potencial_classic</th>\n",
              "    </tr>\n",
              "  </thead>\n",
              "  <tbody>\n",
              "    <tr>\n",
              "      <th>0</th>\n",
              "      <td>Jurassic World</td>\n",
              "      <td>6.5</td>\n",
              "      <td>High</td>\n",
              "      <td>0</td>\n",
              "    </tr>\n",
              "    <tr>\n",
              "      <th>1</th>\n",
              "      <td>Mad Max: Fury Road</td>\n",
              "      <td>7.1</td>\n",
              "      <td>High</td>\n",
              "      <td>0</td>\n",
              "    </tr>\n",
              "    <tr>\n",
              "      <th>2</th>\n",
              "      <td>Insurgent</td>\n",
              "      <td>6.3</td>\n",
              "      <td>High</td>\n",
              "      <td>0</td>\n",
              "    </tr>\n",
              "    <tr>\n",
              "      <th>3</th>\n",
              "      <td>Star Wars: The Force Awakens</td>\n",
              "      <td>7.5</td>\n",
              "      <td>High</td>\n",
              "      <td>0</td>\n",
              "    </tr>\n",
              "    <tr>\n",
              "      <th>4</th>\n",
              "      <td>Furious 7</td>\n",
              "      <td>7.3</td>\n",
              "      <td>High</td>\n",
              "      <td>0</td>\n",
              "    </tr>\n",
              "  </tbody>\n",
              "</table>\n",
              "</div>\n",
              "      <button class=\"colab-df-convert\" onclick=\"convertToInteractive('df-290a57a1-5764-4d38-bcd0-d4487df68d8d')\"\n",
              "              title=\"Convert this dataframe to an interactive table.\"\n",
              "              style=\"display:none;\">\n",
              "        \n",
              "  <svg xmlns=\"http://www.w3.org/2000/svg\" height=\"24px\"viewBox=\"0 0 24 24\"\n",
              "       width=\"24px\">\n",
              "    <path d=\"M0 0h24v24H0V0z\" fill=\"none\"/>\n",
              "    <path d=\"M18.56 5.44l.94 2.06.94-2.06 2.06-.94-2.06-.94-.94-2.06-.94 2.06-2.06.94zm-11 1L8.5 8.5l.94-2.06 2.06-.94-2.06-.94L8.5 2.5l-.94 2.06-2.06.94zm10 10l.94 2.06.94-2.06 2.06-.94-2.06-.94-.94-2.06-.94 2.06-2.06.94z\"/><path d=\"M17.41 7.96l-1.37-1.37c-.4-.4-.92-.59-1.43-.59-.52 0-1.04.2-1.43.59L10.3 9.45l-7.72 7.72c-.78.78-.78 2.05 0 2.83L4 21.41c.39.39.9.59 1.41.59.51 0 1.02-.2 1.41-.59l7.78-7.78 2.81-2.81c.8-.78.8-2.07 0-2.86zM5.41 20L4 18.59l7.72-7.72 1.47 1.35L5.41 20z\"/>\n",
              "  </svg>\n",
              "      </button>\n",
              "      \n",
              "  <style>\n",
              "    .colab-df-container {\n",
              "      display:flex;\n",
              "      flex-wrap:wrap;\n",
              "      gap: 12px;\n",
              "    }\n",
              "\n",
              "    .colab-df-convert {\n",
              "      background-color: #E8F0FE;\n",
              "      border: none;\n",
              "      border-radius: 50%;\n",
              "      cursor: pointer;\n",
              "      display: none;\n",
              "      fill: #1967D2;\n",
              "      height: 32px;\n",
              "      padding: 0 0 0 0;\n",
              "      width: 32px;\n",
              "    }\n",
              "\n",
              "    .colab-df-convert:hover {\n",
              "      background-color: #E2EBFA;\n",
              "      box-shadow: 0px 1px 2px rgba(60, 64, 67, 0.3), 0px 1px 3px 1px rgba(60, 64, 67, 0.15);\n",
              "      fill: #174EA6;\n",
              "    }\n",
              "\n",
              "    [theme=dark] .colab-df-convert {\n",
              "      background-color: #3B4455;\n",
              "      fill: #D2E3FC;\n",
              "    }\n",
              "\n",
              "    [theme=dark] .colab-df-convert:hover {\n",
              "      background-color: #434B5C;\n",
              "      box-shadow: 0px 1px 3px 1px rgba(0, 0, 0, 0.15);\n",
              "      filter: drop-shadow(0px 1px 2px rgba(0, 0, 0, 0.3));\n",
              "      fill: #FFFFFF;\n",
              "    }\n",
              "  </style>\n",
              "\n",
              "      <script>\n",
              "        const buttonEl =\n",
              "          document.querySelector('#df-290a57a1-5764-4d38-bcd0-d4487df68d8d button.colab-df-convert');\n",
              "        buttonEl.style.display =\n",
              "          google.colab.kernel.accessAllowed ? 'block' : 'none';\n",
              "\n",
              "        async function convertToInteractive(key) {\n",
              "          const element = document.querySelector('#df-290a57a1-5764-4d38-bcd0-d4487df68d8d');\n",
              "          const dataTable =\n",
              "            await google.colab.kernel.invokeFunction('convertToInteractive',\n",
              "                                                     [key], {});\n",
              "          if (!dataTable) return;\n",
              "\n",
              "          const docLinkHtml = 'Like what you see? Visit the ' +\n",
              "            '<a target=\"_blank\" href=https://colab.research.google.com/notebooks/data_table.ipynb>data table notebook</a>'\n",
              "            + ' to learn more about interactive tables.';\n",
              "          element.innerHTML = '';\n",
              "          dataTable['output_type'] = 'display_data';\n",
              "          await google.colab.output.renderOutput(dataTable, element);\n",
              "          const docLink = document.createElement('div');\n",
              "          docLink.innerHTML = docLinkHtml;\n",
              "          element.appendChild(docLink);\n",
              "        }\n",
              "      </script>\n",
              "    </div>\n",
              "  </div>\n",
              "  "
            ]
          },
          "metadata": {},
          "execution_count": 458
        }
      ]
    },
    {
      "cell_type": "code",
      "source": [
        "#avaliação de um filme com potencial de classico como 0 e 1;\n",
        "# 0 Se ele tiver uma avaliação menor que a media e uma popularidade Low\n",
        "# 1 Se ele tiver uma avaliação maior que a media e uma popularidade Low\n",
        "\n",
        "Movie.loc[(df['vote_average'] <= 6.3) & (df['popularity_level'] == \"Low\"), 'Potencial_classic'] = df['Potencial_classic'] = 0\n",
        "Movie.loc[(df['vote_average'] > 6.3) & (df['popularity_level'] == \"Low\"), 'Potencial_classic'] = df['Potencial_classic'] = 1\n"
      ],
      "metadata": {
        "id": "wIr8yn4qCuNd"
      },
      "execution_count": null,
      "outputs": []
    },
    {
      "cell_type": "code",
      "source": [
        "#avaliação de um filme com potencial de classico como 2 e 3;\n",
        "#2 Se ele tiver uma avaliação menor que a media e uma popularidade Medium\n",
        "#3 Se ele tiver uma avaliação maior que a media e uma popularidade Medium\n",
        "\n",
        "Movie.loc[(df['vote_average'] <= 6.3) & (df['popularity_level'] == \"Medium\"), 'Potencial_classic'] = df['Potencial_classic'] = 2\n",
        "Movie.loc[(df['vote_average'] > 6.3) & (df['popularity_level'] == \"Medium\"), 'Potencial_classic'] = df['Potencial_classic'] = 3"
      ],
      "metadata": {
        "id": "2EGOyU_LJjXB"
      },
      "execution_count": null,
      "outputs": []
    },
    {
      "cell_type": "code",
      "source": [
        "#avaliação de um filme com potencial de classico como 4 e 5;\n",
        "# 4 Se ele tiver uma avaliação menor que a media e uma popularidade Moderately High\n",
        "# 5 Se ele tiver uma avaliação maior que a media e uma popularidade Moderately High\n",
        "\n",
        "Movie.loc[(df['vote_average'] <= 6.3) & (df['popularity_level'] == \"Moderately High\"), 'Potencial_classic'] = df['Potencial_classic'] = 4\n",
        "Movie.loc[(df['vote_average'] > 6.3) & (df['popularity_level'] == \"Moderately High\"), 'Potencial_classic'] = df['Potencial_classic'] = 5"
      ],
      "metadata": {
        "id": "CwXzzXi2KBqp"
      },
      "execution_count": null,
      "outputs": []
    },
    {
      "cell_type": "code",
      "source": [
        "#avaliação de um filme com potencial de classico como 6 e 7;\n",
        "#6 Se ele tiver uma avaliação menor que a media e uma popularidade High\n",
        "#7 Se ele tiver uma avaliação maior que a media e uma popularidade High\n",
        "\n",
        "Movie.loc[(df['vote_average'] <= 6.3) & (df['popularity_level'] == \"High\"), 'Potencial_classic'] = df['Potencial_classic'] = 6\n",
        "Movie.loc[(df['vote_average'] > 6.3) & (df['popularity_level'] == \"High\"), 'Potencial_classic'] = df['Potencial_classic'] = 7"
      ],
      "metadata": {
        "id": "L0gp2BcMKgDY"
      },
      "execution_count": null,
      "outputs": []
    },
    {
      "cell_type": "code",
      "source": [
        "Movie['Potencial_classic'].value_counts(sort=False).sort_index()"
      ],
      "metadata": {
        "colab": {
          "base_uri": "https://localhost:8080/"
        },
        "id": "KlAVtoScK2H7",
        "outputId": "c9a1abfc-8e71-4e88-ce1b-d9f8c0b81ecf"
      },
      "execution_count": null,
      "outputs": [
        {
          "output_type": "execute_result",
          "data": {
            "text/plain": [
              "0    210\n",
              "1    112\n",
              "2    208\n",
              "3    114\n",
              "4    177\n",
              "5    144\n",
              "6     89\n",
              "7    233\n",
              "Name: Potencial_classic, dtype: int64"
            ]
          },
          "metadata": {},
          "execution_count": 463
        }
      ]
    },
    {
      "cell_type": "markdown",
      "source": [
        "#**Função Probabilidade**"
      ],
      "metadata": {
        "id": "9s1fB4QdieP1"
      }
    },
    {
      "cell_type": "code",
      "source": [
        "func_prob = Movie['Potencial_classic'].value_counts(sort=False).sort_index()/Movie['Potencial_classic'].count()\n",
        "print(func_prob)"
      ],
      "metadata": {
        "colab": {
          "base_uri": "https://localhost:8080/"
        },
        "id": "BpmhzUBvRpsz",
        "outputId": "7e83676c-66ec-4470-a788-827088fb9584"
      },
      "execution_count": null,
      "outputs": [
        {
          "output_type": "stream",
          "name": "stdout",
          "text": [
            "0    0.163170\n",
            "1    0.087024\n",
            "2    0.161616\n",
            "3    0.088578\n",
            "4    0.137529\n",
            "5    0.111888\n",
            "6    0.069153\n",
            "7    0.181041\n",
            "Name: Potencial_classic, dtype: float64\n"
          ]
        }
      ]
    },
    {
      "cell_type": "markdown",
      "source": [
        "#**Função Cumulativa (Função Repartição)**"
      ],
      "metadata": {
        "id": "dRAuYz1cjBZ8"
      }
    },
    {
      "cell_type": "code",
      "source": [
        "func_prob.cumsum()"
      ],
      "metadata": {
        "colab": {
          "base_uri": "https://localhost:8080/"
        },
        "id": "_eHx7Dn_SIh4",
        "outputId": "ca5fcd5d-ed0f-4304-a825-72da9070efc7"
      },
      "execution_count": null,
      "outputs": [
        {
          "output_type": "execute_result",
          "data": {
            "text/plain": [
              "0    0.163170\n",
              "1    0.250194\n",
              "2    0.411810\n",
              "3    0.500389\n",
              "4    0.637918\n",
              "5    0.749806\n",
              "6    0.818959\n",
              "7    1.000000\n",
              "Name: Potencial_classic, dtype: float64"
            ]
          },
          "metadata": {},
          "execution_count": 465
        }
      ]
    },
    {
      "cell_type": "markdown",
      "source": [
        "\n",
        "---\n",
        "#**GRAFICOS**"
      ],
      "metadata": {
        "id": "z3WjZPR6Solz"
      }
    },
    {
      "cell_type": "code",
      "source": [
        "import matplotlib.pyplot as plt"
      ],
      "metadata": {
        "id": "yh0lh4ApSRpd"
      },
      "execution_count": null,
      "outputs": []
    },
    {
      "cell_type": "code",
      "source": [
        "plt.plot(func_prob)\n",
        "plt.plot(func_prob, 'b-')\n",
        "plt.xlabel('potencial de classico')\n",
        "plt.ylabel('Probabilidade')\n",
        "plt.title('Gráfico')"
      ],
      "metadata": {
        "colab": {
          "base_uri": "https://localhost:8080/"
        },
        "id": "sft2KA0fTJu-",
        "outputId": "e413e04b-0936-4b02-abc9-22e8fdd34dfa"
      },
      "execution_count": null,
      "outputs": [
        {
          "output_type": "execute_result",
          "data": {
            "text/plain": [
              "Text(0.5, 1.0, 'Gráfico')"
            ]
          },
          "metadata": {},
          "execution_count": 467
        },
        {
          "output_type": "display_data",
          "data": {
            "text/plain": [
              "<Figure size 640x480 with 1 Axes>"
            ],
            "image/png": "[encoded data removed]"
          },
          "metadata": {}
        }
      ]
    },
    {
      "cell_type": "code",
      "source": [
        "grafico = func_prob.cumsum()\n",
        "plt.plot(grafico, 'r--')\n",
        "plt.xlabel('potencial classico')\n",
        "plt.ylabel('Probabilidade')\n",
        "plt.title('Probabilidade Acumulada')"
      ],
      "metadata": {
        "colab": {
          "base_uri": "https://localhost:8080/"
        },
        "id": "aJl1noGdTp0y",
        "outputId": "3aad67b8-8b15-4eea-c713-6c34c58287ed"
      },
      "execution_count": null,
      "outputs": [
        {
          "output_type": "execute_result",
          "data": {
            "text/plain": [
              "Text(0.5, 1.0, 'Probabilidade Acumulada')"
            ]
          },
          "metadata": {},
          "execution_count": 468
        },
        {
          "output_type": "display_data",
          "data": {
            "text/plain": [
              "<Figure size 640x480 with 1 Axes>"
            ],
            "image/png": "[encoded data removed]"
          },
          "metadata": {}
        }
      ]
    },
    {
      "cell_type": "markdown",
      "source": [
        "#**Covariância**\n",
        "##Levando em consideração que um filme bom consegue atrair muitas pessoas ao cinema, vamos analisar a correlação entre o fato do filme ser bem avaliado e ter popularidade alta:#\n",
        "* Avaliaremos como popular os filmes High e Moderately High como 1 e o resto como 0\n",
        "* Avaliaremos os filmes que estejam acima da media como 1"
      ],
      "metadata": {
        "id": "20BTiPED38Bf"
      }
    },
    {
      "cell_type": "code",
      "source": [
        "Movie['popular_bin'] = 0\n",
        "Movie['avaliado_bin'] = 0\n",
        "\n",
        "#Avaliaremos como popular os filmes High e Moderately High como 1 e o resto como 0\n",
        "Movie.loc[(df['popularity_level'] == 'High') | (df['popularity_level'] == 'Moderately High') , 'popular_bin'] = df['popular_bin'] = 1\n",
        "\n",
        "#Avaliaremos os filmes que estejam acima da media como 1\n",
        "Movie.loc[df['vote_average'] > 6.3  , 'avaliado_bin'] = df['avaliado_bin'] = 1"
      ],
      "metadata": {
        "id": "28KRHmp4-VLb"
      },
      "execution_count": null,
      "outputs": []
    },
    {
      "cell_type": "code",
      "source": [
        "Movie[['popular_bin', 'avaliado_bin']].cov()"
      ],
      "metadata": {
        "colab": {
          "base_uri": "https://localhost:8080/"
        },
        "id": "1b5AaSYTCawD",
        "outputId": "718e370e-78a8-41ef-b4a8-dfce51bc45c4"
      },
      "execution_count": null,
      "outputs": [
        {
          "output_type": "execute_result",
          "data": {
            "text/plain": [
              "              popular_bin  avaliado_bin\n",
              "popular_bin      0.250194      0.058891\n",
              "avaliado_bin     0.058891      0.249203"
            ],
            "text/html": [
              "\n",
              "  <div id=\"df-44647c7c-1a99-4c2b-bf50-ecb6e069a7ab\">\n",
              "    <div class=\"colab-df-container\">\n",
              "      <div>\n",
              "<style scoped>\n",
              "    .dataframe tbody tr th:only-of-type {\n",
              "        vertical-align: middle;\n",
              "    }\n",
              "\n",
              "    .dataframe tbody tr th {\n",
              "        vertical-align: top;\n",
              "    }\n",
              "\n",
              "    .dataframe thead th {\n",
              "        text-align: right;\n",
              "    }\n",
              "</style>\n",
              "<table border=\"1\" class=\"dataframe\">\n",
              "  <thead>\n",
              "    <tr style=\"text-align: right;\">\n",
              "      <th></th>\n",
              "      <th>popular_bin</th>\n",
              "      <th>avaliado_bin</th>\n",
              "    </tr>\n",
              "  </thead>\n",
              "  <tbody>\n",
              "    <tr>\n",
              "      <th>popular_bin</th>\n",
              "      <td>0.250194</td>\n",
              "      <td>0.058891</td>\n",
              "    </tr>\n",
              "    <tr>\n",
              "      <th>avaliado_bin</th>\n",
              "      <td>0.058891</td>\n",
              "      <td>0.249203</td>\n",
              "    </tr>\n",
              "  </tbody>\n",
              "</table>\n",
              "</div>\n",
              "      <button class=\"colab-df-convert\" onclick=\"convertToInteractive('df-44647c7c-1a99-4c2b-bf50-ecb6e069a7ab')\"\n",
              "              title=\"Convert this dataframe to an interactive table.\"\n",
              "              style=\"display:none;\">\n",
              "        \n",
              "  <svg xmlns=\"http://www.w3.org/2000/svg\" height=\"24px\"viewBox=\"0 0 24 24\"\n",
              "       width=\"24px\">\n",
              "    <path d=\"M0 0h24v24H0V0z\" fill=\"none\"/>\n",
              "    <path d=\"M18.56 5.44l.94 2.06.94-2.06 2.06-.94-2.06-.94-.94-2.06-.94 2.06-2.06.94zm-11 1L8.5 8.5l.94-2.06 2.06-.94-2.06-.94L8.5 2.5l-.94 2.06-2.06.94zm10 10l.94 2.06.94-2.06 2.06-.94-2.06-.94-.94-2.06-.94 2.06-2.06.94z\"/><path d=\"M17.41 7.96l-1.37-1.37c-.4-.4-.92-.59-1.43-.59-.52 0-1.04.2-1.43.59L10.3 9.45l-7.72 7.72c-.78.78-.78 2.05 0 2.83L4 21.41c.39.39.9.59 1.41.59.51 0 1.02-.2 1.41-.59l7.78-7.78 2.81-2.81c.8-.78.8-2.07 0-2.86zM5.41 20L4 18.59l7.72-7.72 1.47 1.35L5.41 20z\"/>\n",
              "  </svg>\n",
              "      </button>\n",
              "      \n",
              "  <style>\n",
              "    .colab-df-container {\n",
              "      display:flex;\n",
              "      flex-wrap:wrap;\n",
              "      gap: 12px;\n",
              "    }\n",
              "\n",
              "    .colab-df-convert {\n",
              "      background-color: #E8F0FE;\n",
              "      border: none;\n",
              "      border-radius: 50%;\n",
              "      cursor: pointer;\n",
              "      display: none;\n",
              "      fill: #1967D2;\n",
              "      height: 32px;\n",
              "      padding: 0 0 0 0;\n",
              "      width: 32px;\n",
              "    }\n",
              "\n",
              "    .colab-df-convert:hover {\n",
              "      background-color: #E2EBFA;\n",
              "      box-shadow: 0px 1px 2px rgba(60, 64, 67, 0.3), 0px 1px 3px 1px rgba(60, 64, 67, 0.15);\n",
              "      fill: #174EA6;\n",
              "    }\n",
              "\n",
              "    [theme=dark] .colab-df-convert {\n",
              "      background-color: #3B4455;\n",
              "      fill: #D2E3FC;\n",
              "    }\n",
              "\n",
              "    [theme=dark] .colab-df-convert:hover {\n",
              "      background-color: #434B5C;\n",
              "      box-shadow: 0px 1px 3px 1px rgba(0, 0, 0, 0.15);\n",
              "      filter: drop-shadow(0px 1px 2px rgba(0, 0, 0, 0.3));\n",
              "      fill: #FFFFFF;\n",
              "    }\n",
              "  </style>\n",
              "\n",
              "      <script>\n",
              "        const buttonEl =\n",
              "          document.querySelector('#df-44647c7c-1a99-4c2b-bf50-ecb6e069a7ab button.colab-df-convert');\n",
              "        buttonEl.style.display =\n",
              "          google.colab.kernel.accessAllowed ? 'block' : 'none';\n",
              "\n",
              "        async function convertToInteractive(key) {\n",
              "          const element = document.querySelector('#df-44647c7c-1a99-4c2b-bf50-ecb6e069a7ab');\n",
              "          const dataTable =\n",
              "            await google.colab.kernel.invokeFunction('convertToInteractive',\n",
              "                                                     [key], {});\n",
              "          if (!dataTable) return;\n",
              "\n",
              "          const docLinkHtml = 'Like what you see? Visit the ' +\n",
              "            '<a target=\"_blank\" href=https://colab.research.google.com/notebooks/data_table.ipynb>data table notebook</a>'\n",
              "            + ' to learn more about interactive tables.';\n",
              "          element.innerHTML = '';\n",
              "          dataTable['output_type'] = 'display_data';\n",
              "          await google.colab.output.renderOutput(dataTable, element);\n",
              "          const docLink = document.createElement('div');\n",
              "          docLink.innerHTML = docLinkHtml;\n",
              "          element.appendChild(docLink);\n",
              "        }\n",
              "      </script>\n",
              "    </div>\n",
              "  </div>\n",
              "  "
            ]
          },
          "metadata": {},
          "execution_count": 470
        }
      ]
    },
    {
      "cell_type": "markdown",
      "source": [
        "podemos perceber que mesmo contando os valores e percebendo que eles possuem quantidades aproximadas, nõ há uma correlação tão forte entre esses dois fatores"
      ],
      "metadata": {
        "id": "kxoLxadpDEGf"
      }
    },
    {
      "cell_type": "markdown",
      "source": [
        "Grafico de dispersão da covariancia"
      ],
      "metadata": {
        "id": "pF49z18QrgIx"
      }
    },
    {
      "cell_type": "markdown",
      "source": [
        "#**Correlação**"
      ],
      "metadata": {
        "id": "6j5DBL0J4Wo2"
      }
    },
    {
      "cell_type": "markdown",
      "source": [
        "Vejamos a correlação da popularidade do filme com a avaliação"
      ],
      "metadata": {
        "id": "GUbNgPTCG6ko"
      }
    },
    {
      "cell_type": "code",
      "source": [
        "Movie[['popular_bin', 'avaliado_bin']].corr()"
      ],
      "metadata": {
        "colab": {
          "base_uri": "https://localhost:8080/"
        },
        "id": "UAU4Vh9lDvP7",
        "outputId": "74eac596-b3c4-4080-d876-211d38487556"
      },
      "execution_count": null,
      "outputs": [
        {
          "output_type": "execute_result",
          "data": {
            "text/plain": [
              "              popular_bin  avaliado_bin\n",
              "popular_bin       1.00000       0.23585\n",
              "avaliado_bin      0.23585       1.00000"
            ],
            "text/html": [
              "\n",
              "  <div id=\"df-719db18d-4234-4c8e-a826-14e920d16158\">\n",
              "    <div class=\"colab-df-container\">\n",
              "      <div>\n",
              "<style scoped>\n",
              "    .dataframe tbody tr th:only-of-type {\n",
              "        vertical-align: middle;\n",
              "    }\n",
              "\n",
              "    .dataframe tbody tr th {\n",
              "        vertical-align: top;\n",
              "    }\n",
              "\n",
              "    .dataframe thead th {\n",
              "        text-align: right;\n",
              "    }\n",
              "</style>\n",
              "<table border=\"1\" class=\"dataframe\">\n",
              "  <thead>\n",
              "    <tr style=\"text-align: right;\">\n",
              "      <th></th>\n",
              "      <th>popular_bin</th>\n",
              "      <th>avaliado_bin</th>\n",
              "    </tr>\n",
              "  </thead>\n",
              "  <tbody>\n",
              "    <tr>\n",
              "      <th>popular_bin</th>\n",
              "      <td>1.00000</td>\n",
              "      <td>0.23585</td>\n",
              "    </tr>\n",
              "    <tr>\n",
              "      <th>avaliado_bin</th>\n",
              "      <td>0.23585</td>\n",
              "      <td>1.00000</td>\n",
              "    </tr>\n",
              "  </tbody>\n",
              "</table>\n",
              "</div>\n",
              "      <button class=\"colab-df-convert\" onclick=\"convertToInteractive('df-719db18d-4234-4c8e-a826-14e920d16158')\"\n",
              "              title=\"Convert this dataframe to an interactive table.\"\n",
              "              style=\"display:none;\">\n",
              "        \n",
              "  <svg xmlns=\"http://www.w3.org/2000/svg\" height=\"24px\"viewBox=\"0 0 24 24\"\n",
              "       width=\"24px\">\n",
              "    <path d=\"M0 0h24v24H0V0z\" fill=\"none\"/>\n",
              "    <path d=\"M18.56 5.44l.94 2.06.94-2.06 2.06-.94-2.06-.94-.94-2.06-.94 2.06-2.06.94zm-11 1L8.5 8.5l.94-2.06 2.06-.94-2.06-.94L8.5 2.5l-.94 2.06-2.06.94zm10 10l.94 2.06.94-2.06 2.06-.94-2.06-.94-.94-2.06-.94 2.06-2.06.94z\"/><path d=\"M17.41 7.96l-1.37-1.37c-.4-.4-.92-.59-1.43-.59-.52 0-1.04.2-1.43.59L10.3 9.45l-7.72 7.72c-.78.78-.78 2.05 0 2.83L4 21.41c.39.39.9.59 1.41.59.51 0 1.02-.2 1.41-.59l7.78-7.78 2.81-2.81c.8-.78.8-2.07 0-2.86zM5.41 20L4 18.59l7.72-7.72 1.47 1.35L5.41 20z\"/>\n",
              "  </svg>\n",
              "      </button>\n",
              "      \n",
              "  <style>\n",
              "    .colab-df-container {\n",
              "      display:flex;\n",
              "      flex-wrap:wrap;\n",
              "      gap: 12px;\n",
              "    }\n",
              "\n",
              "    .colab-df-convert {\n",
              "      background-color: #E8F0FE;\n",
              "      border: none;\n",
              "      border-radius: 50%;\n",
              "      cursor: pointer;\n",
              "      display: none;\n",
              "      fill: #1967D2;\n",
              "      height: 32px;\n",
              "      padding: 0 0 0 0;\n",
              "      width: 32px;\n",
              "    }\n",
              "\n",
              "    .colab-df-convert:hover {\n",
              "      background-color: #E2EBFA;\n",
              "      box-shadow: 0px 1px 2px rgba(60, 64, 67, 0.3), 0px 1px 3px 1px rgba(60, 64, 67, 0.15);\n",
              "      fill: #174EA6;\n",
              "    }\n",
              "\n",
              "    [theme=dark] .colab-df-convert {\n",
              "      background-color: #3B4455;\n",
              "      fill: #D2E3FC;\n",
              "    }\n",
              "\n",
              "    [theme=dark] .colab-df-convert:hover {\n",
              "      background-color: #434B5C;\n",
              "      box-shadow: 0px 1px 3px 1px rgba(0, 0, 0, 0.15);\n",
              "      filter: drop-shadow(0px 1px 2px rgba(0, 0, 0, 0.3));\n",
              "      fill: #FFFFFF;\n",
              "    }\n",
              "  </style>\n",
              "\n",
              "      <script>\n",
              "        const buttonEl =\n",
              "          document.querySelector('#df-719db18d-4234-4c8e-a826-14e920d16158 button.colab-df-convert');\n",
              "        buttonEl.style.display =\n",
              "          google.colab.kernel.accessAllowed ? 'block' : 'none';\n",
              "\n",
              "        async function convertToInteractive(key) {\n",
              "          const element = document.querySelector('#df-719db18d-4234-4c8e-a826-14e920d16158');\n",
              "          const dataTable =\n",
              "            await google.colab.kernel.invokeFunction('convertToInteractive',\n",
              "                                                     [key], {});\n",
              "          if (!dataTable) return;\n",
              "\n",
              "          const docLinkHtml = 'Like what you see? Visit the ' +\n",
              "            '<a target=\"_blank\" href=https://colab.research.google.com/notebooks/data_table.ipynb>data table notebook</a>'\n",
              "            + ' to learn more about interactive tables.';\n",
              "          element.innerHTML = '';\n",
              "          dataTable['output_type'] = 'display_data';\n",
              "          await google.colab.output.renderOutput(dataTable, element);\n",
              "          const docLink = document.createElement('div');\n",
              "          docLink.innerHTML = docLinkHtml;\n",
              "          element.appendChild(docLink);\n",
              "        }\n",
              "      </script>\n",
              "    </div>\n",
              "  </div>\n",
              "  "
            ]
          },
          "metadata": {},
          "execution_count": 471
        }
      ]
    },
    {
      "cell_type": "markdown",
      "source": [
        "#Agora vamos verificar a Covariancia e a Correlação da avaliação de um filme e o potencial dele de se tornar um clássico"
      ],
      "metadata": {
        "id": "nxUNGaHgLCBm"
      }
    },
    {
      "cell_type": "code",
      "source": [
        "Movie[['popular_bin', 'Potencial_classic']].cov()"
      ],
      "metadata": {
        "colab": {
          "base_uri": "https://localhost:8080/"
        },
        "id": "OE8dAmpoLaUU",
        "outputId": "ef5f6f56-b1ba-4b1e-db9b-7e5b68affa89"
      },
      "execution_count": null,
      "outputs": [
        {
          "output_type": "execute_result",
          "data": {
            "text/plain": [
              "                   popular_bin  Potencial_classic\n",
              "popular_bin           0.250194           1.060057\n",
              "Potencial_classic     1.060057           5.868127"
            ],
            "text/html": [
              "\n",
              "  <div id=\"df-3fab630b-117b-4b0a-b766-50645da947ce\">\n",
              "    <div class=\"colab-df-container\">\n",
              "      <div>\n",
              "<style scoped>\n",
              "    .dataframe tbody tr th:only-of-type {\n",
              "        vertical-align: middle;\n",
              "    }\n",
              "\n",
              "    .dataframe tbody tr th {\n",
              "        vertical-align: top;\n",
              "    }\n",
              "\n",
              "    .dataframe thead th {\n",
              "        text-align: right;\n",
              "    }\n",
              "</style>\n",
              "<table border=\"1\" class=\"dataframe\">\n",
              "  <thead>\n",
              "    <tr style=\"text-align: right;\">\n",
              "      <th></th>\n",
              "      <th>popular_bin</th>\n",
              "      <th>Potencial_classic</th>\n",
              "    </tr>\n",
              "  </thead>\n",
              "  <tbody>\n",
              "    <tr>\n",
              "      <th>popular_bin</th>\n",
              "      <td>0.250194</td>\n",
              "      <td>1.060057</td>\n",
              "    </tr>\n",
              "    <tr>\n",
              "      <th>Potencial_classic</th>\n",
              "      <td>1.060057</td>\n",
              "      <td>5.868127</td>\n",
              "    </tr>\n",
              "  </tbody>\n",
              "</table>\n",
              "</div>\n",
              "      <button class=\"colab-df-convert\" onclick=\"convertToInteractive('df-3fab630b-117b-4b0a-b766-50645da947ce')\"\n",
              "              title=\"Convert this dataframe to an interactive table.\"\n",
              "              style=\"display:none;\">\n",
              "        \n",
              "  <svg xmlns=\"http://www.w3.org/2000/svg\" height=\"24px\"viewBox=\"0 0 24 24\"\n",
              "       width=\"24px\">\n",
              "    <path d=\"M0 0h24v24H0V0z\" fill=\"none\"/>\n",
              "    <path d=\"M18.56 5.44l.94 2.06.94-2.06 2.06-.94-2.06-.94-.94-2.06-.94 2.06-2.06.94zm-11 1L8.5 8.5l.94-2.06 2.06-.94-2.06-.94L8.5 2.5l-.94 2.06-2.06.94zm10 10l.94 2.06.94-2.06 2.06-.94-2.06-.94-.94-2.06-.94 2.06-2.06.94z\"/><path d=\"M17.41 7.96l-1.37-1.37c-.4-.4-.92-.59-1.43-.59-.52 0-1.04.2-1.43.59L10.3 9.45l-7.72 7.72c-.78.78-.78 2.05 0 2.83L4 21.41c.39.39.9.59 1.41.59.51 0 1.02-.2 1.41-.59l7.78-7.78 2.81-2.81c.8-.78.8-2.07 0-2.86zM5.41 20L4 18.59l7.72-7.72 1.47 1.35L5.41 20z\"/>\n",
              "  </svg>\n",
              "      </button>\n",
              "      \n",
              "  <style>\n",
              "    .colab-df-container {\n",
              "      display:flex;\n",
              "      flex-wrap:wrap;\n",
              "      gap: 12px;\n",
              "    }\n",
              "\n",
              "    .colab-df-convert {\n",
              "      background-color: #E8F0FE;\n",
              "      border: none;\n",
              "      border-radius: 50%;\n",
              "      cursor: pointer;\n",
              "      display: none;\n",
              "      fill: #1967D2;\n",
              "      height: 32px;\n",
              "      padding: 0 0 0 0;\n",
              "      width: 32px;\n",
              "    }\n",
              "\n",
              "    .colab-df-convert:hover {\n",
              "      background-color: #E2EBFA;\n",
              "      box-shadow: 0px 1px 2px rgba(60, 64, 67, 0.3), 0px 1px 3px 1px rgba(60, 64, 67, 0.15);\n",
              "      fill: #174EA6;\n",
              "    }\n",
              "\n",
              "    [theme=dark] .colab-df-convert {\n",
              "      background-color: #3B4455;\n",
              "      fill: #D2E3FC;\n",
              "    }\n",
              "\n",
              "    [theme=dark] .colab-df-convert:hover {\n",
              "      background-color: #434B5C;\n",
              "      box-shadow: 0px 1px 3px 1px rgba(0, 0, 0, 0.15);\n",
              "      filter: drop-shadow(0px 1px 2px rgba(0, 0, 0, 0.3));\n",
              "      fill: #FFFFFF;\n",
              "    }\n",
              "  </style>\n",
              "\n",
              "      <script>\n",
              "        const buttonEl =\n",
              "          document.querySelector('#df-3fab630b-117b-4b0a-b766-50645da947ce button.colab-df-convert');\n",
              "        buttonEl.style.display =\n",
              "          google.colab.kernel.accessAllowed ? 'block' : 'none';\n",
              "\n",
              "        async function convertToInteractive(key) {\n",
              "          const element = document.querySelector('#df-3fab630b-117b-4b0a-b766-50645da947ce');\n",
              "          const dataTable =\n",
              "            await google.colab.kernel.invokeFunction('convertToInteractive',\n",
              "                                                     [key], {});\n",
              "          if (!dataTable) return;\n",
              "\n",
              "          const docLinkHtml = 'Like what you see? Visit the ' +\n",
              "            '<a target=\"_blank\" href=https://colab.research.google.com/notebooks/data_table.ipynb>data table notebook</a>'\n",
              "            + ' to learn more about interactive tables.';\n",
              "          element.innerHTML = '';\n",
              "          dataTable['output_type'] = 'display_data';\n",
              "          await google.colab.output.renderOutput(dataTable, element);\n",
              "          const docLink = document.createElement('div');\n",
              "          docLink.innerHTML = docLinkHtml;\n",
              "          element.appendChild(docLink);\n",
              "        }\n",
              "      </script>\n",
              "    </div>\n",
              "  </div>\n",
              "  "
            ]
          },
          "metadata": {},
          "execution_count": 472
        }
      ]
    },
    {
      "cell_type": "code",
      "source": [
        "Movie[['popular_bin', 'Potencial_classic']].corr()"
      ],
      "metadata": {
        "colab": {
          "base_uri": "https://localhost:8080/"
        },
        "id": "NjHi7hU5MCOB",
        "outputId": "869aa762-a723-4ebb-af34-46ffa4d890ce"
      },
      "execution_count": null,
      "outputs": [
        {
          "output_type": "execute_result",
          "data": {
            "text/plain": [
              "                   popular_bin  Potencial_classic\n",
              "popular_bin           1.000000           0.874865\n",
              "Potencial_classic     0.874865           1.000000"
            ],
            "text/html": [
              "\n",
              "  <div id=\"df-05d7e447-9140-406e-8ad0-69e976c899fe\">\n",
              "    <div class=\"colab-df-container\">\n",
              "      <div>\n",
              "<style scoped>\n",
              "    .dataframe tbody tr th:only-of-type {\n",
              "        vertical-align: middle;\n",
              "    }\n",
              "\n",
              "    .dataframe tbody tr th {\n",
              "        vertical-align: top;\n",
              "    }\n",
              "\n",
              "    .dataframe thead th {\n",
              "        text-align: right;\n",
              "    }\n",
              "</style>\n",
              "<table border=\"1\" class=\"dataframe\">\n",
              "  <thead>\n",
              "    <tr style=\"text-align: right;\">\n",
              "      <th></th>\n",
              "      <th>popular_bin</th>\n",
              "      <th>Potencial_classic</th>\n",
              "    </tr>\n",
              "  </thead>\n",
              "  <tbody>\n",
              "    <tr>\n",
              "      <th>popular_bin</th>\n",
              "      <td>1.000000</td>\n",
              "      <td>0.874865</td>\n",
              "    </tr>\n",
              "    <tr>\n",
              "      <th>Potencial_classic</th>\n",
              "      <td>0.874865</td>\n",
              "      <td>1.000000</td>\n",
              "    </tr>\n",
              "  </tbody>\n",
              "</table>\n",
              "</div>\n",
              "      <button class=\"colab-df-convert\" onclick=\"convertToInteractive('df-05d7e447-9140-406e-8ad0-69e976c899fe')\"\n",
              "              title=\"Convert this dataframe to an interactive table.\"\n",
              "              style=\"display:none;\">\n",
              "        \n",
              "  <svg xmlns=\"http://www.w3.org/2000/svg\" height=\"24px\"viewBox=\"0 0 24 24\"\n",
              "       width=\"24px\">\n",
              "    <path d=\"M0 0h24v24H0V0z\" fill=\"none\"/>\n",
              "    <path d=\"M18.56 5.44l.94 2.06.94-2.06 2.06-.94-2.06-.94-.94-2.06-.94 2.06-2.06.94zm-11 1L8.5 8.5l.94-2.06 2.06-.94-2.06-.94L8.5 2.5l-.94 2.06-2.06.94zm10 10l.94 2.06.94-2.06 2.06-.94-2.06-.94-.94-2.06-.94 2.06-2.06.94z\"/><path d=\"M17.41 7.96l-1.37-1.37c-.4-.4-.92-.59-1.43-.59-.52 0-1.04.2-1.43.59L10.3 9.45l-7.72 7.72c-.78.78-.78 2.05 0 2.83L4 21.41c.39.39.9.59 1.41.59.51 0 1.02-.2 1.41-.59l7.78-7.78 2.81-2.81c.8-.78.8-2.07 0-2.86zM5.41 20L4 18.59l7.72-7.72 1.47 1.35L5.41 20z\"/>\n",
              "  </svg>\n",
              "      </button>\n",
              "      \n",
              "  <style>\n",
              "    .colab-df-container {\n",
              "      display:flex;\n",
              "      flex-wrap:wrap;\n",
              "      gap: 12px;\n",
              "    }\n",
              "\n",
              "    .colab-df-convert {\n",
              "      background-color: #E8F0FE;\n",
              "      border: none;\n",
              "      border-radius: 50%;\n",
              "      cursor: pointer;\n",
              "      display: none;\n",
              "      fill: #1967D2;\n",
              "      height: 32px;\n",
              "      padding: 0 0 0 0;\n",
              "      width: 32px;\n",
              "    }\n",
              "\n",
              "    .colab-df-convert:hover {\n",
              "      background-color: #E2EBFA;\n",
              "      box-shadow: 0px 1px 2px rgba(60, 64, 67, 0.3), 0px 1px 3px 1px rgba(60, 64, 67, 0.15);\n",
              "      fill: #174EA6;\n",
              "    }\n",
              "\n",
              "    [theme=dark] .colab-df-convert {\n",
              "      background-color: #3B4455;\n",
              "      fill: #D2E3FC;\n",
              "    }\n",
              "\n",
              "    [theme=dark] .colab-df-convert:hover {\n",
              "      background-color: #434B5C;\n",
              "      box-shadow: 0px 1px 3px 1px rgba(0, 0, 0, 0.15);\n",
              "      filter: drop-shadow(0px 1px 2px rgba(0, 0, 0, 0.3));\n",
              "      fill: #FFFFFF;\n",
              "    }\n",
              "  </style>\n",
              "\n",
              "      <script>\n",
              "        const buttonEl =\n",
              "          document.querySelector('#df-05d7e447-9140-406e-8ad0-69e976c899fe button.colab-df-convert');\n",
              "        buttonEl.style.display =\n",
              "          google.colab.kernel.accessAllowed ? 'block' : 'none';\n",
              "\n",
              "        async function convertToInteractive(key) {\n",
              "          const element = document.querySelector('#df-05d7e447-9140-406e-8ad0-69e976c899fe');\n",
              "          const dataTable =\n",
              "            await google.colab.kernel.invokeFunction('convertToInteractive',\n",
              "                                                     [key], {});\n",
              "          if (!dataTable) return;\n",
              "\n",
              "          const docLinkHtml = 'Like what you see? Visit the ' +\n",
              "            '<a target=\"_blank\" href=https://colab.research.google.com/notebooks/data_table.ipynb>data table notebook</a>'\n",
              "            + ' to learn more about interactive tables.';\n",
              "          element.innerHTML = '';\n",
              "          dataTable['output_type'] = 'display_data';\n",
              "          await google.colab.output.renderOutput(dataTable, element);\n",
              "          const docLink = document.createElement('div');\n",
              "          docLink.innerHTML = docLinkHtml;\n",
              "          element.appendChild(docLink);\n",
              "        }\n",
              "      </script>\n",
              "    </div>\n",
              "  </div>\n",
              "  "
            ]
          },
          "metadata": {},
          "execution_count": 473
        }
      ]
    },
    {
      "cell_type": "markdown",
      "source": [
        "Com isso, podemos perceber que a avaliação de um filme possui relações lineares maiores com o potencial de classico dele"
      ],
      "metadata": {
        "id": "VzxzWLwsMd89"
      }
    },
    {
      "cell_type": "markdown",
      "source": [
        "#**Segunda Unidade**#"
      ],
      "metadata": {
        "id": "nlq5PkRI0Ubj"
      }
    },
    {
      "cell_type": "markdown",
      "source": [
        "#*Normalização dos Dados*"
      ],
      "metadata": {
        "id": "D0SqeesT01Sy"
      }
    },
    {
      "cell_type": "markdown",
      "source": [
        "##Primeiramente, para normalizar esse dataset é necessário retirar todas as colunas contendo strings, faremos isso criando um novo DataFrame (Movie2) e copiando apenas as colunas que possuem objetos enumeraveis"
      ],
      "metadata": {
        "id": "1RWKDxK74xOU"
      }
    },
    {
      "cell_type": "code",
      "source": [
        "Movie.head(5)"
      ],
      "metadata": {
        "colab": {
          "base_uri": "https://localhost:8080/",
          "height": 206
        },
        "id": "zHtfVkFR5RhJ",
        "outputId": "da31b16a-0f2c-40e3-e35e-ebc39bc36a19"
      },
      "execution_count": null,
      "outputs": [
        {
          "output_type": "execute_result",
          "data": {
            "text/plain": [
              "   popularity                original_title  runtime  vote_count  \\\n",
              "0   32.985763                Jurassic World      124        5562   \n",
              "1   28.419936            Mad Max: Fury Road      120        6185   \n",
              "2   13.112507                     Insurgent      119        2480   \n",
              "3   11.173104  Star Wars: The Force Awakens      136        5292   \n",
              "4    9.335014                     Furious 7      137        2947   \n",
              "\n",
              "   vote_average popularity_level  Potencial_classic  popular_bin  avaliado_bin  \n",
              "0           6.5             High                  7            1             1  \n",
              "1           7.1             High                  7            1             1  \n",
              "2           6.3             High                  6            1             0  \n",
              "3           7.5             High                  7            1             1  \n",
              "4           7.3             High                  7            1             1  "
            ],
            "text/html": [
              "\n",
              "  <div id=\"df-528c9890-a5c2-4df6-9422-dff7a16d0c42\">\n",
              "    <div class=\"colab-df-container\">\n",
              "      <div>\n",
              "<style scoped>\n",
              "    .dataframe tbody tr th:only-of-type {\n",
              "        vertical-align: middle;\n",
              "    }\n",
              "\n",
              "    .dataframe tbody tr th {\n",
              "        vertical-align: top;\n",
              "    }\n",
              "\n",
              "    .dataframe thead th {\n",
              "        text-align: right;\n",
              "    }\n",
              "</style>\n",
              "<table border=\"1\" class=\"dataframe\">\n",
              "  <thead>\n",
              "    <tr style=\"text-align: right;\">\n",
              "      <th></th>\n",
              "      <th>popularity</th>\n",
              "      <th>original_title</th>\n",
              "      <th>runtime</th>\n",
              "      <th>vote_count</th>\n",
              "      <th>vote_average</th>\n",
              "      <th>popularity_level</th>\n",
              "      <th>Potencial_classic</th>\n",
              "      <th>popular_bin</th>\n",
              "      <th>avaliado_bin</th>\n",
              "    </tr>\n",
              "  </thead>\n",
              "  <tbody>\n",
              "    <tr>\n",
              "      <th>0</th>\n",
              "      <td>32.985763</td>\n",
              "      <td>Jurassic World</td>\n",
              "      <td>124</td>\n",
              "      <td>5562</td>\n",
              "      <td>6.5</td>\n",
              "      <td>High</td>\n",
              "      <td>7</td>\n",
              "      <td>1</td>\n",
              "      <td>1</td>\n",
              "    </tr>\n",
              "    <tr>\n",
              "      <th>1</th>\n",
              "      <td>28.419936</td>\n",
              "      <td>Mad Max: Fury Road</td>\n",
              "      <td>120</td>\n",
              "      <td>6185</td>\n",
              "      <td>7.1</td>\n",
              "      <td>High</td>\n",
              "      <td>7</td>\n",
              "      <td>1</td>\n",
              "      <td>1</td>\n",
              "    </tr>\n",
              "    <tr>\n",
              "      <th>2</th>\n",
              "      <td>13.112507</td>\n",
              "      <td>Insurgent</td>\n",
              "      <td>119</td>\n",
              "      <td>2480</td>\n",
              "      <td>6.3</td>\n",
              "      <td>High</td>\n",
              "      <td>6</td>\n",
              "      <td>1</td>\n",
              "      <td>0</td>\n",
              "    </tr>\n",
              "    <tr>\n",
              "      <th>3</th>\n",
              "      <td>11.173104</td>\n",
              "      <td>Star Wars: The Force Awakens</td>\n",
              "      <td>136</td>\n",
              "      <td>5292</td>\n",
              "      <td>7.5</td>\n",
              "      <td>High</td>\n",
              "      <td>7</td>\n",
              "      <td>1</td>\n",
              "      <td>1</td>\n",
              "    </tr>\n",
              "    <tr>\n",
              "      <th>4</th>\n",
              "      <td>9.335014</td>\n",
              "      <td>Furious 7</td>\n",
              "      <td>137</td>\n",
              "      <td>2947</td>\n",
              "      <td>7.3</td>\n",
              "      <td>High</td>\n",
              "      <td>7</td>\n",
              "      <td>1</td>\n",
              "      <td>1</td>\n",
              "    </tr>\n",
              "  </tbody>\n",
              "</table>\n",
              "</div>\n",
              "      <button class=\"colab-df-convert\" onclick=\"convertToInteractive('df-528c9890-a5c2-4df6-9422-dff7a16d0c42')\"\n",
              "              title=\"Convert this dataframe to an interactive table.\"\n",
              "              style=\"display:none;\">\n",
              "        \n",
              "  <svg xmlns=\"http://www.w3.org/2000/svg\" height=\"24px\"viewBox=\"0 0 24 24\"\n",
              "       width=\"24px\">\n",
              "    <path d=\"M0 0h24v24H0V0z\" fill=\"none\"/>\n",
              "    <path d=\"M18.56 5.44l.94 2.06.94-2.06 2.06-.94-2.06-.94-.94-2.06-.94 2.06-2.06.94zm-11 1L8.5 8.5l.94-2.06 2.06-.94-2.06-.94L8.5 2.5l-.94 2.06-2.06.94zm10 10l.94 2.06.94-2.06 2.06-.94-2.06-.94-.94-2.06-.94 2.06-2.06.94z\"/><path d=\"M17.41 7.96l-1.37-1.37c-.4-.4-.92-.59-1.43-.59-.52 0-1.04.2-1.43.59L10.3 9.45l-7.72 7.72c-.78.78-.78 2.05 0 2.83L4 21.41c.39.39.9.59 1.41.59.51 0 1.02-.2 1.41-.59l7.78-7.78 2.81-2.81c.8-.78.8-2.07 0-2.86zM5.41 20L4 18.59l7.72-7.72 1.47 1.35L5.41 20z\"/>\n",
              "  </svg>\n",
              "      </button>\n",
              "      \n",
              "  <style>\n",
              "    .colab-df-container {\n",
              "      display:flex;\n",
              "      flex-wrap:wrap;\n",
              "      gap: 12px;\n",
              "    }\n",
              "\n",
              "    .colab-df-convert {\n",
              "      background-color: #E8F0FE;\n",
              "      border: none;\n",
              "      border-radius: 50%;\n",
              "      cursor: pointer;\n",
              "      display: none;\n",
              "      fill: #1967D2;\n",
              "      height: 32px;\n",
              "      padding: 0 0 0 0;\n",
              "      width: 32px;\n",
              "    }\n",
              "\n",
              "    .colab-df-convert:hover {\n",
              "      background-color: #E2EBFA;\n",
              "      box-shadow: 0px 1px 2px rgba(60, 64, 67, 0.3), 0px 1px 3px 1px rgba(60, 64, 67, 0.15);\n",
              "      fill: #174EA6;\n",
              "    }\n",
              "\n",
              "    [theme=dark] .colab-df-convert {\n",
              "      background-color: #3B4455;\n",
              "      fill: #D2E3FC;\n",
              "    }\n",
              "\n",
              "    [theme=dark] .colab-df-convert:hover {\n",
              "      background-color: #434B5C;\n",
              "      box-shadow: 0px 1px 3px 1px rgba(0, 0, 0, 0.15);\n",
              "      filter: drop-shadow(0px 1px 2px rgba(0, 0, 0, 0.3));\n",
              "      fill: #FFFFFF;\n",
              "    }\n",
              "  </style>\n",
              "\n",
              "      <script>\n",
              "        const buttonEl =\n",
              "          document.querySelector('#df-528c9890-a5c2-4df6-9422-dff7a16d0c42 button.colab-df-convert');\n",
              "        buttonEl.style.display =\n",
              "          google.colab.kernel.accessAllowed ? 'block' : 'none';\n",
              "\n",
              "        async function convertToInteractive(key) {\n",
              "          const element = document.querySelector('#df-528c9890-a5c2-4df6-9422-dff7a16d0c42');\n",
              "          const dataTable =\n",
              "            await google.colab.kernel.invokeFunction('convertToInteractive',\n",
              "                                                     [key], {});\n",
              "          if (!dataTable) return;\n",
              "\n",
              "          const docLinkHtml = 'Like what you see? Visit the ' +\n",
              "            '<a target=\"_blank\" href=https://colab.research.google.com/notebooks/data_table.ipynb>data table notebook</a>'\n",
              "            + ' to learn more about interactive tables.';\n",
              "          element.innerHTML = '';\n",
              "          dataTable['output_type'] = 'display_data';\n",
              "          await google.colab.output.renderOutput(dataTable, element);\n",
              "          const docLink = document.createElement('div');\n",
              "          docLink.innerHTML = docLinkHtml;\n",
              "          element.appendChild(docLink);\n",
              "        }\n",
              "      </script>\n",
              "    </div>\n",
              "  </div>\n",
              "  "
            ]
          },
          "metadata": {},
          "execution_count": 474
        }
      ]
    },
    {
      "cell_type": "code",
      "source": [
        "Movie2 = pd.DataFrame(Movie)\n",
        "Movie2.head(2)"
      ],
      "metadata": {
        "colab": {
          "base_uri": "https://localhost:8080/",
          "height": 112
        },
        "id": "BIhtoBG27BfY",
        "outputId": "0026dade-f8f6-4c1d-94e4-25a7bd9746a6"
      },
      "execution_count": null,
      "outputs": [
        {
          "output_type": "execute_result",
          "data": {
            "text/plain": [
              "   popularity      original_title  runtime  vote_count  vote_average  \\\n",
              "0   32.985763      Jurassic World      124        5562           6.5   \n",
              "1   28.419936  Mad Max: Fury Road      120        6185           7.1   \n",
              "\n",
              "  popularity_level  Potencial_classic  popular_bin  avaliado_bin  \n",
              "0             High                  7            1             1  \n",
              "1             High                  7            1             1  "
            ],
            "text/html": [
              "\n",
              "  <div id=\"df-43b57bd8-8d43-4a1c-bd3f-a1210f522d7a\">\n",
              "    <div class=\"colab-df-container\">\n",
              "      <div>\n",
              "<style scoped>\n",
              "    .dataframe tbody tr th:only-of-type {\n",
              "        vertical-align: middle;\n",
              "    }\n",
              "\n",
              "    .dataframe tbody tr th {\n",
              "        vertical-align: top;\n",
              "    }\n",
              "\n",
              "    .dataframe thead th {\n",
              "        text-align: right;\n",
              "    }\n",
              "</style>\n",
              "<table border=\"1\" class=\"dataframe\">\n",
              "  <thead>\n",
              "    <tr style=\"text-align: right;\">\n",
              "      <th></th>\n",
              "      <th>popularity</th>\n",
              "      <th>original_title</th>\n",
              "      <th>runtime</th>\n",
              "      <th>vote_count</th>\n",
              "      <th>vote_average</th>\n",
              "      <th>popularity_level</th>\n",
              "      <th>Potencial_classic</th>\n",
              "      <th>popular_bin</th>\n",
              "      <th>avaliado_bin</th>\n",
              "    </tr>\n",
              "  </thead>\n",
              "  <tbody>\n",
              "    <tr>\n",
              "      <th>0</th>\n",
              "      <td>32.985763</td>\n",
              "      <td>Jurassic World</td>\n",
              "      <td>124</td>\n",
              "      <td>5562</td>\n",
              "      <td>6.5</td>\n",
              "      <td>High</td>\n",
              "      <td>7</td>\n",
              "      <td>1</td>\n",
              "      <td>1</td>\n",
              "    </tr>\n",
              "    <tr>\n",
              "      <th>1</th>\n",
              "      <td>28.419936</td>\n",
              "      <td>Mad Max: Fury Road</td>\n",
              "      <td>120</td>\n",
              "      <td>6185</td>\n",
              "      <td>7.1</td>\n",
              "      <td>High</td>\n",
              "      <td>7</td>\n",
              "      <td>1</td>\n",
              "      <td>1</td>\n",
              "    </tr>\n",
              "  </tbody>\n",
              "</table>\n",
              "</div>\n",
              "      <button class=\"colab-df-convert\" onclick=\"convertToInteractive('df-43b57bd8-8d43-4a1c-bd3f-a1210f522d7a')\"\n",
              "              title=\"Convert this dataframe to an interactive table.\"\n",
              "              style=\"display:none;\">\n",
              "        \n",
              "  <svg xmlns=\"http://www.w3.org/2000/svg\" height=\"24px\"viewBox=\"0 0 24 24\"\n",
              "       width=\"24px\">\n",
              "    <path d=\"M0 0h24v24H0V0z\" fill=\"none\"/>\n",
              "    <path d=\"M18.56 5.44l.94 2.06.94-2.06 2.06-.94-2.06-.94-.94-2.06-.94 2.06-2.06.94zm-11 1L8.5 8.5l.94-2.06 2.06-.94-2.06-.94L8.5 2.5l-.94 2.06-2.06.94zm10 10l.94 2.06.94-2.06 2.06-.94-2.06-.94-.94-2.06-.94 2.06-2.06.94z\"/><path d=\"M17.41 7.96l-1.37-1.37c-.4-.4-.92-.59-1.43-.59-.52 0-1.04.2-1.43.59L10.3 9.45l-7.72 7.72c-.78.78-.78 2.05 0 2.83L4 21.41c.39.39.9.59 1.41.59.51 0 1.02-.2 1.41-.59l7.78-7.78 2.81-2.81c.8-.78.8-2.07 0-2.86zM5.41 20L4 18.59l7.72-7.72 1.47 1.35L5.41 20z\"/>\n",
              "  </svg>\n",
              "      </button>\n",
              "      \n",
              "  <style>\n",
              "    .colab-df-container {\n",
              "      display:flex;\n",
              "      flex-wrap:wrap;\n",
              "      gap: 12px;\n",
              "    }\n",
              "\n",
              "    .colab-df-convert {\n",
              "      background-color: #E8F0FE;\n",
              "      border: none;\n",
              "      border-radius: 50%;\n",
              "      cursor: pointer;\n",
              "      display: none;\n",
              "      fill: #1967D2;\n",
              "      height: 32px;\n",
              "      padding: 0 0 0 0;\n",
              "      width: 32px;\n",
              "    }\n",
              "\n",
              "    .colab-df-convert:hover {\n",
              "      background-color: #E2EBFA;\n",
              "      box-shadow: 0px 1px 2px rgba(60, 64, 67, 0.3), 0px 1px 3px 1px rgba(60, 64, 67, 0.15);\n",
              "      fill: #174EA6;\n",
              "    }\n",
              "\n",
              "    [theme=dark] .colab-df-convert {\n",
              "      background-color: #3B4455;\n",
              "      fill: #D2E3FC;\n",
              "    }\n",
              "\n",
              "    [theme=dark] .colab-df-convert:hover {\n",
              "      background-color: #434B5C;\n",
              "      box-shadow: 0px 1px 3px 1px rgba(0, 0, 0, 0.15);\n",
              "      filter: drop-shadow(0px 1px 2px rgba(0, 0, 0, 0.3));\n",
              "      fill: #FFFFFF;\n",
              "    }\n",
              "  </style>\n",
              "\n",
              "      <script>\n",
              "        const buttonEl =\n",
              "          document.querySelector('#df-43b57bd8-8d43-4a1c-bd3f-a1210f522d7a button.colab-df-convert');\n",
              "        buttonEl.style.display =\n",
              "          google.colab.kernel.accessAllowed ? 'block' : 'none';\n",
              "\n",
              "        async function convertToInteractive(key) {\n",
              "          const element = document.querySelector('#df-43b57bd8-8d43-4a1c-bd3f-a1210f522d7a');\n",
              "          const dataTable =\n",
              "            await google.colab.kernel.invokeFunction('convertToInteractive',\n",
              "                                                     [key], {});\n",
              "          if (!dataTable) return;\n",
              "\n",
              "          const docLinkHtml = 'Like what you see? Visit the ' +\n",
              "            '<a target=\"_blank\" href=https://colab.research.google.com/notebooks/data_table.ipynb>data table notebook</a>'\n",
              "            + ' to learn more about interactive tables.';\n",
              "          element.innerHTML = '';\n",
              "          dataTable['output_type'] = 'display_data';\n",
              "          await google.colab.output.renderOutput(dataTable, element);\n",
              "          const docLink = document.createElement('div');\n",
              "          docLink.innerHTML = docLinkHtml;\n",
              "          element.appendChild(docLink);\n",
              "        }\n",
              "      </script>\n",
              "    </div>\n",
              "  </div>\n",
              "  "
            ]
          },
          "metadata": {},
          "execution_count": 475
        }
      ]
    },
    {
      "cell_type": "code",
      "source": [
        "Movie2.drop('original_title', axis=1, inplace=True)\n",
        "Movie2.drop('popularity_level', axis=1, inplace=True)\n",
        "Movie2.head(2)"
      ],
      "metadata": {
        "colab": {
          "base_uri": "https://localhost:8080/",
          "height": 112
        },
        "id": "6rbKvfv98yuk",
        "outputId": "026fe6a5-b826-418d-83b0-a02dad7897f8"
      },
      "execution_count": null,
      "outputs": [
        {
          "output_type": "execute_result",
          "data": {
            "text/plain": [
              "   popularity  runtime  vote_count  vote_average  Potencial_classic  \\\n",
              "0   32.985763      124        5562           6.5                  7   \n",
              "1   28.419936      120        6185           7.1                  7   \n",
              "\n",
              "   popular_bin  avaliado_bin  \n",
              "0            1             1  \n",
              "1            1             1  "
            ],
            "text/html": [
              "\n",
              "  <div id=\"df-6b81f56d-f960-459d-aceb-05505d03cd4d\">\n",
              "    <div class=\"colab-df-container\">\n",
              "      <div>\n",
              "<style scoped>\n",
              "    .dataframe tbody tr th:only-of-type {\n",
              "        vertical-align: middle;\n",
              "    }\n",
              "\n",
              "    .dataframe tbody tr th {\n",
              "        vertical-align: top;\n",
              "    }\n",
              "\n",
              "    .dataframe thead th {\n",
              "        text-align: right;\n",
              "    }\n",
              "</style>\n",
              "<table border=\"1\" class=\"dataframe\">\n",
              "  <thead>\n",
              "    <tr style=\"text-align: right;\">\n",
              "      <th></th>\n",
              "      <th>popularity</th>\n",
              "      <th>runtime</th>\n",
              "      <th>vote_count</th>\n",
              "      <th>vote_average</th>\n",
              "      <th>Potencial_classic</th>\n",
              "      <th>popular_bin</th>\n",
              "      <th>avaliado_bin</th>\n",
              "    </tr>\n",
              "  </thead>\n",
              "  <tbody>\n",
              "    <tr>\n",
              "      <th>0</th>\n",
              "      <td>32.985763</td>\n",
              "      <td>124</td>\n",
              "      <td>5562</td>\n",
              "      <td>6.5</td>\n",
              "      <td>7</td>\n",
              "      <td>1</td>\n",
              "      <td>1</td>\n",
              "    </tr>\n",
              "    <tr>\n",
              "      <th>1</th>\n",
              "      <td>28.419936</td>\n",
              "      <td>120</td>\n",
              "      <td>6185</td>\n",
              "      <td>7.1</td>\n",
              "      <td>7</td>\n",
              "      <td>1</td>\n",
              "      <td>1</td>\n",
              "    </tr>\n",
              "  </tbody>\n",
              "</table>\n",
              "</div>\n",
              "      <button class=\"colab-df-convert\" onclick=\"convertToInteractive('df-6b81f56d-f960-459d-aceb-05505d03cd4d')\"\n",
              "              title=\"Convert this dataframe to an interactive table.\"\n",
              "              style=\"display:none;\">\n",
              "        \n",
              "  <svg xmlns=\"http://www.w3.org/2000/svg\" height=\"24px\"viewBox=\"0 0 24 24\"\n",
              "       width=\"24px\">\n",
              "    <path d=\"M0 0h24v24H0V0z\" fill=\"none\"/>\n",
              "    <path d=\"M18.56 5.44l.94 2.06.94-2.06 2.06-.94-2.06-.94-.94-2.06-.94 2.06-2.06.94zm-11 1L8.5 8.5l.94-2.06 2.06-.94-2.06-.94L8.5 2.5l-.94 2.06-2.06.94zm10 10l.94 2.06.94-2.06 2.06-.94-2.06-.94-.94-2.06-.94 2.06-2.06.94z\"/><path d=\"M17.41 7.96l-1.37-1.37c-.4-.4-.92-.59-1.43-.59-.52 0-1.04.2-1.43.59L10.3 9.45l-7.72 7.72c-.78.78-.78 2.05 0 2.83L4 21.41c.39.39.9.59 1.41.59.51 0 1.02-.2 1.41-.59l7.78-7.78 2.81-2.81c.8-.78.8-2.07 0-2.86zM5.41 20L4 18.59l7.72-7.72 1.47 1.35L5.41 20z\"/>\n",
              "  </svg>\n",
              "      </button>\n",
              "      \n",
              "  <style>\n",
              "    .colab-df-container {\n",
              "      display:flex;\n",
              "      flex-wrap:wrap;\n",
              "      gap: 12px;\n",
              "    }\n",
              "\n",
              "    .colab-df-convert {\n",
              "      background-color: #E8F0FE;\n",
              "      border: none;\n",
              "      border-radius: 50%;\n",
              "      cursor: pointer;\n",
              "      display: none;\n",
              "      fill: #1967D2;\n",
              "      height: 32px;\n",
              "      padding: 0 0 0 0;\n",
              "      width: 32px;\n",
              "    }\n",
              "\n",
              "    .colab-df-convert:hover {\n",
              "      background-color: #E2EBFA;\n",
              "      box-shadow: 0px 1px 2px rgba(60, 64, 67, 0.3), 0px 1px 3px 1px rgba(60, 64, 67, 0.15);\n",
              "      fill: #174EA6;\n",
              "    }\n",
              "\n",
              "    [theme=dark] .colab-df-convert {\n",
              "      background-color: #3B4455;\n",
              "      fill: #D2E3FC;\n",
              "    }\n",
              "\n",
              "    [theme=dark] .colab-df-convert:hover {\n",
              "      background-color: #434B5C;\n",
              "      box-shadow: 0px 1px 3px 1px rgba(0, 0, 0, 0.15);\n",
              "      filter: drop-shadow(0px 1px 2px rgba(0, 0, 0, 0.3));\n",
              "      fill: #FFFFFF;\n",
              "    }\n",
              "  </style>\n",
              "\n",
              "      <script>\n",
              "        const buttonEl =\n",
              "          document.querySelector('#df-6b81f56d-f960-459d-aceb-05505d03cd4d button.colab-df-convert');\n",
              "        buttonEl.style.display =\n",
              "          google.colab.kernel.accessAllowed ? 'block' : 'none';\n",
              "\n",
              "        async function convertToInteractive(key) {\n",
              "          const element = document.querySelector('#df-6b81f56d-f960-459d-aceb-05505d03cd4d');\n",
              "          const dataTable =\n",
              "            await google.colab.kernel.invokeFunction('convertToInteractive',\n",
              "                                                     [key], {});\n",
              "          if (!dataTable) return;\n",
              "\n",
              "          const docLinkHtml = 'Like what you see? Visit the ' +\n",
              "            '<a target=\"_blank\" href=https://colab.research.google.com/notebooks/data_table.ipynb>data table notebook</a>'\n",
              "            + ' to learn more about interactive tables.';\n",
              "          element.innerHTML = '';\n",
              "          dataTable['output_type'] = 'display_data';\n",
              "          await google.colab.output.renderOutput(dataTable, element);\n",
              "          const docLink = document.createElement('div');\n",
              "          docLink.innerHTML = docLinkHtml;\n",
              "          element.appendChild(docLink);\n",
              "        }\n",
              "      </script>\n",
              "    </div>\n",
              "  </div>\n",
              "  "
            ]
          },
          "metadata": {},
          "execution_count": 476
        }
      ]
    },
    {
      "cell_type": "markdown",
      "source": [
        "Dataframe Movie2 já está adequado, vamos iniciar a Normalização dos dados"
      ],
      "metadata": {
        "id": "zWbaqyMY83FP"
      }
    },
    {
      "cell_type": "code",
      "source": [
        "from sklearn.preprocessing import StandardScaler\n",
        "\n",
        "scaler = StandardScaler()\n",
        "ajuste = scaler.fit(Movie2)\n",
        "normal = scaler.transform(Movie2)\n",
        "\n",
        "normalpadrao = pd.DataFrame(normal)\n",
        "normalpadrao.head()"
      ],
      "metadata": {
        "colab": {
          "base_uri": "https://localhost:8080/",
          "height": 206
        },
        "id": "bX43ohmk1H8d",
        "outputId": "cd5f64fb-33a5-4446-ab99-a9e228e41043"
      },
      "execution_count": null,
      "outputs": [
        {
          "output_type": "execute_result",
          "data": {
            "text/plain": [
              "           0         1         2         3         4         5         6\n",
              "0  14.369199  0.729975  3.677113  0.277149  1.458713  1.000777  1.065049\n",
              "1  12.266384  0.517255  4.173532  1.031254  1.458713  1.000777  1.065049\n",
              "2   5.216470  0.464075  1.221313  0.025781  1.045743  1.000777 -0.938924\n",
              "3   4.323268  1.368135  3.461971  1.533990  1.458713  1.000777  1.065049\n",
              "4   3.476727  1.421315  1.593428  1.282622  1.458713  1.000777  1.065049"
            ],
            "text/html": [
              "\n",
              "  <div id=\"df-556d47e5-6de9-4d55-894c-78b51f37b70a\">\n",
              "    <div class=\"colab-df-container\">\n",
              "      <div>\n",
              "<style scoped>\n",
              "    .dataframe tbody tr th:only-of-type {\n",
              "        vertical-align: middle;\n",
              "    }\n",
              "\n",
              "    .dataframe tbody tr th {\n",
              "        vertical-align: top;\n",
              "    }\n",
              "\n",
              "    .dataframe thead th {\n",
              "        text-align: right;\n",
              "    }\n",
              "</style>\n",
              "<table border=\"1\" class=\"dataframe\">\n",
              "  <thead>\n",
              "    <tr style=\"text-align: right;\">\n",
              "      <th></th>\n",
              "      <th>0</th>\n",
              "      <th>1</th>\n",
              "      <th>2</th>\n",
              "      <th>3</th>\n",
              "      <th>4</th>\n",
              "      <th>5</th>\n",
              "      <th>6</th>\n",
              "    </tr>\n",
              "  </thead>\n",
              "  <tbody>\n",
              "    <tr>\n",
              "      <th>0</th>\n",
              "      <td>14.369199</td>\n",
              "      <td>0.729975</td>\n",
              "      <td>3.677113</td>\n",
              "      <td>0.277149</td>\n",
              "      <td>1.458713</td>\n",
              "      <td>1.000777</td>\n",
              "      <td>1.065049</td>\n",
              "    </tr>\n",
              "    <tr>\n",
              "      <th>1</th>\n",
              "      <td>12.266384</td>\n",
              "      <td>0.517255</td>\n",
              "      <td>4.173532</td>\n",
              "      <td>1.031254</td>\n",
              "      <td>1.458713</td>\n",
              "      <td>1.000777</td>\n",
              "      <td>1.065049</td>\n",
              "    </tr>\n",
              "    <tr>\n",
              "      <th>2</th>\n",
              "      <td>5.216470</td>\n",
              "      <td>0.464075</td>\n",
              "      <td>1.221313</td>\n",
              "      <td>0.025781</td>\n",
              "      <td>1.045743</td>\n",
              "      <td>1.000777</td>\n",
              "      <td>-0.938924</td>\n",
              "    </tr>\n",
              "    <tr>\n",
              "      <th>3</th>\n",
              "      <td>4.323268</td>\n",
              "      <td>1.368135</td>\n",
              "      <td>3.461971</td>\n",
              "      <td>1.533990</td>\n",
              "      <td>1.458713</td>\n",
              "      <td>1.000777</td>\n",
              "      <td>1.065049</td>\n",
              "    </tr>\n",
              "    <tr>\n",
              "      <th>4</th>\n",
              "      <td>3.476727</td>\n",
              "      <td>1.421315</td>\n",
              "      <td>1.593428</td>\n",
              "      <td>1.282622</td>\n",
              "      <td>1.458713</td>\n",
              "      <td>1.000777</td>\n",
              "      <td>1.065049</td>\n",
              "    </tr>\n",
              "  </tbody>\n",
              "</table>\n",
              "</div>\n",
              "      <button class=\"colab-df-convert\" onclick=\"convertToInteractive('df-556d47e5-6de9-4d55-894c-78b51f37b70a')\"\n",
              "              title=\"Convert this dataframe to an interactive table.\"\n",
              "              style=\"display:none;\">\n",
              "        \n",
              "  <svg xmlns=\"http://www.w3.org/2000/svg\" height=\"24px\"viewBox=\"0 0 24 24\"\n",
              "       width=\"24px\">\n",
              "    <path d=\"M0 0h24v24H0V0z\" fill=\"none\"/>\n",
              "    <path d=\"M18.56 5.44l.94 2.06.94-2.06 2.06-.94-2.06-.94-.94-2.06-.94 2.06-2.06.94zm-11 1L8.5 8.5l.94-2.06 2.06-.94-2.06-.94L8.5 2.5l-.94 2.06-2.06.94zm10 10l.94 2.06.94-2.06 2.06-.94-2.06-.94-.94-2.06-.94 2.06-2.06.94z\"/><path d=\"M17.41 7.96l-1.37-1.37c-.4-.4-.92-.59-1.43-.59-.52 0-1.04.2-1.43.59L10.3 9.45l-7.72 7.72c-.78.78-.78 2.05 0 2.83L4 21.41c.39.39.9.59 1.41.59.51 0 1.02-.2 1.41-.59l7.78-7.78 2.81-2.81c.8-.78.8-2.07 0-2.86zM5.41 20L4 18.59l7.72-7.72 1.47 1.35L5.41 20z\"/>\n",
              "  </svg>\n",
              "      </button>\n",
              "      \n",
              "  <style>\n",
              "    .colab-df-container {\n",
              "      display:flex;\n",
              "      flex-wrap:wrap;\n",
              "      gap: 12px;\n",
              "    }\n",
              "\n",
              "    .colab-df-convert {\n",
              "      background-color: #E8F0FE;\n",
              "      border: none;\n",
              "      border-radius: 50%;\n",
              "      cursor: pointer;\n",
              "      display: none;\n",
              "      fill: #1967D2;\n",
              "      height: 32px;\n",
              "      padding: 0 0 0 0;\n",
              "      width: 32px;\n",
              "    }\n",
              "\n",
              "    .colab-df-convert:hover {\n",
              "      background-color: #E2EBFA;\n",
              "      box-shadow: 0px 1px 2px rgba(60, 64, 67, 0.3), 0px 1px 3px 1px rgba(60, 64, 67, 0.15);\n",
              "      fill: #174EA6;\n",
              "    }\n",
              "\n",
              "    [theme=dark] .colab-df-convert {\n",
              "      background-color: #3B4455;\n",
              "      fill: #D2E3FC;\n",
              "    }\n",
              "\n",
              "    [theme=dark] .colab-df-convert:hover {\n",
              "      background-color: #434B5C;\n",
              "      box-shadow: 0px 1px 3px 1px rgba(0, 0, 0, 0.15);\n",
              "      filter: drop-shadow(0px 1px 2px rgba(0, 0, 0, 0.3));\n",
              "      fill: #FFFFFF;\n",
              "    }\n",
              "  </style>\n",
              "\n",
              "      <script>\n",
              "        const buttonEl =\n",
              "          document.querySelector('#df-556d47e5-6de9-4d55-894c-78b51f37b70a button.colab-df-convert');\n",
              "        buttonEl.style.display =\n",
              "          google.colab.kernel.accessAllowed ? 'block' : 'none';\n",
              "\n",
              "        async function convertToInteractive(key) {\n",
              "          const element = document.querySelector('#df-556d47e5-6de9-4d55-894c-78b51f37b70a');\n",
              "          const dataTable =\n",
              "            await google.colab.kernel.invokeFunction('convertToInteractive',\n",
              "                                                     [key], {});\n",
              "          if (!dataTable) return;\n",
              "\n",
              "          const docLinkHtml = 'Like what you see? Visit the ' +\n",
              "            '<a target=\"_blank\" href=https://colab.research.google.com/notebooks/data_table.ipynb>data table notebook</a>'\n",
              "            + ' to learn more about interactive tables.';\n",
              "          element.innerHTML = '';\n",
              "          dataTable['output_type'] = 'display_data';\n",
              "          await google.colab.output.renderOutput(dataTable, element);\n",
              "          const docLink = document.createElement('div');\n",
              "          docLink.innerHTML = docLinkHtml;\n",
              "          element.appendChild(docLink);\n",
              "        }\n",
              "      </script>\n",
              "    </div>\n",
              "  </div>\n",
              "  "
            ]
          },
          "metadata": {},
          "execution_count": 477
        }
      ]
    },
    {
      "cell_type": "markdown",
      "source": [
        "##Vamos verificar a distribuição Normal padronizada dos elementos da tabela##"
      ],
      "metadata": {
        "id": "7Z6F_X36ixZV"
      }
    },
    {
      "cell_type": "code",
      "source": [
        "normalpadrao.describe()"
      ],
      "metadata": {
        "colab": {
          "base_uri": "https://localhost:8080/",
          "height": 300
        },
        "id": "ttx7-ni792OA",
        "outputId": "5d3575f0-5491-4556-e2b0-411d9a74363d"
      },
      "execution_count": null,
      "outputs": [
        {
          "output_type": "execute_result",
          "data": {
            "text/plain": [
              "                 0             1             2             3             4  \\\n",
              "count  1287.000000  1.287000e+03  1.287000e+03  1.287000e+03  1.287000e+03   \n",
              "mean      0.000000  5.520923e-17 -3.312554e-17  1.104185e-16  1.104185e-17   \n",
              "std       1.000389  1.000389e+00  1.000389e+00  1.000389e+00  1.000389e+00   \n",
              "min      -0.817802 -2.514005e+00 -7.468328e-01 -5.127265e+00 -1.432080e+00   \n",
              "25%      -0.516392 -7.058851e-01 -6.121702e-01 -6.026389e-01 -8.126245e-01   \n",
              "50%      -0.291839 -1.740850e-01 -4.049970e-01  2.578134e-02 -1.931688e-01   \n",
              "75%       0.156275  5.704351e-01  1.798690e-01  6.542016e-01  8.392574e-01   \n",
              "max      14.369199  4.824836e+00  7.027741e+00  2.539462e+00  1.458713e+00   \n",
              "\n",
              "                  5             6  \n",
              "count  1.287000e+03  1.287000e+03  \n",
              "mean   6.073015e-17 -7.729292e-17  \n",
              "std    1.000389e+00  1.000389e+00  \n",
              "min   -9.992233e-01 -9.389244e-01  \n",
              "25%   -9.992233e-01 -9.389244e-01  \n",
              "50%   -9.992233e-01 -9.389244e-01  \n",
              "75%    1.000777e+00  1.065049e+00  \n",
              "max    1.000777e+00  1.065049e+00  "
            ],
            "text/html": [
              "\n",
              "  <div id=\"df-436aabbc-1dc2-4d1c-8484-8fbac4d3905f\">\n",
              "    <div class=\"colab-df-container\">\n",
              "      <div>\n",
              "<style scoped>\n",
              "    .dataframe tbody tr th:only-of-type {\n",
              "        vertical-align: middle;\n",
              "    }\n",
              "\n",
              "    .dataframe tbody tr th {\n",
              "        vertical-align: top;\n",
              "    }\n",
              "\n",
              "    .dataframe thead th {\n",
              "        text-align: right;\n",
              "    }\n",
              "</style>\n",
              "<table border=\"1\" class=\"dataframe\">\n",
              "  <thead>\n",
              "    <tr style=\"text-align: right;\">\n",
              "      <th></th>\n",
              "      <th>0</th>\n",
              "      <th>1</th>\n",
              "      <th>2</th>\n",
              "      <th>3</th>\n",
              "      <th>4</th>\n",
              "      <th>5</th>\n",
              "      <th>6</th>\n",
              "    </tr>\n",
              "  </thead>\n",
              "  <tbody>\n",
              "    <tr>\n",
              "      <th>count</th>\n",
              "      <td>1287.000000</td>\n",
              "      <td>1.287000e+03</td>\n",
              "      <td>1.287000e+03</td>\n",
              "      <td>1.287000e+03</td>\n",
              "      <td>1.287000e+03</td>\n",
              "      <td>1.287000e+03</td>\n",
              "      <td>1.287000e+03</td>\n",
              "    </tr>\n",
              "    <tr>\n",
              "      <th>mean</th>\n",
              "      <td>0.000000</td>\n",
              "      <td>5.520923e-17</td>\n",
              "      <td>-3.312554e-17</td>\n",
              "      <td>1.104185e-16</td>\n",
              "      <td>1.104185e-17</td>\n",
              "      <td>6.073015e-17</td>\n",
              "      <td>-7.729292e-17</td>\n",
              "    </tr>\n",
              "    <tr>\n",
              "      <th>std</th>\n",
              "      <td>1.000389</td>\n",
              "      <td>1.000389e+00</td>\n",
              "      <td>1.000389e+00</td>\n",
              "      <td>1.000389e+00</td>\n",
              "      <td>1.000389e+00</td>\n",
              "      <td>1.000389e+00</td>\n",
              "      <td>1.000389e+00</td>\n",
              "    </tr>\n",
              "    <tr>\n",
              "      <th>min</th>\n",
              "      <td>-0.817802</td>\n",
              "      <td>-2.514005e+00</td>\n",
              "      <td>-7.468328e-01</td>\n",
              "      <td>-5.127265e+00</td>\n",
              "      <td>-1.432080e+00</td>\n",
              "      <td>-9.992233e-01</td>\n",
              "      <td>-9.389244e-01</td>\n",
              "    </tr>\n",
              "    <tr>\n",
              "      <th>25%</th>\n",
              "      <td>-0.516392</td>\n",
              "      <td>-7.058851e-01</td>\n",
              "      <td>-6.121702e-01</td>\n",
              "      <td>-6.026389e-01</td>\n",
              "      <td>-8.126245e-01</td>\n",
              "      <td>-9.992233e-01</td>\n",
              "      <td>-9.389244e-01</td>\n",
              "    </tr>\n",
              "    <tr>\n",
              "      <th>50%</th>\n",
              "      <td>-0.291839</td>\n",
              "      <td>-1.740850e-01</td>\n",
              "      <td>-4.049970e-01</td>\n",
              "      <td>2.578134e-02</td>\n",
              "      <td>-1.931688e-01</td>\n",
              "      <td>-9.992233e-01</td>\n",
              "      <td>-9.389244e-01</td>\n",
              "    </tr>\n",
              "    <tr>\n",
              "      <th>75%</th>\n",
              "      <td>0.156275</td>\n",
              "      <td>5.704351e-01</td>\n",
              "      <td>1.798690e-01</td>\n",
              "      <td>6.542016e-01</td>\n",
              "      <td>8.392574e-01</td>\n",
              "      <td>1.000777e+00</td>\n",
              "      <td>1.065049e+00</td>\n",
              "    </tr>\n",
              "    <tr>\n",
              "      <th>max</th>\n",
              "      <td>14.369199</td>\n",
              "      <td>4.824836e+00</td>\n",
              "      <td>7.027741e+00</td>\n",
              "      <td>2.539462e+00</td>\n",
              "      <td>1.458713e+00</td>\n",
              "      <td>1.000777e+00</td>\n",
              "      <td>1.065049e+00</td>\n",
              "    </tr>\n",
              "  </tbody>\n",
              "</table>\n",
              "</div>\n",
              "      <button class=\"colab-df-convert\" onclick=\"convertToInteractive('df-436aabbc-1dc2-4d1c-8484-8fbac4d3905f')\"\n",
              "              title=\"Convert this dataframe to an interactive table.\"\n",
              "              style=\"display:none;\">\n",
              "        \n",
              "  <svg xmlns=\"http://www.w3.org/2000/svg\" height=\"24px\"viewBox=\"0 0 24 24\"\n",
              "       width=\"24px\">\n",
              "    <path d=\"M0 0h24v24H0V0z\" fill=\"none\"/>\n",
              "    <path d=\"M18.56 5.44l.94 2.06.94-2.06 2.06-.94-2.06-.94-.94-2.06-.94 2.06-2.06.94zm-11 1L8.5 8.5l.94-2.06 2.06-.94-2.06-.94L8.5 2.5l-.94 2.06-2.06.94zm10 10l.94 2.06.94-2.06 2.06-.94-2.06-.94-.94-2.06-.94 2.06-2.06.94z\"/><path d=\"M17.41 7.96l-1.37-1.37c-.4-.4-.92-.59-1.43-.59-.52 0-1.04.2-1.43.59L10.3 9.45l-7.72 7.72c-.78.78-.78 2.05 0 2.83L4 21.41c.39.39.9.59 1.41.59.51 0 1.02-.2 1.41-.59l7.78-7.78 2.81-2.81c.8-.78.8-2.07 0-2.86zM5.41 20L4 18.59l7.72-7.72 1.47 1.35L5.41 20z\"/>\n",
              "  </svg>\n",
              "      </button>\n",
              "      \n",
              "  <style>\n",
              "    .colab-df-container {\n",
              "      display:flex;\n",
              "      flex-wrap:wrap;\n",
              "      gap: 12px;\n",
              "    }\n",
              "\n",
              "    .colab-df-convert {\n",
              "      background-color: #E8F0FE;\n",
              "      border: none;\n",
              "      border-radius: 50%;\n",
              "      cursor: pointer;\n",
              "      display: none;\n",
              "      fill: #1967D2;\n",
              "      height: 32px;\n",
              "      padding: 0 0 0 0;\n",
              "      width: 32px;\n",
              "    }\n",
              "\n",
              "    .colab-df-convert:hover {\n",
              "      background-color: #E2EBFA;\n",
              "      box-shadow: 0px 1px 2px rgba(60, 64, 67, 0.3), 0px 1px 3px 1px rgba(60, 64, 67, 0.15);\n",
              "      fill: #174EA6;\n",
              "    }\n",
              "\n",
              "    [theme=dark] .colab-df-convert {\n",
              "      background-color: #3B4455;\n",
              "      fill: #D2E3FC;\n",
              "    }\n",
              "\n",
              "    [theme=dark] .colab-df-convert:hover {\n",
              "      background-color: #434B5C;\n",
              "      box-shadow: 0px 1px 3px 1px rgba(0, 0, 0, 0.15);\n",
              "      filter: drop-shadow(0px 1px 2px rgba(0, 0, 0, 0.3));\n",
              "      fill: #FFFFFF;\n",
              "    }\n",
              "  </style>\n",
              "\n",
              "      <script>\n",
              "        const buttonEl =\n",
              "          document.querySelector('#df-436aabbc-1dc2-4d1c-8484-8fbac4d3905f button.colab-df-convert');\n",
              "        buttonEl.style.display =\n",
              "          google.colab.kernel.accessAllowed ? 'block' : 'none';\n",
              "\n",
              "        async function convertToInteractive(key) {\n",
              "          const element = document.querySelector('#df-436aabbc-1dc2-4d1c-8484-8fbac4d3905f');\n",
              "          const dataTable =\n",
              "            await google.colab.kernel.invokeFunction('convertToInteractive',\n",
              "                                                     [key], {});\n",
              "          if (!dataTable) return;\n",
              "\n",
              "          const docLinkHtml = 'Like what you see? Visit the ' +\n",
              "            '<a target=\"_blank\" href=https://colab.research.google.com/notebooks/data_table.ipynb>data table notebook</a>'\n",
              "            + ' to learn more about interactive tables.';\n",
              "          element.innerHTML = '';\n",
              "          dataTable['output_type'] = 'display_data';\n",
              "          await google.colab.output.renderOutput(dataTable, element);\n",
              "          const docLink = document.createElement('div');\n",
              "          docLink.innerHTML = docLinkHtml;\n",
              "          element.appendChild(docLink);\n",
              "        }\n",
              "      </script>\n",
              "    </div>\n",
              "  </div>\n",
              "  "
            ]
          },
          "metadata": {},
          "execution_count": 478
        }
      ]
    },
    {
      "cell_type": "markdown",
      "source": [
        "#*Estatística Descritiva - Gráficos*"
      ],
      "metadata": {
        "id": "fsZUIA-ipxBJ"
      }
    },
    {
      "cell_type": "code",
      "source": [
        "Movie2.head(3)"
      ],
      "metadata": {
        "colab": {
          "base_uri": "https://localhost:8080/",
          "height": 143
        },
        "id": "T_B9JDbYGwxu",
        "outputId": "44fa2603-18c6-48a4-994c-750de149b6c7"
      },
      "execution_count": null,
      "outputs": [
        {
          "output_type": "execute_result",
          "data": {
            "text/plain": [
              "   popularity  runtime  vote_count  vote_average  Potencial_classic  \\\n",
              "0   32.985763      124        5562           6.5                  7   \n",
              "1   28.419936      120        6185           7.1                  7   \n",
              "2   13.112507      119        2480           6.3                  6   \n",
              "\n",
              "   popular_bin  avaliado_bin  \n",
              "0            1             1  \n",
              "1            1             1  \n",
              "2            1             0  "
            ],
            "text/html": [
              "\n",
              "  <div id=\"df-49ac9511-b250-47a7-8435-1b81428595cf\">\n",
              "    <div class=\"colab-df-container\">\n",
              "      <div>\n",
              "<style scoped>\n",
              "    .dataframe tbody tr th:only-of-type {\n",
              "        vertical-align: middle;\n",
              "    }\n",
              "\n",
              "    .dataframe tbody tr th {\n",
              "        vertical-align: top;\n",
              "    }\n",
              "\n",
              "    .dataframe thead th {\n",
              "        text-align: right;\n",
              "    }\n",
              "</style>\n",
              "<table border=\"1\" class=\"dataframe\">\n",
              "  <thead>\n",
              "    <tr style=\"text-align: right;\">\n",
              "      <th></th>\n",
              "      <th>popularity</th>\n",
              "      <th>runtime</th>\n",
              "      <th>vote_count</th>\n",
              "      <th>vote_average</th>\n",
              "      <th>Potencial_classic</th>\n",
              "      <th>popular_bin</th>\n",
              "      <th>avaliado_bin</th>\n",
              "    </tr>\n",
              "  </thead>\n",
              "  <tbody>\n",
              "    <tr>\n",
              "      <th>0</th>\n",
              "      <td>32.985763</td>\n",
              "      <td>124</td>\n",
              "      <td>5562</td>\n",
              "      <td>6.5</td>\n",
              "      <td>7</td>\n",
              "      <td>1</td>\n",
              "      <td>1</td>\n",
              "    </tr>\n",
              "    <tr>\n",
              "      <th>1</th>\n",
              "      <td>28.419936</td>\n",
              "      <td>120</td>\n",
              "      <td>6185</td>\n",
              "      <td>7.1</td>\n",
              "      <td>7</td>\n",
              "      <td>1</td>\n",
              "      <td>1</td>\n",
              "    </tr>\n",
              "    <tr>\n",
              "      <th>2</th>\n",
              "      <td>13.112507</td>\n",
              "      <td>119</td>\n",
              "      <td>2480</td>\n",
              "      <td>6.3</td>\n",
              "      <td>6</td>\n",
              "      <td>1</td>\n",
              "      <td>0</td>\n",
              "    </tr>\n",
              "  </tbody>\n",
              "</table>\n",
              "</div>\n",
              "      <button class=\"colab-df-convert\" onclick=\"convertToInteractive('df-49ac9511-b250-47a7-8435-1b81428595cf')\"\n",
              "              title=\"Convert this dataframe to an interactive table.\"\n",
              "              style=\"display:none;\">\n",
              "        \n",
              "  <svg xmlns=\"http://www.w3.org/2000/svg\" height=\"24px\"viewBox=\"0 0 24 24\"\n",
              "       width=\"24px\">\n",
              "    <path d=\"M0 0h24v24H0V0z\" fill=\"none\"/>\n",
              "    <path d=\"M18.56 5.44l.94 2.06.94-2.06 2.06-.94-2.06-.94-.94-2.06-.94 2.06-2.06.94zm-11 1L8.5 8.5l.94-2.06 2.06-.94-2.06-.94L8.5 2.5l-.94 2.06-2.06.94zm10 10l.94 2.06.94-2.06 2.06-.94-2.06-.94-.94-2.06-.94 2.06-2.06.94z\"/><path d=\"M17.41 7.96l-1.37-1.37c-.4-.4-.92-.59-1.43-.59-.52 0-1.04.2-1.43.59L10.3 9.45l-7.72 7.72c-.78.78-.78 2.05 0 2.83L4 21.41c.39.39.9.59 1.41.59.51 0 1.02-.2 1.41-.59l7.78-7.78 2.81-2.81c.8-.78.8-2.07 0-2.86zM5.41 20L4 18.59l7.72-7.72 1.47 1.35L5.41 20z\"/>\n",
              "  </svg>\n",
              "      </button>\n",
              "      \n",
              "  <style>\n",
              "    .colab-df-container {\n",
              "      display:flex;\n",
              "      flex-wrap:wrap;\n",
              "      gap: 12px;\n",
              "    }\n",
              "\n",
              "    .colab-df-convert {\n",
              "      background-color: #E8F0FE;\n",
              "      border: none;\n",
              "      border-radius: 50%;\n",
              "      cursor: pointer;\n",
              "      display: none;\n",
              "      fill: #1967D2;\n",
              "      height: 32px;\n",
              "      padding: 0 0 0 0;\n",
              "      width: 32px;\n",
              "    }\n",
              "\n",
              "    .colab-df-convert:hover {\n",
              "      background-color: #E2EBFA;\n",
              "      box-shadow: 0px 1px 2px rgba(60, 64, 67, 0.3), 0px 1px 3px 1px rgba(60, 64, 67, 0.15);\n",
              "      fill: #174EA6;\n",
              "    }\n",
              "\n",
              "    [theme=dark] .colab-df-convert {\n",
              "      background-color: #3B4455;\n",
              "      fill: #D2E3FC;\n",
              "    }\n",
              "\n",
              "    [theme=dark] .colab-df-convert:hover {\n",
              "      background-color: #434B5C;\n",
              "      box-shadow: 0px 1px 3px 1px rgba(0, 0, 0, 0.15);\n",
              "      filter: drop-shadow(0px 1px 2px rgba(0, 0, 0, 0.3));\n",
              "      fill: #FFFFFF;\n",
              "    }\n",
              "  </style>\n",
              "\n",
              "      <script>\n",
              "        const buttonEl =\n",
              "          document.querySelector('#df-49ac9511-b250-47a7-8435-1b81428595cf button.colab-df-convert');\n",
              "        buttonEl.style.display =\n",
              "          google.colab.kernel.accessAllowed ? 'block' : 'none';\n",
              "\n",
              "        async function convertToInteractive(key) {\n",
              "          const element = document.querySelector('#df-49ac9511-b250-47a7-8435-1b81428595cf');\n",
              "          const dataTable =\n",
              "            await google.colab.kernel.invokeFunction('convertToInteractive',\n",
              "                                                     [key], {});\n",
              "          if (!dataTable) return;\n",
              "\n",
              "          const docLinkHtml = 'Like what you see? Visit the ' +\n",
              "            '<a target=\"_blank\" href=https://colab.research.google.com/notebooks/data_table.ipynb>data table notebook</a>'\n",
              "            + ' to learn more about interactive tables.';\n",
              "          element.innerHTML = '';\n",
              "          dataTable['output_type'] = 'display_data';\n",
              "          await google.colab.output.renderOutput(dataTable, element);\n",
              "          const docLink = document.createElement('div');\n",
              "          docLink.innerHTML = docLinkHtml;\n",
              "          element.appendChild(docLink);\n",
              "        }\n",
              "      </script>\n",
              "    </div>\n",
              "  </div>\n",
              "  "
            ]
          },
          "metadata": {},
          "execution_count": 479
        }
      ]
    },
    {
      "cell_type": "markdown",
      "source": [
        "**Vamos ver a descrição da coluna de da média de votos(nota dos espectadores): e em seguida a sua distribuição num histograma**"
      ],
      "metadata": {
        "id": "r5kaQdo6G9Uh"
      }
    },
    {
      "cell_type": "code",
      "source": [
        "Movie2['vote_average'].describe()"
      ],
      "metadata": {
        "colab": {
          "base_uri": "https://localhost:8080/"
        },
        "id": "TOAcg0UQHHIe",
        "outputId": "de91638c-85db-4214-e5ec-5ec932b4523f"
      },
      "execution_count": null,
      "outputs": [
        {
          "output_type": "execute_result",
          "data": {
            "text/plain": [
              "count    1287.000000\n",
              "mean        6.279487\n",
              "std         0.795955\n",
              "min         2.200000\n",
              "25%         5.800000\n",
              "50%         6.300000\n",
              "75%         6.800000\n",
              "max         8.300000\n",
              "Name: vote_average, dtype: float64"
            ]
          },
          "metadata": {},
          "execution_count": 480
        }
      ]
    },
    {
      "cell_type": "code",
      "source": [
        "import plotly.express as px\n",
        "fig = px.histogram(Movie2, x = 'vote_average', marginal= 'rug')\n",
        "fig.show()"
      ],
      "metadata": {
        "colab": {
          "base_uri": "https://localhost:8080/",
          "height": 542
        },
        "id": "on9KHeXnHna6",
        "outputId": "d5f33fbe-c244-4d43-fa38-b0a6fa4f3849"
      },
      "execution_count": null,
      "outputs": [
        {
          "output_type": "display_data",
          "data": {
            "text/html": [
              "<html>\n",
              "<head><meta charset=\"utf-8\" /></head>\n",
              "<body>\n",
              "    <div>            <script src=\"https://cdnjs.cloudflare.com/ajax/libs/mathjax/2.7.5/MathJax.js?config=TeX-AMS-MML_SVG\"></script><script type=\"text/javascript\">if (window.MathJax && window.MathJax.Hub && window.MathJax.Hub.Config) {window.MathJax.Hub.Config({SVG: {font: \"STIX-Web\"}});}</script>                <script type=\"text/javascript\">window.PlotlyConfig = {MathJaxConfig: 'local'};</script>\n",
              "        <script src=\"https://cdn.plot.ly/plotly-2.18.2.min.js\"></script>                <div id=\"d3ab9aac-2682-49f4-9ac3-15d652eb0888\" class=\"plotly-graph-div\" style=\"height:525px; width:100%;\"></div>            <script type=\"text/javascript\">                                    window.PLOTLYENV=window.PLOTLYENV || {};                                    if (document.getElementById(\"d3ab9aac-2682-49f4-9ac3-15d652eb0888\")) {                    Plotly.newPlot(                        \"d3ab9aac-2682-49f4-9ac3-15d652eb0888\",                        [{\"alignmentgroup\":\"True\",\"bingroup\":\"x\",\"hovertemplate\":\"vote_average=%{x}<br>count=%{y}<extra></extra>\",\"legendgroup\":\"\",\"marker\":{\"color\":\"#636efa\",\"pattern\":{\"shape\":\"\"}},\"name\":\"\",\"offsetgroup\":\"\",\"orientation\":\"v\",\"showlegend\":false,\"x\":[6.5,7.1,6.3,7.5,7.3,7.2,5.8,7.6,6.5,8.0,6.2,5.2,7.6,5.8,7.4,7.4,6.1,7.0,6.5,6.2,6.1,5.3,7.3,7.1,7.6,7.8,6.4,6.6,6.2,8.0,6.6,7.3,7.7,5.6,7.3,5.9,6.9,6.6,7.1,7.1,6.7,5.5,6.3,6.2,5.3,5.0,4.4,5.8,6.9,6.7,5.5,6.4,7.3,6.7,6.4,6.9,6.1,4.8,5.3,6.8,5.9,5.1,6.6,5.7,7.5,6.9,6.8,5.5,3.9,6.2,5.9,5.9,5.7,6.7,7.3,7.3,5.9,6.3,5.3,6.4,6.2,5.7,6.3,5.9,5.5,7.1,5.1,6.6,4.9,5.0,5.7,6.9,5.6,8.0,7.9,7.6,7.0,6.6,7.1,7.8,8.0,7.0,7.9,6.9,7.6,6.3,5.8,7.6,5.9,8.2,6.6,7.7,7.5,5.6,6.2,7.0,6.0,7.7,6.2,7.5,5.1,5.6,6.1,6.3,7.0,7.1,6.1,7.2,3.8,6.4,5.5,7.2,6.7,6.3,5.7,6.2,6.5,5.7,7.2,7.1,5.8,5.9,5.8,6.1,5.6,5.1,6.5,5.9,6.8,6.2,5.2,6.6,6.3,6.5,7.0,5.7,5.2,6.8,6.1,5.7,5.7,5.6,6.1,7.9,6.2,7.1,7.7,7.3,7.6,5.8,7.1,6.9,7.3,7.1,5.6,6.3,6.5,7.1,7.1,5.6,6.0,5.7,6.7,6.3,6.4,7.5,7.1,5.9,6.0,6.6,6.6,5.4,5.3,5.9,6.2,6.1,5.7,7.4,5.1,6.1,6.0,5.6,5.3,6.7,6.0,6.5,6.5,4.6,5.5,5.3,5.2,5.8,6.8,6.6,6.4,6.0,6.0,7.1,5.9,5.5,5.8,5.9,6.9,5.2,5.9,7.8,6.0,5.8,6.1,5.5,6.3,6.2,6.9,5.7,5.1,6.2,5.3,5.2,6.6,5.9,5.6,6.8,5.5,6.6,6.0,5.8,6.4,6.9,5.2,5.8,5.1,6.2,4.5,5.6,5.7,6.3,5.5,6.3,6.3,5.8,6.9,5.7,7.0,6.5,5.6,5.7,5.5,6.7,5.5,4.6,6.2,7.4,5.3,6.0,5.9,4.9,6.3,5.1,6.0,5.4,6.7,7.9,6.6,6.3,7.1,7.4,7.1,5.9,7.4,7.6,6.3,7.3,7.5,6.2,6.6,6.0,6.1,6.1,7.0,5.6,5.8,7.1,7.2,5.4,6.0,6.2,6.2,6.1,5.9,6.9,5.9,6.6,4.7,6.1,6.7,6.5,7.4,6.5,6.7,6.1,6.1,5.9,5.7,6.9,5.5,6.3,6.3,5.7,5.8,5.6,5.4,5.8,6.1,6.2,6.1,6.1,6.9,6.8,5.5,6.2,7.1,5.9,4.4,4.3,7.6,5.7,5.0,6.0,5.9,6.6,7.2,6.5,6.1,6.8,6.4,6.0,5.7,6.7,5.5,6.3,6.5,5.7,6.8,5.5,4.9,5.2,6.1,7.0,5.4,6.4,5.9,6.5,5.4,6.4,4.7,6.1,6.7,5.0,5.2,4.9,5.6,5.9,5.5,5.9,6.2,5.8,5.8,5.5,5.1,6.6,5.9,6.5,5.6,7.2,6.9,6.2,6.4,4.7,6.0,4.9,6.8,6.7,5.7,6.2,6.4,5.9,7.0,7.8,5.9,5.8,4.8,6.6,7.3,8.1,7.8,7.7,6.3,6.3,8.0,6.0,5.9,7.2,6.8,7.0,6.8,5.4,6.6,7.1,7.0,6.3,6.6,7.3,6.9,6.6,5.9,7.8,7.2,7.3,7.1,7.0,6.5,7.5,5.0,5.6,7.0,5.6,5.0,6.5,4.6,5.6,5.7,5.7,6.5,8.1,7.6,7.3,5.6,5.8,6.0,6.8,5.9,7.2,7.6,6.1,5.9,6.3,7.5,6.0,7.2,6.4,7.6,6.2,5.9,7.4,6.4,6.3,6.3,6.8,6.1,5.8,6.5,5.3,6.5,6.6,7.0,5.5,5.3,6.2,6.0,5.9,5.4,7.3,7.1,6.0,5.6,4.5,5.6,6.2,6.2,5.6,5.8,5.9,7.1,6.1,6.8,5.6,5.0,4.0,4.6,4.3,4.8,6.1,5.4,5.7,7.2,6.2,6.3,5.8,6.0,6.8,5.1,6.3,6.7,5.1,5.1,3.3,5.3,5.7,5.6,7.5,5.5,6.8,6.4,5.8,4.5,6.5,7.7,6.3,6.9,6.5,6.6,5.3,6.3,7.0,6.7,6.9,7.1,7.0,6.6,6.3,6.4,6.5,6.5,5.4,6.9,5.8,5.1,6.1,6.1,6.6,6.5,5.4,6.6,5.9,5.5,5.8,6.5,6.0,6.5,7.2,5.4,5.4,6.9,6.8,6.5,5.9,6.8,6.9,4.7,6.9,5.7,6.8,5.5,5.3,5.2,7.6,5.5,6.4,6.4,5.6,6.4,5.6,6.4,6.5,5.5,5.9,6.4,4.2,6.2,5.2,6.7,6.4,4.7,7.6,6.3,6.9,5.5,5.4,6.0,5.2,6.0,6.1,6.0,6.0,6.0,5.8,5.1,4.9,6.1,5.8,6.0,5.5,6.4,6.4,7.0,6.0,5.3,6.8,5.5,6.5,6.1,6.6,5.7,6.0,6.6,5.4,6.6,5.7,5.7,6.5,6.9,6.4,6.1,6.0,5.2,6.3,6.4,6.5,5.3,5.9,5.8,5.2,6.3,5.8,5.7,5.2,5.9,6.9,5.5,4.9,6.7,5.9,5.3,5.2,6.9,5.8,7.2,6.7,6.3,5.4,5.2,6.6,6.4,7.1,6.6,6.3,5.6,6.3,6.8,5.2,6.2,7.3,5.1,5.8,4.8,6.1,7.4,5.3,6.7,7.3,7.0,7.8,6.9,7.1,6.3,6.6,6.4,5.9,7.9,6.1,6.9,6.4,6.7,6.0,7.3,6.4,5.5,5.9,5.2,7.2,5.7,7.2,5.6,5.4,5.2,7.7,7.2,6.5,6.6,6.0,7.3,6.0,7.5,7.7,6.8,5.9,6.9,6.2,6.9,6.4,6.6,5.7,6.7,7.1,6.2,6.4,6.2,6.8,7.0,7.2,6.1,6.7,5.8,6.5,6.0,5.6,7.6,7.0,6.0,6.1,6.5,6.9,5.8,6.2,7.6,6.5,7.0,6.0,6.5,6.5,5.5,5.5,6.3,6.7,5.7,5.9,5.5,6.1,6.7,5.9,6.4,5.6,5.5,5.8,5.2,6.1,6.5,5.6,6.2,6.2,6.2,6.6,6.5,6.7,4.2,5.7,5.3,4.9,5.8,5.2,6.6,6.8,6.1,4.7,6.1,5.3,6.3,5.6,4.5,5.4,5.5,6.6,4.4,6.7,4.8,5.6,2.2,6.5,7.9,6.5,7.3,7.6,7.4,6.3,6.9,4.9,6.6,6.2,5.7,6.6,6.6,6.6,5.8,5.8,7.0,6.3,6.4,5.1,6.8,3.8,3.4,5.8,5.9,6.2,6.5,5.2,6.7,5.0,7.3,6.7,5.9,7.7,5.2,6.7,6.9,6.5,7.5,7.4,6.8,6.9,7.4,7.9,6.7,6.3,7.6,6.5,7.8,7.0,6.2,7.4,5.2,6.7,6.6,6.6,5.9,7.8,6.8,5.7,6.2,7.4,5.3,5.0,6.6,6.3,6.7,6.8,6.7,5.8,7.7,5.5,5.5,6.2,6.0,6.1,6.3,6.8,5.6,6.1,5.7,6.1,6.0,5.8,5.5,6.3,7.7,5.7,5.0,5.3,5.5,6.4,6.0,6.4,5.6,6.6,5.8,6.2,5.6,6.3,4.4,6.1,5.5,7.8,5.8,7.3,7.3,7.6,7.1,7.0,6.4,6.5,5.8,7.1,6.2,5.6,6.4,7.6,7.2,5.8,5.0,7.0,6.6,5.2,6.6,5.7,7.0,6.0,6.1,6.2,6.9,5.2,6.0,6.2,6.4,5.9,6.5,5.9,6.0,6.7,4.8,4.2,3.8,6.7,6.8,6.8,5.8,7.4,6.5,4.5,6.5,3.9,4.9,6.8,5.8,6.8,6.3,6.8,6.4,7.1,6.4,6.4,6.3,7.0,7.7,6.7,7.8,7.3,6.4,5.5,7.2,7.0,6.3,6.7,6.4,6.0,5.2,4.8,6.3,5.5,6.0,5.9,6.3,5.4,6.2,7.5,6.5,5.3,5.5,5.3,6.3,5.3,7.3,5.6,5.2,6.9,6.7,6.9,6.1,6.5,4.9,6.1,5.1,6.3,4.6,5.9,6.2,6.3,6.5,6.6,5.8,6.8,6.0,5.3,6.2,5.4,6.5,6.7,6.8,5.6,6.5,7.1,6.7,6.6,7.8,7.5,7.2,7.1,6.6,6.8,5.9,6.4,6.4,6.5,6.4,6.1,6.1,5.7,7.0,7.6,5.7,7.1,5.9,5.5,6.5,6.4,5.7,6.0,6.7,6.2,6.0,7.5,6.0,5.8,6.9,5.8,7.2,6.5,6.6,6.8,7.0,7.2,5.9,6.3,5.3,5.5,7.3,8.3,8.0,6.2,6.8,7.2,7.3,7.2,6.8,6.0,5.8,6.6,7.0,6.7,7.7,7.0,5.2,6.9,6.9,6.9,7.3,5.8,6.8,7.0,5.6,5.6,6.0,6.2,6.6,6.4,6.9,6.3,6.4,4.9,6.1,5.7,7.3,6.3,6.6,6.8,6.9,6.1,5.2,5.9,5.8,6.4,6.2,7.0,5.4,6.0,5.9,6.4,5.9,6.0,6.2,6.6,6.9,3.8,5.8,6.9,6.2,4.8,6.0,6.9,6.7,6.7,5.4,5.3,5.7,6.2,5.5,6.0,6.0,7.5,4.6,7.3,6.5,5.1,6.3,7.0,6.7,7.0,6.5,5.9,6.5,7.0,6.6,6.5,7.5,6.1,6.2,6.7,5.8,6.0,5.2,6.0,7.6,7.8,5.7,6.1,7.1,6.9,7.2,6.3,7.8,5.8,5.9,6.8,6.3,7.9,7.5,8.0,6.4,6.9,5.3,7.0,6.5,7.3,6.9,6.4,6.7,5.3,7.5,6.0,6.9,6.5,6.4,6.7,6.5,7.6,5.9,6.6,6.3,5.5,6.9,6.8,5.4,7.0,5.9,6.1,6.5,7.9,6.1,5.8,6.1,6.9,6.6,7.3,6.2,5.7,4.4,6.0,5.9,4.4,5.2,7.7,7.2,7.5,6.3,7.6,6.6,6.5,8.0,6.8,5.6,6.9,6.2,7.3,5.8,7.4,7.2,5.6,6.6,7.3,6.4,6.9,6.1,6.9,6.5,6.0,6.5,6.1,7.3,7.6,7.1,6.7,7.0,6.9,6.2,7.2,6.1,7.0,6.9,6.9,6.9,7.0,7.5,8.1,7.4,6.1,5.9,6.3,4.4,6.8,6.2,6.7,6.7,7.2,6.1,6.3,6.4,7.3,6.7],\"xaxis\":\"x\",\"yaxis\":\"y\",\"type\":\"histogram\"},{\"alignmentgroup\":\"True\",\"boxpoints\":\"all\",\"fillcolor\":\"rgba(255,255,255,0)\",\"hoveron\":\"points\",\"hovertemplate\":\"vote_average=%{x}<extra></extra>\",\"jitter\":0,\"legendgroup\":\"\",\"line\":{\"color\":\"rgba(255,255,255,0)\"},\"marker\":{\"color\":\"#636efa\",\"symbol\":\"line-ns-open\"},\"name\":\"\",\"offsetgroup\":\"\",\"showlegend\":false,\"x\":[6.5,7.1,6.3,7.5,7.3,7.2,5.8,7.6,6.5,8.0,6.2,5.2,7.6,5.8,7.4,7.4,6.1,7.0,6.5,6.2,6.1,5.3,7.3,7.1,7.6,7.8,6.4,6.6,6.2,8.0,6.6,7.3,7.7,5.6,7.3,5.9,6.9,6.6,7.1,7.1,6.7,5.5,6.3,6.2,5.3,5.0,4.4,5.8,6.9,6.7,5.5,6.4,7.3,6.7,6.4,6.9,6.1,4.8,5.3,6.8,5.9,5.1,6.6,5.7,7.5,6.9,6.8,5.5,3.9,6.2,5.9,5.9,5.7,6.7,7.3,7.3,5.9,6.3,5.3,6.4,6.2,5.7,6.3,5.9,5.5,7.1,5.1,6.6,4.9,5.0,5.7,6.9,5.6,8.0,7.9,7.6,7.0,6.6,7.1,7.8,8.0,7.0,7.9,6.9,7.6,6.3,5.8,7.6,5.9,8.2,6.6,7.7,7.5,5.6,6.2,7.0,6.0,7.7,6.2,7.5,5.1,5.6,6.1,6.3,7.0,7.1,6.1,7.2,3.8,6.4,5.5,7.2,6.7,6.3,5.7,6.2,6.5,5.7,7.2,7.1,5.8,5.9,5.8,6.1,5.6,5.1,6.5,5.9,6.8,6.2,5.2,6.6,6.3,6.5,7.0,5.7,5.2,6.8,6.1,5.7,5.7,5.6,6.1,7.9,6.2,7.1,7.7,7.3,7.6,5.8,7.1,6.9,7.3,7.1,5.6,6.3,6.5,7.1,7.1,5.6,6.0,5.7,6.7,6.3,6.4,7.5,7.1,5.9,6.0,6.6,6.6,5.4,5.3,5.9,6.2,6.1,5.7,7.4,5.1,6.1,6.0,5.6,5.3,6.7,6.0,6.5,6.5,4.6,5.5,5.3,5.2,5.8,6.8,6.6,6.4,6.0,6.0,7.1,5.9,5.5,5.8,5.9,6.9,5.2,5.9,7.8,6.0,5.8,6.1,5.5,6.3,6.2,6.9,5.7,5.1,6.2,5.3,5.2,6.6,5.9,5.6,6.8,5.5,6.6,6.0,5.8,6.4,6.9,5.2,5.8,5.1,6.2,4.5,5.6,5.7,6.3,5.5,6.3,6.3,5.8,6.9,5.7,7.0,6.5,5.6,5.7,5.5,6.7,5.5,4.6,6.2,7.4,5.3,6.0,5.9,4.9,6.3,5.1,6.0,5.4,6.7,7.9,6.6,6.3,7.1,7.4,7.1,5.9,7.4,7.6,6.3,7.3,7.5,6.2,6.6,6.0,6.1,6.1,7.0,5.6,5.8,7.1,7.2,5.4,6.0,6.2,6.2,6.1,5.9,6.9,5.9,6.6,4.7,6.1,6.7,6.5,7.4,6.5,6.7,6.1,6.1,5.9,5.7,6.9,5.5,6.3,6.3,5.7,5.8,5.6,5.4,5.8,6.1,6.2,6.1,6.1,6.9,6.8,5.5,6.2,7.1,5.9,4.4,4.3,7.6,5.7,5.0,6.0,5.9,6.6,7.2,6.5,6.1,6.8,6.4,6.0,5.7,6.7,5.5,6.3,6.5,5.7,6.8,5.5,4.9,5.2,6.1,7.0,5.4,6.4,5.9,6.5,5.4,6.4,4.7,6.1,6.7,5.0,5.2,4.9,5.6,5.9,5.5,5.9,6.2,5.8,5.8,5.5,5.1,6.6,5.9,6.5,5.6,7.2,6.9,6.2,6.4,4.7,6.0,4.9,6.8,6.7,5.7,6.2,6.4,5.9,7.0,7.8,5.9,5.8,4.8,6.6,7.3,8.1,7.8,7.7,6.3,6.3,8.0,6.0,5.9,7.2,6.8,7.0,6.8,5.4,6.6,7.1,7.0,6.3,6.6,7.3,6.9,6.6,5.9,7.8,7.2,7.3,7.1,7.0,6.5,7.5,5.0,5.6,7.0,5.6,5.0,6.5,4.6,5.6,5.7,5.7,6.5,8.1,7.6,7.3,5.6,5.8,6.0,6.8,5.9,7.2,7.6,6.1,5.9,6.3,7.5,6.0,7.2,6.4,7.6,6.2,5.9,7.4,6.4,6.3,6.3,6.8,6.1,5.8,6.5,5.3,6.5,6.6,7.0,5.5,5.3,6.2,6.0,5.9,5.4,7.3,7.1,6.0,5.6,4.5,5.6,6.2,6.2,5.6,5.8,5.9,7.1,6.1,6.8,5.6,5.0,4.0,4.6,4.3,4.8,6.1,5.4,5.7,7.2,6.2,6.3,5.8,6.0,6.8,5.1,6.3,6.7,5.1,5.1,3.3,5.3,5.7,5.6,7.5,5.5,6.8,6.4,5.8,4.5,6.5,7.7,6.3,6.9,6.5,6.6,5.3,6.3,7.0,6.7,6.9,7.1,7.0,6.6,6.3,6.4,6.5,6.5,5.4,6.9,5.8,5.1,6.1,6.1,6.6,6.5,5.4,6.6,5.9,5.5,5.8,6.5,6.0,6.5,7.2,5.4,5.4,6.9,6.8,6.5,5.9,6.8,6.9,4.7,6.9,5.7,6.8,5.5,5.3,5.2,7.6,5.5,6.4,6.4,5.6,6.4,5.6,6.4,6.5,5.5,5.9,6.4,4.2,6.2,5.2,6.7,6.4,4.7,7.6,6.3,6.9,5.5,5.4,6.0,5.2,6.0,6.1,6.0,6.0,6.0,5.8,5.1,4.9,6.1,5.8,6.0,5.5,6.4,6.4,7.0,6.0,5.3,6.8,5.5,6.5,6.1,6.6,5.7,6.0,6.6,5.4,6.6,5.7,5.7,6.5,6.9,6.4,6.1,6.0,5.2,6.3,6.4,6.5,5.3,5.9,5.8,5.2,6.3,5.8,5.7,5.2,5.9,6.9,5.5,4.9,6.7,5.9,5.3,5.2,6.9,5.8,7.2,6.7,6.3,5.4,5.2,6.6,6.4,7.1,6.6,6.3,5.6,6.3,6.8,5.2,6.2,7.3,5.1,5.8,4.8,6.1,7.4,5.3,6.7,7.3,7.0,7.8,6.9,7.1,6.3,6.6,6.4,5.9,7.9,6.1,6.9,6.4,6.7,6.0,7.3,6.4,5.5,5.9,5.2,7.2,5.7,7.2,5.6,5.4,5.2,7.7,7.2,6.5,6.6,6.0,7.3,6.0,7.5,7.7,6.8,5.9,6.9,6.2,6.9,6.4,6.6,5.7,6.7,7.1,6.2,6.4,6.2,6.8,7.0,7.2,6.1,6.7,5.8,6.5,6.0,5.6,7.6,7.0,6.0,6.1,6.5,6.9,5.8,6.2,7.6,6.5,7.0,6.0,6.5,6.5,5.5,5.5,6.3,6.7,5.7,5.9,5.5,6.1,6.7,5.9,6.4,5.6,5.5,5.8,5.2,6.1,6.5,5.6,6.2,6.2,6.2,6.6,6.5,6.7,4.2,5.7,5.3,4.9,5.8,5.2,6.6,6.8,6.1,4.7,6.1,5.3,6.3,5.6,4.5,5.4,5.5,6.6,4.4,6.7,4.8,5.6,2.2,6.5,7.9,6.5,7.3,7.6,7.4,6.3,6.9,4.9,6.6,6.2,5.7,6.6,6.6,6.6,5.8,5.8,7.0,6.3,6.4,5.1,6.8,3.8,3.4,5.8,5.9,6.2,6.5,5.2,6.7,5.0,7.3,6.7,5.9,7.7,5.2,6.7,6.9,6.5,7.5,7.4,6.8,6.9,7.4,7.9,6.7,6.3,7.6,6.5,7.8,7.0,6.2,7.4,5.2,6.7,6.6,6.6,5.9,7.8,6.8,5.7,6.2,7.4,5.3,5.0,6.6,6.3,6.7,6.8,6.7,5.8,7.7,5.5,5.5,6.2,6.0,6.1,6.3,6.8,5.6,6.1,5.7,6.1,6.0,5.8,5.5,6.3,7.7,5.7,5.0,5.3,5.5,6.4,6.0,6.4,5.6,6.6,5.8,6.2,5.6,6.3,4.4,6.1,5.5,7.8,5.8,7.3,7.3,7.6,7.1,7.0,6.4,6.5,5.8,7.1,6.2,5.6,6.4,7.6,7.2,5.8,5.0,7.0,6.6,5.2,6.6,5.7,7.0,6.0,6.1,6.2,6.9,5.2,6.0,6.2,6.4,5.9,6.5,5.9,6.0,6.7,4.8,4.2,3.8,6.7,6.8,6.8,5.8,7.4,6.5,4.5,6.5,3.9,4.9,6.8,5.8,6.8,6.3,6.8,6.4,7.1,6.4,6.4,6.3,7.0,7.7,6.7,7.8,7.3,6.4,5.5,7.2,7.0,6.3,6.7,6.4,6.0,5.2,4.8,6.3,5.5,6.0,5.9,6.3,5.4,6.2,7.5,6.5,5.3,5.5,5.3,6.3,5.3,7.3,5.6,5.2,6.9,6.7,6.9,6.1,6.5,4.9,6.1,5.1,6.3,4.6,5.9,6.2,6.3,6.5,6.6,5.8,6.8,6.0,5.3,6.2,5.4,6.5,6.7,6.8,5.6,6.5,7.1,6.7,6.6,7.8,7.5,7.2,7.1,6.6,6.8,5.9,6.4,6.4,6.5,6.4,6.1,6.1,5.7,7.0,7.6,5.7,7.1,5.9,5.5,6.5,6.4,5.7,6.0,6.7,6.2,6.0,7.5,6.0,5.8,6.9,5.8,7.2,6.5,6.6,6.8,7.0,7.2,5.9,6.3,5.3,5.5,7.3,8.3,8.0,6.2,6.8,7.2,7.3,7.2,6.8,6.0,5.8,6.6,7.0,6.7,7.7,7.0,5.2,6.9,6.9,6.9,7.3,5.8,6.8,7.0,5.6,5.6,6.0,6.2,6.6,6.4,6.9,6.3,6.4,4.9,6.1,5.7,7.3,6.3,6.6,6.8,6.9,6.1,5.2,5.9,5.8,6.4,6.2,7.0,5.4,6.0,5.9,6.4,5.9,6.0,6.2,6.6,6.9,3.8,5.8,6.9,6.2,4.8,6.0,6.9,6.7,6.7,5.4,5.3,5.7,6.2,5.5,6.0,6.0,7.5,4.6,7.3,6.5,5.1,6.3,7.0,6.7,7.0,6.5,5.9,6.5,7.0,6.6,6.5,7.5,6.1,6.2,6.7,5.8,6.0,5.2,6.0,7.6,7.8,5.7,6.1,7.1,6.9,7.2,6.3,7.8,5.8,5.9,6.8,6.3,7.9,7.5,8.0,6.4,6.9,5.3,7.0,6.5,7.3,6.9,6.4,6.7,5.3,7.5,6.0,6.9,6.5,6.4,6.7,6.5,7.6,5.9,6.6,6.3,5.5,6.9,6.8,5.4,7.0,5.9,6.1,6.5,7.9,6.1,5.8,6.1,6.9,6.6,7.3,6.2,5.7,4.4,6.0,5.9,4.4,5.2,7.7,7.2,7.5,6.3,7.6,6.6,6.5,8.0,6.8,5.6,6.9,6.2,7.3,5.8,7.4,7.2,5.6,6.6,7.3,6.4,6.9,6.1,6.9,6.5,6.0,6.5,6.1,7.3,7.6,7.1,6.7,7.0,6.9,6.2,7.2,6.1,7.0,6.9,6.9,6.9,7.0,7.5,8.1,7.4,6.1,5.9,6.3,4.4,6.8,6.2,6.7,6.7,7.2,6.1,6.3,6.4,7.3,6.7],\"xaxis\":\"x2\",\"yaxis\":\"y2\",\"type\":\"box\"}],                        {\"template\":{\"data\":{\"histogram2dcontour\":[{\"type\":\"histogram2dcontour\",\"colorbar\":{\"outlinewidth\":0,\"ticks\":\"\"},\"colorscale\":[[0.0,\"#0d0887\"],[0.1111111111111111,\"#46039f\"],[0.2222222222222222,\"#7201a8\"],[0.3333333333333333,\"#9c179e\"],[0.4444444444444444,\"#bd3786\"],[0.5555555555555556,\"#d8576b\"],[0.6666666666666666,\"#ed7953\"],[0.7777777777777778,\"#fb9f3a\"],[0.8888888888888888,\"#fdca26\"],[1.0,\"#f0f921\"]]}],\"choropleth\":[{\"type\":\"choropleth\",\"colorbar\":{\"outlinewidth\":0,\"ticks\":\"\"}}],\"histogram2d\":[{\"type\":\"histogram2d\",\"colorbar\":{\"outlinewidth\":0,\"ticks\":\"\"},\"colorscale\":[[0.0,\"#0d0887\"],[0.1111111111111111,\"#46039f\"],[0.2222222222222222,\"#7201a8\"],[0.3333333333333333,\"#9c179e\"],[0.4444444444444444,\"#bd3786\"],[0.5555555555555556,\"#d8576b\"],[0.6666666666666666,\"#ed7953\"],[0.7777777777777778,\"#fb9f3a\"],[0.8888888888888888,\"#fdca26\"],[1.0,\"#f0f921\"]]}],\"heatmap\":[{\"type\":\"heatmap\",\"colorbar\":{\"outlinewidth\":0,\"ticks\":\"\"},\"colorscale\":[[0.0,\"#0d0887\"],[0.1111111111111111,\"#46039f\"],[0.2222222222222222,\"#7201a8\"],[0.3333333333333333,\"#9c179e\"],[0.4444444444444444,\"#bd3786\"],[0.5555555555555556,\"#d8576b\"],[0.6666666666666666,\"#ed7953\"],[0.7777777777777778,\"#fb9f3a\"],[0.8888888888888888,\"#fdca26\"],[1.0,\"#f0f921\"]]}],\"heatmapgl\":[{\"type\":\"heatmapgl\",\"colorbar\":{\"outlinewidth\":0,\"ticks\":\"\"},\"colorscale\":[[0.0,\"#0d0887\"],[0.1111111111111111,\"#46039f\"],[0.2222222222222222,\"#7201a8\"],[0.3333333333333333,\"#9c179e\"],[0.4444444444444444,\"#bd3786\"],[0.5555555555555556,\"#d8576b\"],[0.6666666666666666,\"#ed7953\"],[0.7777777777777778,\"#fb9f3a\"],[0.8888888888888888,\"#fdca26\"],[1.0,\"#f0f921\"]]}],\"contourcarpet\":[{\"type\":\"contourcarpet\",\"colorbar\":{\"outlinewidth\":0,\"ticks\":\"\"}}],\"contour\":[{\"type\":\"contour\",\"colorbar\":{\"outlinewidth\":0,\"ticks\":\"\"},\"colorscale\":[[0.0,\"#0d0887\"],[0.1111111111111111,\"#46039f\"],[0.2222222222222222,\"#7201a8\"],[0.3333333333333333,\"#9c179e\"],[0.4444444444444444,\"#bd3786\"],[0.5555555555555556,\"#d8576b\"],[0.6666666666666666,\"#ed7953\"],[0.7777777777777778,\"#fb9f3a\"],[0.8888888888888888,\"#fdca26\"],[1.0,\"#f0f921\"]]}],\"surface\":[{\"type\":\"surface\",\"colorbar\":{\"outlinewidth\":0,\"ticks\":\"\"},\"colorscale\":[[0.0,\"#0d0887\"],[0.1111111111111111,\"#46039f\"],[0.2222222222222222,\"#7201a8\"],[0.3333333333333333,\"#9c179e\"],[0.4444444444444444,\"#bd3786\"],[0.5555555555555556,\"#d8576b\"],[0.6666666666666666,\"#ed7953\"],[0.7777777777777778,\"#fb9f3a\"],[0.8888888888888888,\"#fdca26\"],[1.0,\"#f0f921\"]]}],\"mesh3d\":[{\"type\":\"mesh3d\",\"colorbar\":{\"outlinewidth\":0,\"ticks\":\"\"}}],\"scatter\":[{\"fillpattern\":{\"fillmode\":\"overlay\",\"size\":10,\"solidity\":0.2},\"type\":\"scatter\"}],\"parcoords\":[{\"type\":\"parcoords\",\"line\":{\"colorbar\":{\"outlinewidth\":0,\"ticks\":\"\"}}}],\"scatterpolargl\":[{\"type\":\"scatterpolargl\",\"marker\":{\"colorbar\":{\"outlinewidth\":0,\"ticks\":\"\"}}}],\"bar\":[{\"error_x\":{\"color\":\"#2a3f5f\"},\"error_y\":{\"color\":\"#2a3f5f\"},\"marker\":{\"line\":{\"color\":\"#E5ECF6\",\"width\":0.5},\"pattern\":{\"fillmode\":\"overlay\",\"size\":10,\"solidity\":0.2}},\"type\":\"bar\"}],\"scattergeo\":[{\"type\":\"scattergeo\",\"marker\":{\"colorbar\":{\"outlinewidth\":0,\"ticks\":\"\"}}}],\"scatterpolar\":[{\"type\":\"scatterpolar\",\"marker\":{\"colorbar\":{\"outlinewidth\":0,\"ticks\":\"\"}}}],\"histogram\":[{\"marker\":{\"pattern\":{\"fillmode\":\"overlay\",\"size\":10,\"solidity\":0.2}},\"type\":\"histogram\"}],\"scattergl\":[{\"type\":\"scattergl\",\"marker\":{\"colorbar\":{\"outlinewidth\":0,\"ticks\":\"\"}}}],\"scatter3d\":[{\"type\":\"scatter3d\",\"line\":{\"colorbar\":{\"outlinewidth\":0,\"ticks\":\"\"}},\"marker\":{\"colorbar\":{\"outlinewidth\":0,\"ticks\":\"\"}}}],\"scattermapbox\":[{\"type\":\"scattermapbox\",\"marker\":{\"colorbar\":{\"outlinewidth\":0,\"ticks\":\"\"}}}],\"scatterternary\":[{\"type\":\"scatterternary\",\"marker\":{\"colorbar\":{\"outlinewidth\":0,\"ticks\":\"\"}}}],\"scattercarpet\":[{\"type\":\"scattercarpet\",\"marker\":{\"colorbar\":{\"outlinewidth\":0,\"ticks\":\"\"}}}],\"carpet\":[{\"aaxis\":{\"endlinecolor\":\"#2a3f5f\",\"gridcolor\":\"white\",\"linecolor\":\"white\",\"minorgridcolor\":\"white\",\"startlinecolor\":\"#2a3f5f\"},\"baxis\":{\"endlinecolor\":\"#2a3f5f\",\"gridcolor\":\"white\",\"linecolor\":\"white\",\"minorgridcolor\":\"white\",\"startlinecolor\":\"#2a3f5f\"},\"type\":\"carpet\"}],\"table\":[{\"cells\":{\"fill\":{\"color\":\"#EBF0F8\"},\"line\":{\"color\":\"white\"}},\"header\":{\"fill\":{\"color\":\"#C8D4E3\"},\"line\":{\"color\":\"white\"}},\"type\":\"table\"}],\"barpolar\":[{\"marker\":{\"line\":{\"color\":\"#E5ECF6\",\"width\":0.5},\"pattern\":{\"fillmode\":\"overlay\",\"size\":10,\"solidity\":0.2}},\"type\":\"barpolar\"}],\"pie\":[{\"automargin\":true,\"type\":\"pie\"}]},\"layout\":{\"autotypenumbers\":\"strict\",\"colorway\":[\"#636efa\",\"#EF553B\",\"#00cc96\",\"#ab63fa\",\"#FFA15A\",\"#19d3f3\",\"#FF6692\",\"#B6E880\",\"#FF97FF\",\"#FECB52\"],\"font\":{\"color\":\"#2a3f5f\"},\"hovermode\":\"closest\",\"hoverlabel\":{\"align\":\"left\"},\"paper_bgcolor\":\"white\",\"plot_bgcolor\":\"#E5ECF6\",\"polar\":{\"bgcolor\":\"#E5ECF6\",\"angularaxis\":{\"gridcolor\":\"white\",\"linecolor\":\"white\",\"ticks\":\"\"},\"radialaxis\":{\"gridcolor\":\"white\",\"linecolor\":\"white\",\"ticks\":\"\"}},\"ternary\":{\"bgcolor\":\"#E5ECF6\",\"aaxis\":{\"gridcolor\":\"white\",\"linecolor\":\"white\",\"ticks\":\"\"},\"baxis\":{\"gridcolor\":\"white\",\"linecolor\":\"white\",\"ticks\":\"\"},\"caxis\":{\"gridcolor\":\"white\",\"linecolor\":\"white\",\"ticks\":\"\"}},\"coloraxis\":{\"colorbar\":{\"outlinewidth\":0,\"ticks\":\"\"}},\"colorscale\":{\"sequential\":[[0.0,\"#0d0887\"],[0.1111111111111111,\"#46039f\"],[0.2222222222222222,\"#7201a8\"],[0.3333333333333333,\"#9c179e\"],[0.4444444444444444,\"#bd3786\"],[0.5555555555555556,\"#d8576b\"],[0.6666666666666666,\"#ed7953\"],[0.7777777777777778,\"#fb9f3a\"],[0.8888888888888888,\"#fdca26\"],[1.0,\"#f0f921\"]],\"sequentialminus\":[[0.0,\"#0d0887\"],[0.1111111111111111,\"#46039f\"],[0.2222222222222222,\"#7201a8\"],[0.3333333333333333,\"#9c179e\"],[0.4444444444444444,\"#bd3786\"],[0.5555555555555556,\"#d8576b\"],[0.6666666666666666,\"#ed7953\"],[0.7777777777777778,\"#fb9f3a\"],[0.8888888888888888,\"#fdca26\"],[1.0,\"#f0f921\"]],\"diverging\":[[0,\"#8e0152\"],[0.1,\"#c51b7d\"],[0.2,\"#de77ae\"],[0.3,\"#f1b6da\"],[0.4,\"#fde0ef\"],[0.5,\"#f7f7f7\"],[0.6,\"#e6f5d0\"],[0.7,\"#b8e186\"],[0.8,\"#7fbc41\"],[0.9,\"#4d9221\"],[1,\"#276419\"]]},\"xaxis\":{\"gridcolor\":\"white\",\"linecolor\":\"white\",\"ticks\":\"\",\"title\":{\"standoff\":15},\"zerolinecolor\":\"white\",\"automargin\":true,\"zerolinewidth\":2},\"yaxis\":{\"gridcolor\":\"white\",\"linecolor\":\"white\",\"ticks\":\"\",\"title\":{\"standoff\":15},\"zerolinecolor\":\"white\",\"automargin\":true,\"zerolinewidth\":2},\"scene\":{\"xaxis\":{\"backgroundcolor\":\"#E5ECF6\",\"gridcolor\":\"white\",\"linecolor\":\"white\",\"showbackground\":true,\"ticks\":\"\",\"zerolinecolor\":\"white\",\"gridwidth\":2},\"yaxis\":{\"backgroundcolor\":\"#E5ECF6\",\"gridcolor\":\"white\",\"linecolor\":\"white\",\"showbackground\":true,\"ticks\":\"\",\"zerolinecolor\":\"white\",\"gridwidth\":2},\"zaxis\":{\"backgroundcolor\":\"#E5ECF6\",\"gridcolor\":\"white\",\"linecolor\":\"white\",\"showbackground\":true,\"ticks\":\"\",\"zerolinecolor\":\"white\",\"gridwidth\":2}},\"shapedefaults\":{\"line\":{\"color\":\"#2a3f5f\"}},\"annotationdefaults\":{\"arrowcolor\":\"#2a3f5f\",\"arrowhead\":0,\"arrowwidth\":1},\"geo\":{\"bgcolor\":\"white\",\"landcolor\":\"#E5ECF6\",\"subunitcolor\":\"white\",\"showland\":true,\"showlakes\":true,\"lakecolor\":\"white\"},\"title\":{\"x\":0.05},\"mapbox\":{\"style\":\"light\"}}},\"xaxis\":{\"anchor\":\"y\",\"domain\":[0.0,1.0],\"title\":{\"text\":\"vote_average\"}},\"yaxis\":{\"anchor\":\"x\",\"domain\":[0.0,0.8316],\"title\":{\"text\":\"count\"}},\"xaxis2\":{\"anchor\":\"y2\",\"domain\":[0.0,1.0],\"matches\":\"x\",\"showticklabels\":false,\"showgrid\":true},\"yaxis2\":{\"anchor\":\"x2\",\"domain\":[0.8416,1.0],\"matches\":\"y2\",\"showticklabels\":false,\"showline\":false,\"ticks\":\"\",\"showgrid\":false},\"legend\":{\"tracegroupgap\":0},\"margin\":{\"t\":60},\"barmode\":\"relative\"},                        {\"responsive\": true}                    ).then(function(){\n",
              "                            \n",
              "var gd = document.getElementById('d3ab9aac-2682-49f4-9ac3-15d652eb0888');\n",
              "var x = new MutationObserver(function (mutations, observer) {{\n",
              "        var display = window.getComputedStyle(gd).display;\n",
              "        if (!display || display === 'none') {{\n",
              "            console.log([gd, 'removed!']);\n",
              "            Plotly.purge(gd);\n",
              "            observer.disconnect();\n",
              "        }}\n",
              "}});\n",
              "\n",
              "// Listen for the removal of the full notebook cells\n",
              "var notebookContainer = gd.closest('#notebook-container');\n",
              "if (notebookContainer) {{\n",
              "    x.observe(notebookContainer, {childList: true});\n",
              "}}\n",
              "\n",
              "// Listen for the clearing of the current output cell\n",
              "var outputEl = gd.closest('.output');\n",
              "if (outputEl) {{\n",
              "    x.observe(outputEl, {childList: true});\n",
              "}}\n",
              "\n",
              "                        })                };                            </script>        </div>\n",
              "</body>\n",
              "</html>"
            ]
          },
          "metadata": {}
        }
      ]
    },
    {
      "cell_type": "markdown",
      "source": [
        "Vamos analisar de maneira visual a disperção dos dados e outliers entre a quantidade de votos e as médias destes a partir de um gráfico Box Plot"
      ],
      "metadata": {
        "id": "o1KHX9H4bSYv"
      }
    },
    {
      "cell_type": "code",
      "source": [
        "fig2 = px.box(Movie2, x='vote_average', y='vote_count')\n",
        "fig2.show()"
      ],
      "metadata": {
        "colab": {
          "base_uri": "https://localhost:8080/",
          "height": 542
        },
        "id": "HnFqlauFH9Gd",
        "outputId": "d73ab78c-320a-47dc-b6ba-d59bcc3c5a58"
      },
      "execution_count": null,
      "outputs": [
        {
          "output_type": "display_data",
          "data": {
            "text/html": [
              "<html>\n",
              "<head><meta charset=\"utf-8\" /></head>\n",
              "<body>\n",
              "    <div>            <script src=\"https://cdnjs.cloudflare.com/ajax/libs/mathjax/2.7.5/MathJax.js?config=TeX-AMS-MML_SVG\"></script><script type=\"text/javascript\">if (window.MathJax && window.MathJax.Hub && window.MathJax.Hub.Config) {window.MathJax.Hub.Config({SVG: {font: \"STIX-Web\"}});}</script>                <script type=\"text/javascript\">window.PlotlyConfig = {MathJaxConfig: 'local'};</script>\n",
              "        <script src=\"https://cdn.plot.ly/plotly-2.18.2.min.js\"></script>                <div id=\"a882a755-d44f-4627-9d25-ca7ffc175578\" class=\"plotly-graph-div\" style=\"height:525px; width:100%;\"></div>            <script type=\"text/javascript\">                                    window.PLOTLYENV=window.PLOTLYENV || {};                                    if (document.getElementById(\"a882a755-d44f-4627-9d25-ca7ffc175578\")) {                    Plotly.newPlot(                        \"a882a755-d44f-4627-9d25-ca7ffc175578\",                        [{\"alignmentgroup\":\"True\",\"hovertemplate\":\"vote_average=%{x}<br>vote_count=%{y}<extra></extra>\",\"legendgroup\":\"\",\"marker\":{\"color\":\"#636efa\"},\"name\":\"\",\"notched\":false,\"offsetgroup\":\"\",\"orientation\":\"v\",\"showlegend\":false,\"x\":[6.5,7.1,6.3,7.5,7.3,7.2,5.8,7.6,6.5,8.0,6.2,5.2,7.6,5.8,7.4,7.4,6.1,7.0,6.5,6.2,6.1,5.3,7.3,7.1,7.6,7.8,6.4,6.6,6.2,8.0,6.6,7.3,7.7,5.6,7.3,5.9,6.9,6.6,7.1,7.1,6.7,5.5,6.3,6.2,5.3,5.0,4.4,5.8,6.9,6.7,5.5,6.4,7.3,6.7,6.4,6.9,6.1,4.8,5.3,6.8,5.9,5.1,6.6,5.7,7.5,6.9,6.8,5.5,3.9,6.2,5.9,5.9,5.7,6.7,7.3,7.3,5.9,6.3,5.3,6.4,6.2,5.7,6.3,5.9,5.5,7.1,5.1,6.6,4.9,5.0,5.7,6.9,5.6,8.0,7.9,7.6,7.0,6.6,7.1,7.8,8.0,7.0,7.9,6.9,7.6,6.3,5.8,7.6,5.9,8.2,6.6,7.7,7.5,5.6,6.2,7.0,6.0,7.7,6.2,7.5,5.1,5.6,6.1,6.3,7.0,7.1,6.1,7.2,3.8,6.4,5.5,7.2,6.7,6.3,5.7,6.2,6.5,5.7,7.2,7.1,5.8,5.9,5.8,6.1,5.6,5.1,6.5,5.9,6.8,6.2,5.2,6.6,6.3,6.5,7.0,5.7,5.2,6.8,6.1,5.7,5.7,5.6,6.1,7.9,6.2,7.1,7.7,7.3,7.6,5.8,7.1,6.9,7.3,7.1,5.6,6.3,6.5,7.1,7.1,5.6,6.0,5.7,6.7,6.3,6.4,7.5,7.1,5.9,6.0,6.6,6.6,5.4,5.3,5.9,6.2,6.1,5.7,7.4,5.1,6.1,6.0,5.6,5.3,6.7,6.0,6.5,6.5,4.6,5.5,5.3,5.2,5.8,6.8,6.6,6.4,6.0,6.0,7.1,5.9,5.5,5.8,5.9,6.9,5.2,5.9,7.8,6.0,5.8,6.1,5.5,6.3,6.2,6.9,5.7,5.1,6.2,5.3,5.2,6.6,5.9,5.6,6.8,5.5,6.6,6.0,5.8,6.4,6.9,5.2,5.8,5.1,6.2,4.5,5.6,5.7,6.3,5.5,6.3,6.3,5.8,6.9,5.7,7.0,6.5,5.6,5.7,5.5,6.7,5.5,4.6,6.2,7.4,5.3,6.0,5.9,4.9,6.3,5.1,6.0,5.4,6.7,7.9,6.6,6.3,7.1,7.4,7.1,5.9,7.4,7.6,6.3,7.3,7.5,6.2,6.6,6.0,6.1,6.1,7.0,5.6,5.8,7.1,7.2,5.4,6.0,6.2,6.2,6.1,5.9,6.9,5.9,6.6,4.7,6.1,6.7,6.5,7.4,6.5,6.7,6.1,6.1,5.9,5.7,6.9,5.5,6.3,6.3,5.7,5.8,5.6,5.4,5.8,6.1,6.2,6.1,6.1,6.9,6.8,5.5,6.2,7.1,5.9,4.4,4.3,7.6,5.7,5.0,6.0,5.9,6.6,7.2,6.5,6.1,6.8,6.4,6.0,5.7,6.7,5.5,6.3,6.5,5.7,6.8,5.5,4.9,5.2,6.1,7.0,5.4,6.4,5.9,6.5,5.4,6.4,4.7,6.1,6.7,5.0,5.2,4.9,5.6,5.9,5.5,5.9,6.2,5.8,5.8,5.5,5.1,6.6,5.9,6.5,5.6,7.2,6.9,6.2,6.4,4.7,6.0,4.9,6.8,6.7,5.7,6.2,6.4,5.9,7.0,7.8,5.9,5.8,4.8,6.6,7.3,8.1,7.8,7.7,6.3,6.3,8.0,6.0,5.9,7.2,6.8,7.0,6.8,5.4,6.6,7.1,7.0,6.3,6.6,7.3,6.9,6.6,5.9,7.8,7.2,7.3,7.1,7.0,6.5,7.5,5.0,5.6,7.0,5.6,5.0,6.5,4.6,5.6,5.7,5.7,6.5,8.1,7.6,7.3,5.6,5.8,6.0,6.8,5.9,7.2,7.6,6.1,5.9,6.3,7.5,6.0,7.2,6.4,7.6,6.2,5.9,7.4,6.4,6.3,6.3,6.8,6.1,5.8,6.5,5.3,6.5,6.6,7.0,5.5,5.3,6.2,6.0,5.9,5.4,7.3,7.1,6.0,5.6,4.5,5.6,6.2,6.2,5.6,5.8,5.9,7.1,6.1,6.8,5.6,5.0,4.0,4.6,4.3,4.8,6.1,5.4,5.7,7.2,6.2,6.3,5.8,6.0,6.8,5.1,6.3,6.7,5.1,5.1,3.3,5.3,5.7,5.6,7.5,5.5,6.8,6.4,5.8,4.5,6.5,7.7,6.3,6.9,6.5,6.6,5.3,6.3,7.0,6.7,6.9,7.1,7.0,6.6,6.3,6.4,6.5,6.5,5.4,6.9,5.8,5.1,6.1,6.1,6.6,6.5,5.4,6.6,5.9,5.5,5.8,6.5,6.0,6.5,7.2,5.4,5.4,6.9,6.8,6.5,5.9,6.8,6.9,4.7,6.9,5.7,6.8,5.5,5.3,5.2,7.6,5.5,6.4,6.4,5.6,6.4,5.6,6.4,6.5,5.5,5.9,6.4,4.2,6.2,5.2,6.7,6.4,4.7,7.6,6.3,6.9,5.5,5.4,6.0,5.2,6.0,6.1,6.0,6.0,6.0,5.8,5.1,4.9,6.1,5.8,6.0,5.5,6.4,6.4,7.0,6.0,5.3,6.8,5.5,6.5,6.1,6.6,5.7,6.0,6.6,5.4,6.6,5.7,5.7,6.5,6.9,6.4,6.1,6.0,5.2,6.3,6.4,6.5,5.3,5.9,5.8,5.2,6.3,5.8,5.7,5.2,5.9,6.9,5.5,4.9,6.7,5.9,5.3,5.2,6.9,5.8,7.2,6.7,6.3,5.4,5.2,6.6,6.4,7.1,6.6,6.3,5.6,6.3,6.8,5.2,6.2,7.3,5.1,5.8,4.8,6.1,7.4,5.3,6.7,7.3,7.0,7.8,6.9,7.1,6.3,6.6,6.4,5.9,7.9,6.1,6.9,6.4,6.7,6.0,7.3,6.4,5.5,5.9,5.2,7.2,5.7,7.2,5.6,5.4,5.2,7.7,7.2,6.5,6.6,6.0,7.3,6.0,7.5,7.7,6.8,5.9,6.9,6.2,6.9,6.4,6.6,5.7,6.7,7.1,6.2,6.4,6.2,6.8,7.0,7.2,6.1,6.7,5.8,6.5,6.0,5.6,7.6,7.0,6.0,6.1,6.5,6.9,5.8,6.2,7.6,6.5,7.0,6.0,6.5,6.5,5.5,5.5,6.3,6.7,5.7,5.9,5.5,6.1,6.7,5.9,6.4,5.6,5.5,5.8,5.2,6.1,6.5,5.6,6.2,6.2,6.2,6.6,6.5,6.7,4.2,5.7,5.3,4.9,5.8,5.2,6.6,6.8,6.1,4.7,6.1,5.3,6.3,5.6,4.5,5.4,5.5,6.6,4.4,6.7,4.8,5.6,2.2,6.5,7.9,6.5,7.3,7.6,7.4,6.3,6.9,4.9,6.6,6.2,5.7,6.6,6.6,6.6,5.8,5.8,7.0,6.3,6.4,5.1,6.8,3.8,3.4,5.8,5.9,6.2,6.5,5.2,6.7,5.0,7.3,6.7,5.9,7.7,5.2,6.7,6.9,6.5,7.5,7.4,6.8,6.9,7.4,7.9,6.7,6.3,7.6,6.5,7.8,7.0,6.2,7.4,5.2,6.7,6.6,6.6,5.9,7.8,6.8,5.7,6.2,7.4,5.3,5.0,6.6,6.3,6.7,6.8,6.7,5.8,7.7,5.5,5.5,6.2,6.0,6.1,6.3,6.8,5.6,6.1,5.7,6.1,6.0,5.8,5.5,6.3,7.7,5.7,5.0,5.3,5.5,6.4,6.0,6.4,5.6,6.6,5.8,6.2,5.6,6.3,4.4,6.1,5.5,7.8,5.8,7.3,7.3,7.6,7.1,7.0,6.4,6.5,5.8,7.1,6.2,5.6,6.4,7.6,7.2,5.8,5.0,7.0,6.6,5.2,6.6,5.7,7.0,6.0,6.1,6.2,6.9,5.2,6.0,6.2,6.4,5.9,6.5,5.9,6.0,6.7,4.8,4.2,3.8,6.7,6.8,6.8,5.8,7.4,6.5,4.5,6.5,3.9,4.9,6.8,5.8,6.8,6.3,6.8,6.4,7.1,6.4,6.4,6.3,7.0,7.7,6.7,7.8,7.3,6.4,5.5,7.2,7.0,6.3,6.7,6.4,6.0,5.2,4.8,6.3,5.5,6.0,5.9,6.3,5.4,6.2,7.5,6.5,5.3,5.5,5.3,6.3,5.3,7.3,5.6,5.2,6.9,6.7,6.9,6.1,6.5,4.9,6.1,5.1,6.3,4.6,5.9,6.2,6.3,6.5,6.6,5.8,6.8,6.0,5.3,6.2,5.4,6.5,6.7,6.8,5.6,6.5,7.1,6.7,6.6,7.8,7.5,7.2,7.1,6.6,6.8,5.9,6.4,6.4,6.5,6.4,6.1,6.1,5.7,7.0,7.6,5.7,7.1,5.9,5.5,6.5,6.4,5.7,6.0,6.7,6.2,6.0,7.5,6.0,5.8,6.9,5.8,7.2,6.5,6.6,6.8,7.0,7.2,5.9,6.3,5.3,5.5,7.3,8.3,8.0,6.2,6.8,7.2,7.3,7.2,6.8,6.0,5.8,6.6,7.0,6.7,7.7,7.0,5.2,6.9,6.9,6.9,7.3,5.8,6.8,7.0,5.6,5.6,6.0,6.2,6.6,6.4,6.9,6.3,6.4,4.9,6.1,5.7,7.3,6.3,6.6,6.8,6.9,6.1,5.2,5.9,5.8,6.4,6.2,7.0,5.4,6.0,5.9,6.4,5.9,6.0,6.2,6.6,6.9,3.8,5.8,6.9,6.2,4.8,6.0,6.9,6.7,6.7,5.4,5.3,5.7,6.2,5.5,6.0,6.0,7.5,4.6,7.3,6.5,5.1,6.3,7.0,6.7,7.0,6.5,5.9,6.5,7.0,6.6,6.5,7.5,6.1,6.2,6.7,5.8,6.0,5.2,6.0,7.6,7.8,5.7,6.1,7.1,6.9,7.2,6.3,7.8,5.8,5.9,6.8,6.3,7.9,7.5,8.0,6.4,6.9,5.3,7.0,6.5,7.3,6.9,6.4,6.7,5.3,7.5,6.0,6.9,6.5,6.4,6.7,6.5,7.6,5.9,6.6,6.3,5.5,6.9,6.8,5.4,7.0,5.9,6.1,6.5,7.9,6.1,5.8,6.1,6.9,6.6,7.3,6.2,5.7,4.4,6.0,5.9,4.4,5.2,7.7,7.2,7.5,6.3,7.6,6.6,6.5,8.0,6.8,5.6,6.9,6.2,7.3,5.8,7.4,7.2,5.6,6.6,7.3,6.4,6.9,6.1,6.9,6.5,6.0,6.5,6.1,7.3,7.6,7.1,6.7,7.0,6.9,6.2,7.2,6.1,7.0,6.9,6.9,6.9,7.0,7.5,8.1,7.4,6.1,5.9,6.3,4.4,6.8,6.2,6.7,6.7,7.2,6.1,6.3,6.4,7.3,6.7],\"x0\":\" \",\"xaxis\":\"x\",\"y\":[5562,6185,2480,5292,2947,3929,2598,4572,2893,3935,3254,1937,2854,1575,4304,2389,1578,3779,2380,1899,2060,1865,1545,2349,3833,1559,1849,1990,600,1520,1087,754,918,879,1221,396,1060,638,562,1255,1172,505,631,719,696,584,1565,700,1840,1831,820,805,1171,619,414,500,363,473,111,706,326,384,631,568,423,197,753,331,810,288,729,342,322,519,448,277,399,637,407,819,202,533,610,135,408,86,56,87,327,247,69,57,14,6498,5612,3848,2712,3590,3110,4185,3478,3425,3720,3038,4006,3699,1836,2087,2161,2372,2813,3267,3004,1377,2169,2928,481,2152,1275,2268,675,1095,1664,1151,2416,606,255,866,253,384,1589,974,421,552,1709,857,659,1083,981,531,400,223,105,501,827,501,1089,327,287,380,261,182,323,129,141,232,23,63,159,58,92,405,146,4428,279,8458,3969,3220,4225,1670,2141,4118,1778,4134,3533,1275,706,1078,2165,1388,612,1470,1084,584,1116,711,711,1108,765,619,600,510,296,560,406,498,817,1027,340,551,445,484,372,600,932,341,853,192,472,414,130,501,205,257,304,170,298,392,368,117,367,379,201,114,130,662,2230,435,218,75,312,225,675,354,11,36,151,124,238,151,67,234,213,751,284,207,1661,78,131,247,146,172,11,244,42,74,124,65,400,94,61,56,354,133,275,755,67,19,230,35,2784,102,50,117,103,18,67,63,12,74,16,9767,4920,2853,2597,3467,4851,2025,2949,3554,2026,2019,2924,1433,1303,1084,1545,844,1084,1530,871,2022,1258,717,1191,1162,753,1144,781,930,1331,1190,732,951,999,365,1688,756,246,375,150,1045,407,530,553,283,445,290,388,675,186,397,1019,1015,101,432,364,570,423,298,965,359,252,177,171,530,376,228,550,353,259,471,248,341,133,172,421,414,310,328,516,198,204,112,97,306,246,87,179,129,166,458,324,280,304,147,289,60,95,136,140,318,151,78,104,325,111,84,146,211,49,112,433,19,70,36,125,75,43,69,45,25,12,143,74,21,262,23,18,882,83,52,26,5923,6351,1756,2823,1562,2299,509,355,2272,688,170,623,247,145,521,460,522,472,430,435,226,42,6079,4265,3899,2284,2645,689,1786,182,82,330,51,52,126,135,128,30,46,163,8432,4209,6220,1537,2013,2149,1938,167,1899,1809,1147,1082,1670,1547,1764,1207,970,746,570,743,1235,1373,1119,750,820,610,302,907,281,276,719,539,147,359,455,439,637,436,794,642,317,299,144,194,243,98,606,119,241,325,358,508,171,231,182,205,29,490,309,78,174,80,88,118,130,30,110,205,66,28,60,68,130,127,130,71,54,34,41,31,18,12,5025,3750,3180,2578,4485,2068,378,678,1668,3036,1577,1679,2445,1207,1010,1417,1856,1366,953,2710,1277,1654,2601,859,1448,1145,423,1527,1007,533,1658,582,1016,1530,651,327,1363,611,773,1385,440,1257,582,752,591,320,174,589,439,219,768,631,779,1097,596,257,218,1143,554,1041,493,166,371,390,453,212,589,309,1056,955,899,133,854,180,382,689,852,507,186,479,588,289,205,328,232,499,129,427,127,463,144,75,310,797,804,153,313,335,309,590,228,194,199,44,266,382,591,2456,406,204,120,328,164,180,252,43,104,93,428,193,94,308,225,337,86,558,235,55,63,248,78,48,51,196,223,47,103,59,1591,31,37,36,96,87,47,333,31,74,84,37,68,96,90,24,58,3651,5114,2270,2601,1265,3170,2549,1950,938,961,1068,670,944,309,582,361,242,557,420,235,256,319,341,164,148,3489,383,319,149,16,8903,1426,6723,7375,6137,2086,6417,3559,3317,4837,3206,2152,3015,4338,1920,3199,2281,1310,3492,1540,3142,7080,1872,2162,2218,1434,1727,2485,1180,664,1403,1272,601,556,976,1350,1278,1479,3542,1240,339,1011,328,1706,389,1159,343,549,656,240,262,319,693,488,250,695,589,297,992,516,590,773,109,302,176,480,404,82,230,271,549,20,125,120,592,288,234,205,162,175,138,262,76,307,191,1152,12,63,5636,1708,4223,2932,3692,1706,1251,881,1295,353,152,767,434,267,499,339,520,298,109,330,216,48,35,140,16,68,46,13,23,43,4654,2864,565,1592,331,227,745,185,3369,3775,3025,6882,4269,4027,3590,3729,2952,4729,2422,3436,1530,1910,3003,3822,1608,1185,1039,1826,1861,2564,1020,1101,876,996,960,1254,1116,1755,1114,897,1729,2186,413,1687,1607,1352,594,669,2855,805,415,1143,931,242,345,987,389,438,92,83,498,2986,908,143,225,4368,51,10,81,179,41,1174,64,3785,272,3406,4914,2670,1691,2629,1027,1049,493,409,1236,542,677,749,780,592,329,1022,373,181,379,448,370,288,88,197,82,185,245,173,154,363,279,78,85,182,58,85,62,202,353,177,292,130,65,91,89,15,31,63,33,42,1015,3181,2336,2738,1585,1775,1363,1773,2635,748,2519,1211,979,520,990,647,580,371,455,488,137,536,389,228,359,174,306,51,274,1392,363,44,214,313,33,242,952,143,154,292,282,378,395,146,79,1074,71,110,73,216,208,119,25,159,46,174,58,151,206,123,43,61,41,27,130,187,52,46,2012,1929,3064,1966,2339,1357,918,1314,867,1676,1376,782,1422,800,1131,1355,249,675,379,696,351,2735,440,402,546,1118,139,418,322,172,341,210,456,391,238,457,246,87,110,173,80,27,33,3970,3954,128,2626,3382,2434,2051,3013,1121,2083,714,684,720,1768,3428,986,1329,564,937,966,1277,971,1325,704,723,746,569,726,1371,1258,187,307,423,382,740,305,115,549,762,495,714,683,368,469,395,322,423,505,202,374,746,615,248,117,2752,679,44,241,175,240,51,789,460,54,262,100,230,104,115,272,82,63,183,32,223,185,132,240,280,93,559,93,50,40,180,40,96,102,33,264,62,42,423,21,41,2724,1100,299,50,2692,1735,1383,91,3101,183,289,257,60,3535,3141,1942,741,184,78,294,150,2121,502,444,67,58,2506,268,498,336,162,96,1754,1093,806,754,677,306,863,426,189,37,59,222,77,2144,733,1269,205,406,1245,535,211,409,55,151,141,16,12,2110,1830,797,1263,1696,1159,980,1563,673,238,286,498,1167,94,2031,2436,332,225,1703,44,229,25,654,496,238,62,283,1415,1097,332,560,602,92,331,300,125,42,1762,880,615,1393,30,2632,3169,580,112,96,25,24,301,458,347,1113,293,331,258,522,230],\"y0\":\" \",\"yaxis\":\"y\",\"type\":\"box\"}],                        {\"template\":{\"data\":{\"histogram2dcontour\":[{\"type\":\"histogram2dcontour\",\"colorbar\":{\"outlinewidth\":0,\"ticks\":\"\"},\"colorscale\":[[0.0,\"#0d0887\"],[0.1111111111111111,\"#46039f\"],[0.2222222222222222,\"#7201a8\"],[0.3333333333333333,\"#9c179e\"],[0.4444444444444444,\"#bd3786\"],[0.5555555555555556,\"#d8576b\"],[0.6666666666666666,\"#ed7953\"],[0.7777777777777778,\"#fb9f3a\"],[0.8888888888888888,\"#fdca26\"],[1.0,\"#f0f921\"]]}],\"choropleth\":[{\"type\":\"choropleth\",\"colorbar\":{\"outlinewidth\":0,\"ticks\":\"\"}}],\"histogram2d\":[{\"type\":\"histogram2d\",\"colorbar\":{\"outlinewidth\":0,\"ticks\":\"\"},\"colorscale\":[[0.0,\"#0d0887\"],[0.1111111111111111,\"#46039f\"],[0.2222222222222222,\"#7201a8\"],[0.3333333333333333,\"#9c179e\"],[0.4444444444444444,\"#bd3786\"],[0.5555555555555556,\"#d8576b\"],[0.6666666666666666,\"#ed7953\"],[0.7777777777777778,\"#fb9f3a\"],[0.8888888888888888,\"#fdca26\"],[1.0,\"#f0f921\"]]}],\"heatmap\":[{\"type\":\"heatmap\",\"colorbar\":{\"outlinewidth\":0,\"ticks\":\"\"},\"colorscale\":[[0.0,\"#0d0887\"],[0.1111111111111111,\"#46039f\"],[0.2222222222222222,\"#7201a8\"],[0.3333333333333333,\"#9c179e\"],[0.4444444444444444,\"#bd3786\"],[0.5555555555555556,\"#d8576b\"],[0.6666666666666666,\"#ed7953\"],[0.7777777777777778,\"#fb9f3a\"],[0.8888888888888888,\"#fdca26\"],[1.0,\"#f0f921\"]]}],\"heatmapgl\":[{\"type\":\"heatmapgl\",\"colorbar\":{\"outlinewidth\":0,\"ticks\":\"\"},\"colorscale\":[[0.0,\"#0d0887\"],[0.1111111111111111,\"#46039f\"],[0.2222222222222222,\"#7201a8\"],[0.3333333333333333,\"#9c179e\"],[0.4444444444444444,\"#bd3786\"],[0.5555555555555556,\"#d8576b\"],[0.6666666666666666,\"#ed7953\"],[0.7777777777777778,\"#fb9f3a\"],[0.8888888888888888,\"#fdca26\"],[1.0,\"#f0f921\"]]}],\"contourcarpet\":[{\"type\":\"contourcarpet\",\"colorbar\":{\"outlinewidth\":0,\"ticks\":\"\"}}],\"contour\":[{\"type\":\"contour\",\"colorbar\":{\"outlinewidth\":0,\"ticks\":\"\"},\"colorscale\":[[0.0,\"#0d0887\"],[0.1111111111111111,\"#46039f\"],[0.2222222222222222,\"#7201a8\"],[0.3333333333333333,\"#9c179e\"],[0.4444444444444444,\"#bd3786\"],[0.5555555555555556,\"#d8576b\"],[0.6666666666666666,\"#ed7953\"],[0.7777777777777778,\"#fb9f3a\"],[0.8888888888888888,\"#fdca26\"],[1.0,\"#f0f921\"]]}],\"surface\":[{\"type\":\"surface\",\"colorbar\":{\"outlinewidth\":0,\"ticks\":\"\"},\"colorscale\":[[0.0,\"#0d0887\"],[0.1111111111111111,\"#46039f\"],[0.2222222222222222,\"#7201a8\"],[0.3333333333333333,\"#9c179e\"],[0.4444444444444444,\"#bd3786\"],[0.5555555555555556,\"#d8576b\"],[0.6666666666666666,\"#ed7953\"],[0.7777777777777778,\"#fb9f3a\"],[0.8888888888888888,\"#fdca26\"],[1.0,\"#f0f921\"]]}],\"mesh3d\":[{\"type\":\"mesh3d\",\"colorbar\":{\"outlinewidth\":0,\"ticks\":\"\"}}],\"scatter\":[{\"fillpattern\":{\"fillmode\":\"overlay\",\"size\":10,\"solidity\":0.2},\"type\":\"scatter\"}],\"parcoords\":[{\"type\":\"parcoords\",\"line\":{\"colorbar\":{\"outlinewidth\":0,\"ticks\":\"\"}}}],\"scatterpolargl\":[{\"type\":\"scatterpolargl\",\"marker\":{\"colorbar\":{\"outlinewidth\":0,\"ticks\":\"\"}}}],\"bar\":[{\"error_x\":{\"color\":\"#2a3f5f\"},\"error_y\":{\"color\":\"#2a3f5f\"},\"marker\":{\"line\":{\"color\":\"#E5ECF6\",\"width\":0.5},\"pattern\":{\"fillmode\":\"overlay\",\"size\":10,\"solidity\":0.2}},\"type\":\"bar\"}],\"scattergeo\":[{\"type\":\"scattergeo\",\"marker\":{\"colorbar\":{\"outlinewidth\":0,\"ticks\":\"\"}}}],\"scatterpolar\":[{\"type\":\"scatterpolar\",\"marker\":{\"colorbar\":{\"outlinewidth\":0,\"ticks\":\"\"}}}],\"histogram\":[{\"marker\":{\"pattern\":{\"fillmode\":\"overlay\",\"size\":10,\"solidity\":0.2}},\"type\":\"histogram\"}],\"scattergl\":[{\"type\":\"scattergl\",\"marker\":{\"colorbar\":{\"outlinewidth\":0,\"ticks\":\"\"}}}],\"scatter3d\":[{\"type\":\"scatter3d\",\"line\":{\"colorbar\":{\"outlinewidth\":0,\"ticks\":\"\"}},\"marker\":{\"colorbar\":{\"outlinewidth\":0,\"ticks\":\"\"}}}],\"scattermapbox\":[{\"type\":\"scattermapbox\",\"marker\":{\"colorbar\":{\"outlinewidth\":0,\"ticks\":\"\"}}}],\"scatterternary\":[{\"type\":\"scatterternary\",\"marker\":{\"colorbar\":{\"outlinewidth\":0,\"ticks\":\"\"}}}],\"scattercarpet\":[{\"type\":\"scattercarpet\",\"marker\":{\"colorbar\":{\"outlinewidth\":0,\"ticks\":\"\"}}}],\"carpet\":[{\"aaxis\":{\"endlinecolor\":\"#2a3f5f\",\"gridcolor\":\"white\",\"linecolor\":\"white\",\"minorgridcolor\":\"white\",\"startlinecolor\":\"#2a3f5f\"},\"baxis\":{\"endlinecolor\":\"#2a3f5f\",\"gridcolor\":\"white\",\"linecolor\":\"white\",\"minorgridcolor\":\"white\",\"startlinecolor\":\"#2a3f5f\"},\"type\":\"carpet\"}],\"table\":[{\"cells\":{\"fill\":{\"color\":\"#EBF0F8\"},\"line\":{\"color\":\"white\"}},\"header\":{\"fill\":{\"color\":\"#C8D4E3\"},\"line\":{\"color\":\"white\"}},\"type\":\"table\"}],\"barpolar\":[{\"marker\":{\"line\":{\"color\":\"#E5ECF6\",\"width\":0.5},\"pattern\":{\"fillmode\":\"overlay\",\"size\":10,\"solidity\":0.2}},\"type\":\"barpolar\"}],\"pie\":[{\"automargin\":true,\"type\":\"pie\"}]},\"layout\":{\"autotypenumbers\":\"strict\",\"colorway\":[\"#636efa\",\"#EF553B\",\"#00cc96\",\"#ab63fa\",\"#FFA15A\",\"#19d3f3\",\"#FF6692\",\"#B6E880\",\"#FF97FF\",\"#FECB52\"],\"font\":{\"color\":\"#2a3f5f\"},\"hovermode\":\"closest\",\"hoverlabel\":{\"align\":\"left\"},\"paper_bgcolor\":\"white\",\"plot_bgcolor\":\"#E5ECF6\",\"polar\":{\"bgcolor\":\"#E5ECF6\",\"angularaxis\":{\"gridcolor\":\"white\",\"linecolor\":\"white\",\"ticks\":\"\"},\"radialaxis\":{\"gridcolor\":\"white\",\"linecolor\":\"white\",\"ticks\":\"\"}},\"ternary\":{\"bgcolor\":\"#E5ECF6\",\"aaxis\":{\"gridcolor\":\"white\",\"linecolor\":\"white\",\"ticks\":\"\"},\"baxis\":{\"gridcolor\":\"white\",\"linecolor\":\"white\",\"ticks\":\"\"},\"caxis\":{\"gridcolor\":\"white\",\"linecolor\":\"white\",\"ticks\":\"\"}},\"coloraxis\":{\"colorbar\":{\"outlinewidth\":0,\"ticks\":\"\"}},\"colorscale\":{\"sequential\":[[0.0,\"#0d0887\"],[0.1111111111111111,\"#46039f\"],[0.2222222222222222,\"#7201a8\"],[0.3333333333333333,\"#9c179e\"],[0.4444444444444444,\"#bd3786\"],[0.5555555555555556,\"#d8576b\"],[0.6666666666666666,\"#ed7953\"],[0.7777777777777778,\"#fb9f3a\"],[0.8888888888888888,\"#fdca26\"],[1.0,\"#f0f921\"]],\"sequentialminus\":[[0.0,\"#0d0887\"],[0.1111111111111111,\"#46039f\"],[0.2222222222222222,\"#7201a8\"],[0.3333333333333333,\"#9c179e\"],[0.4444444444444444,\"#bd3786\"],[0.5555555555555556,\"#d8576b\"],[0.6666666666666666,\"#ed7953\"],[0.7777777777777778,\"#fb9f3a\"],[0.8888888888888888,\"#fdca26\"],[1.0,\"#f0f921\"]],\"diverging\":[[0,\"#8e0152\"],[0.1,\"#c51b7d\"],[0.2,\"#de77ae\"],[0.3,\"#f1b6da\"],[0.4,\"#fde0ef\"],[0.5,\"#f7f7f7\"],[0.6,\"#e6f5d0\"],[0.7,\"#b8e186\"],[0.8,\"#7fbc41\"],[0.9,\"#4d9221\"],[1,\"#276419\"]]},\"xaxis\":{\"gridcolor\":\"white\",\"linecolor\":\"white\",\"ticks\":\"\",\"title\":{\"standoff\":15},\"zerolinecolor\":\"white\",\"automargin\":true,\"zerolinewidth\":2},\"yaxis\":{\"gridcolor\":\"white\",\"linecolor\":\"white\",\"ticks\":\"\",\"title\":{\"standoff\":15},\"zerolinecolor\":\"white\",\"automargin\":true,\"zerolinewidth\":2},\"scene\":{\"xaxis\":{\"backgroundcolor\":\"#E5ECF6\",\"gridcolor\":\"white\",\"linecolor\":\"white\",\"showbackground\":true,\"ticks\":\"\",\"zerolinecolor\":\"white\",\"gridwidth\":2},\"yaxis\":{\"backgroundcolor\":\"#E5ECF6\",\"gridcolor\":\"white\",\"linecolor\":\"white\",\"showbackground\":true,\"ticks\":\"\",\"zerolinecolor\":\"white\",\"gridwidth\":2},\"zaxis\":{\"backgroundcolor\":\"#E5ECF6\",\"gridcolor\":\"white\",\"linecolor\":\"white\",\"showbackground\":true,\"ticks\":\"\",\"zerolinecolor\":\"white\",\"gridwidth\":2}},\"shapedefaults\":{\"line\":{\"color\":\"#2a3f5f\"}},\"annotationdefaults\":{\"arrowcolor\":\"#2a3f5f\",\"arrowhead\":0,\"arrowwidth\":1},\"geo\":{\"bgcolor\":\"white\",\"landcolor\":\"#E5ECF6\",\"subunitcolor\":\"white\",\"showland\":true,\"showlakes\":true,\"lakecolor\":\"white\"},\"title\":{\"x\":0.05},\"mapbox\":{\"style\":\"light\"}}},\"xaxis\":{\"anchor\":\"y\",\"domain\":[0.0,1.0],\"title\":{\"text\":\"vote_average\"}},\"yaxis\":{\"anchor\":\"x\",\"domain\":[0.0,1.0],\"title\":{\"text\":\"vote_count\"}},\"legend\":{\"tracegroupgap\":0},\"margin\":{\"t\":60},\"boxmode\":\"group\"},                        {\"responsive\": true}                    ).then(function(){\n",
              "                            \n",
              "var gd = document.getElementById('a882a755-d44f-4627-9d25-ca7ffc175578');\n",
              "var x = new MutationObserver(function (mutations, observer) {{\n",
              "        var display = window.getComputedStyle(gd).display;\n",
              "        if (!display || display === 'none') {{\n",
              "            console.log([gd, 'removed!']);\n",
              "            Plotly.purge(gd);\n",
              "            observer.disconnect();\n",
              "        }}\n",
              "}});\n",
              "\n",
              "// Listen for the removal of the full notebook cells\n",
              "var notebookContainer = gd.closest('#notebook-container');\n",
              "if (notebookContainer) {{\n",
              "    x.observe(notebookContainer, {childList: true});\n",
              "}}\n",
              "\n",
              "// Listen for the clearing of the current output cell\n",
              "var outputEl = gd.closest('.output');\n",
              "if (outputEl) {{\n",
              "    x.observe(outputEl, {childList: true});\n",
              "}}\n",
              "\n",
              "                        })                };                            </script>        </div>\n",
              "</body>\n",
              "</html>"
            ]
          },
          "metadata": {}
        }
      ]
    },
    {
      "cell_type": "markdown",
      "source": [
        "Vamos analisar varios a plotágem de todas as colunas entre si e posteriormente vamos analisar melhor a correlação entre elas com o Heat Map na próxima célula"
      ],
      "metadata": {
        "id": "eNRH3lffLWpK"
      }
    },
    {
      "cell_type": "code",
      "source": [
        "import seaborn as sns\n",
        "col = ['popularity', 'runtime', 'vote_count', 'vote_average', 'Potencial_classic', 'popular_bin', 'avaliado_bin']\n",
        "sns.pairplot(Movie2[col])"
      ],
      "metadata": {
        "colab": {
          "base_uri": "https://localhost:8080/",
          "height": 1000
        },
        "id": "VP-51Tt9JJv5",
        "outputId": "4d8bf4e8-de6d-4f9c-c7db-433af5d4ff87"
      },
      "execution_count": null,
      "outputs": [
        {
          "output_type": "execute_result",
          "data": {
            "text/plain": [
              "<seaborn.axisgrid.PairGrid at 0x7f0c409c5840>"
            ]
          },
          "metadata": {},
          "execution_count": 483
        },
        {
          "output_type": "display_data",
          "data": {
            "text/plain": [
              "<Figure size 1750x1750 with 56 Axes>"
            ],
            "image/png": "[encoded data removed]"
          },
          "metadata": {}
        }
      ]
    },
    {
      "cell_type": "code",
      "source": [
        "Movie2[['vote_count', 'vote_average']].corr()"
      ],
      "metadata": {
        "colab": {
          "base_uri": "https://localhost:8080/",
          "height": 112
        },
        "id": "R-3HCMtfKA7e",
        "outputId": "5e108bfe-dee6-44cd-903f-a274ae60a35a"
      },
      "execution_count": null,
      "outputs": [
        {
          "output_type": "execute_result",
          "data": {
            "text/plain": [
              "              vote_count  vote_average\n",
              "vote_count      1.000000      0.464812\n",
              "vote_average    0.464812      1.000000"
            ],
            "text/html": [
              "\n",
              "  <div id=\"df-e0ce9256-6910-4b25-b7ea-ee58fbef0797\">\n",
              "    <div class=\"colab-df-container\">\n",
              "      <div>\n",
              "<style scoped>\n",
              "    .dataframe tbody tr th:only-of-type {\n",
              "        vertical-align: middle;\n",
              "    }\n",
              "\n",
              "    .dataframe tbody tr th {\n",
              "        vertical-align: top;\n",
              "    }\n",
              "\n",
              "    .dataframe thead th {\n",
              "        text-align: right;\n",
              "    }\n",
              "</style>\n",
              "<table border=\"1\" class=\"dataframe\">\n",
              "  <thead>\n",
              "    <tr style=\"text-align: right;\">\n",
              "      <th></th>\n",
              "      <th>vote_count</th>\n",
              "      <th>vote_average</th>\n",
              "    </tr>\n",
              "  </thead>\n",
              "  <tbody>\n",
              "    <tr>\n",
              "      <th>vote_count</th>\n",
              "      <td>1.000000</td>\n",
              "      <td>0.464812</td>\n",
              "    </tr>\n",
              "    <tr>\n",
              "      <th>vote_average</th>\n",
              "      <td>0.464812</td>\n",
              "      <td>1.000000</td>\n",
              "    </tr>\n",
              "  </tbody>\n",
              "</table>\n",
              "</div>\n",
              "      <button class=\"colab-df-convert\" onclick=\"convertToInteractive('df-e0ce9256-6910-4b25-b7ea-ee58fbef0797')\"\n",
              "              title=\"Convert this dataframe to an interactive table.\"\n",
              "              style=\"display:none;\">\n",
              "        \n",
              "  <svg xmlns=\"http://www.w3.org/2000/svg\" height=\"24px\"viewBox=\"0 0 24 24\"\n",
              "       width=\"24px\">\n",
              "    <path d=\"M0 0h24v24H0V0z\" fill=\"none\"/>\n",
              "    <path d=\"M18.56 5.44l.94 2.06.94-2.06 2.06-.94-2.06-.94-.94-2.06-.94 2.06-2.06.94zm-11 1L8.5 8.5l.94-2.06 2.06-.94-2.06-.94L8.5 2.5l-.94 2.06-2.06.94zm10 10l.94 2.06.94-2.06 2.06-.94-2.06-.94-.94-2.06-.94 2.06-2.06.94z\"/><path d=\"M17.41 7.96l-1.37-1.37c-.4-.4-.92-.59-1.43-.59-.52 0-1.04.2-1.43.59L10.3 9.45l-7.72 7.72c-.78.78-.78 2.05 0 2.83L4 21.41c.39.39.9.59 1.41.59.51 0 1.02-.2 1.41-.59l7.78-7.78 2.81-2.81c.8-.78.8-2.07 0-2.86zM5.41 20L4 18.59l7.72-7.72 1.47 1.35L5.41 20z\"/>\n",
              "  </svg>\n",
              "      </button>\n",
              "      \n",
              "  <style>\n",
              "    .colab-df-container {\n",
              "      display:flex;\n",
              "      flex-wrap:wrap;\n",
              "      gap: 12px;\n",
              "    }\n",
              "\n",
              "    .colab-df-convert {\n",
              "      background-color: #E8F0FE;\n",
              "      border: none;\n",
              "      border-radius: 50%;\n",
              "      cursor: pointer;\n",
              "      display: none;\n",
              "      fill: #1967D2;\n",
              "      height: 32px;\n",
              "      padding: 0 0 0 0;\n",
              "      width: 32px;\n",
              "    }\n",
              "\n",
              "    .colab-df-convert:hover {\n",
              "      background-color: #E2EBFA;\n",
              "      box-shadow: 0px 1px 2px rgba(60, 64, 67, 0.3), 0px 1px 3px 1px rgba(60, 64, 67, 0.15);\n",
              "      fill: #174EA6;\n",
              "    }\n",
              "\n",
              "    [theme=dark] .colab-df-convert {\n",
              "      background-color: #3B4455;\n",
              "      fill: #D2E3FC;\n",
              "    }\n",
              "\n",
              "    [theme=dark] .colab-df-convert:hover {\n",
              "      background-color: #434B5C;\n",
              "      box-shadow: 0px 1px 3px 1px rgba(0, 0, 0, 0.15);\n",
              "      filter: drop-shadow(0px 1px 2px rgba(0, 0, 0, 0.3));\n",
              "      fill: #FFFFFF;\n",
              "    }\n",
              "  </style>\n",
              "\n",
              "      <script>\n",
              "        const buttonEl =\n",
              "          document.querySelector('#df-e0ce9256-6910-4b25-b7ea-ee58fbef0797 button.colab-df-convert');\n",
              "        buttonEl.style.display =\n",
              "          google.colab.kernel.accessAllowed ? 'block' : 'none';\n",
              "\n",
              "        async function convertToInteractive(key) {\n",
              "          const element = document.querySelector('#df-e0ce9256-6910-4b25-b7ea-ee58fbef0797');\n",
              "          const dataTable =\n",
              "            await google.colab.kernel.invokeFunction('convertToInteractive',\n",
              "                                                     [key], {});\n",
              "          if (!dataTable) return;\n",
              "\n",
              "          const docLinkHtml = 'Like what you see? Visit the ' +\n",
              "            '<a target=\"_blank\" href=https://colab.research.google.com/notebooks/data_table.ipynb>data table notebook</a>'\n",
              "            + ' to learn more about interactive tables.';\n",
              "          element.innerHTML = '';\n",
              "          dataTable['output_type'] = 'display_data';\n",
              "          await google.colab.output.renderOutput(dataTable, element);\n",
              "          const docLink = document.createElement('div');\n",
              "          docLink.innerHTML = docLinkHtml;\n",
              "          element.appendChild(docLink);\n",
              "        }\n",
              "      </script>\n",
              "    </div>\n",
              "  </div>\n",
              "  "
            ]
          },
          "metadata": {},
          "execution_count": 484
        }
      ]
    },
    {
      "cell_type": "code",
      "source": [
        "Movie2[['vote_count', 'runtime']].corr()"
      ],
      "metadata": {
        "colab": {
          "base_uri": "https://localhost:8080/",
          "height": 112
        },
        "id": "rwSCJcXRKmvP",
        "outputId": "598926eb-8bfd-436c-df58-887541c235ba"
      },
      "execution_count": null,
      "outputs": [
        {
          "output_type": "execute_result",
          "data": {
            "text/plain": [
              "            vote_count   runtime\n",
              "vote_count    1.000000  0.426505\n",
              "runtime       0.426505  1.000000"
            ],
            "text/html": [
              "\n",
              "  <div id=\"df-af973998-a626-42ea-a0ca-eab1fd05f5a7\">\n",
              "    <div class=\"colab-df-container\">\n",
              "      <div>\n",
              "<style scoped>\n",
              "    .dataframe tbody tr th:only-of-type {\n",
              "        vertical-align: middle;\n",
              "    }\n",
              "\n",
              "    .dataframe tbody tr th {\n",
              "        vertical-align: top;\n",
              "    }\n",
              "\n",
              "    .dataframe thead th {\n",
              "        text-align: right;\n",
              "    }\n",
              "</style>\n",
              "<table border=\"1\" class=\"dataframe\">\n",
              "  <thead>\n",
              "    <tr style=\"text-align: right;\">\n",
              "      <th></th>\n",
              "      <th>vote_count</th>\n",
              "      <th>runtime</th>\n",
              "    </tr>\n",
              "  </thead>\n",
              "  <tbody>\n",
              "    <tr>\n",
              "      <th>vote_count</th>\n",
              "      <td>1.000000</td>\n",
              "      <td>0.426505</td>\n",
              "    </tr>\n",
              "    <tr>\n",
              "      <th>runtime</th>\n",
              "      <td>0.426505</td>\n",
              "      <td>1.000000</td>\n",
              "    </tr>\n",
              "  </tbody>\n",
              "</table>\n",
              "</div>\n",
              "      <button class=\"colab-df-convert\" onclick=\"convertToInteractive('df-af973998-a626-42ea-a0ca-eab1fd05f5a7')\"\n",
              "              title=\"Convert this dataframe to an interactive table.\"\n",
              "              style=\"display:none;\">\n",
              "        \n",
              "  <svg xmlns=\"http://www.w3.org/2000/svg\" height=\"24px\"viewBox=\"0 0 24 24\"\n",
              "       width=\"24px\">\n",
              "    <path d=\"M0 0h24v24H0V0z\" fill=\"none\"/>\n",
              "    <path d=\"M18.56 5.44l.94 2.06.94-2.06 2.06-.94-2.06-.94-.94-2.06-.94 2.06-2.06.94zm-11 1L8.5 8.5l.94-2.06 2.06-.94-2.06-.94L8.5 2.5l-.94 2.06-2.06.94zm10 10l.94 2.06.94-2.06 2.06-.94-2.06-.94-.94-2.06-.94 2.06-2.06.94z\"/><path d=\"M17.41 7.96l-1.37-1.37c-.4-.4-.92-.59-1.43-.59-.52 0-1.04.2-1.43.59L10.3 9.45l-7.72 7.72c-.78.78-.78 2.05 0 2.83L4 21.41c.39.39.9.59 1.41.59.51 0 1.02-.2 1.41-.59l7.78-7.78 2.81-2.81c.8-.78.8-2.07 0-2.86zM5.41 20L4 18.59l7.72-7.72 1.47 1.35L5.41 20z\"/>\n",
              "  </svg>\n",
              "      </button>\n",
              "      \n",
              "  <style>\n",
              "    .colab-df-container {\n",
              "      display:flex;\n",
              "      flex-wrap:wrap;\n",
              "      gap: 12px;\n",
              "    }\n",
              "\n",
              "    .colab-df-convert {\n",
              "      background-color: #E8F0FE;\n",
              "      border: none;\n",
              "      border-radius: 50%;\n",
              "      cursor: pointer;\n",
              "      display: none;\n",
              "      fill: #1967D2;\n",
              "      height: 32px;\n",
              "      padding: 0 0 0 0;\n",
              "      width: 32px;\n",
              "    }\n",
              "\n",
              "    .colab-df-convert:hover {\n",
              "      background-color: #E2EBFA;\n",
              "      box-shadow: 0px 1px 2px rgba(60, 64, 67, 0.3), 0px 1px 3px 1px rgba(60, 64, 67, 0.15);\n",
              "      fill: #174EA6;\n",
              "    }\n",
              "\n",
              "    [theme=dark] .colab-df-convert {\n",
              "      background-color: #3B4455;\n",
              "      fill: #D2E3FC;\n",
              "    }\n",
              "\n",
              "    [theme=dark] .colab-df-convert:hover {\n",
              "      background-color: #434B5C;\n",
              "      box-shadow: 0px 1px 3px 1px rgba(0, 0, 0, 0.15);\n",
              "      filter: drop-shadow(0px 1px 2px rgba(0, 0, 0, 0.3));\n",
              "      fill: #FFFFFF;\n",
              "    }\n",
              "  </style>\n",
              "\n",
              "      <script>\n",
              "        const buttonEl =\n",
              "          document.querySelector('#df-af973998-a626-42ea-a0ca-eab1fd05f5a7 button.colab-df-convert');\n",
              "        buttonEl.style.display =\n",
              "          google.colab.kernel.accessAllowed ? 'block' : 'none';\n",
              "\n",
              "        async function convertToInteractive(key) {\n",
              "          const element = document.querySelector('#df-af973998-a626-42ea-a0ca-eab1fd05f5a7');\n",
              "          const dataTable =\n",
              "            await google.colab.kernel.invokeFunction('convertToInteractive',\n",
              "                                                     [key], {});\n",
              "          if (!dataTable) return;\n",
              "\n",
              "          const docLinkHtml = 'Like what you see? Visit the ' +\n",
              "            '<a target=\"_blank\" href=https://colab.research.google.com/notebooks/data_table.ipynb>data table notebook</a>'\n",
              "            + ' to learn more about interactive tables.';\n",
              "          element.innerHTML = '';\n",
              "          dataTable['output_type'] = 'display_data';\n",
              "          await google.colab.output.renderOutput(dataTable, element);\n",
              "          const docLink = document.createElement('div');\n",
              "          docLink.innerHTML = docLinkHtml;\n",
              "          element.appendChild(docLink);\n",
              "        }\n",
              "      </script>\n",
              "    </div>\n",
              "  </div>\n",
              "  "
            ]
          },
          "metadata": {},
          "execution_count": 485
        }
      ]
    },
    {
      "cell_type": "code",
      "source": [
        "Movie2[['Potencial_classic', 'runtime']].corr()"
      ],
      "metadata": {
        "colab": {
          "base_uri": "https://localhost:8080/",
          "height": 112
        },
        "id": "6ns7hyWfK4pW",
        "outputId": "1c17c2a7-5ebc-423f-8f34-271eb03f8b4f"
      },
      "execution_count": null,
      "outputs": [
        {
          "output_type": "execute_result",
          "data": {
            "text/plain": [
              "                   Potencial_classic   runtime\n",
              "Potencial_classic           1.000000  0.346139\n",
              "runtime                     0.346139  1.000000"
            ],
            "text/html": [
              "\n",
              "  <div id=\"df-462942f9-42e5-4a5d-baff-bc853ab4c3b0\">\n",
              "    <div class=\"colab-df-container\">\n",
              "      <div>\n",
              "<style scoped>\n",
              "    .dataframe tbody tr th:only-of-type {\n",
              "        vertical-align: middle;\n",
              "    }\n",
              "\n",
              "    .dataframe tbody tr th {\n",
              "        vertical-align: top;\n",
              "    }\n",
              "\n",
              "    .dataframe thead th {\n",
              "        text-align: right;\n",
              "    }\n",
              "</style>\n",
              "<table border=\"1\" class=\"dataframe\">\n",
              "  <thead>\n",
              "    <tr style=\"text-align: right;\">\n",
              "      <th></th>\n",
              "      <th>Potencial_classic</th>\n",
              "      <th>runtime</th>\n",
              "    </tr>\n",
              "  </thead>\n",
              "  <tbody>\n",
              "    <tr>\n",
              "      <th>Potencial_classic</th>\n",
              "      <td>1.000000</td>\n",
              "      <td>0.346139</td>\n",
              "    </tr>\n",
              "    <tr>\n",
              "      <th>runtime</th>\n",
              "      <td>0.346139</td>\n",
              "      <td>1.000000</td>\n",
              "    </tr>\n",
              "  </tbody>\n",
              "</table>\n",
              "</div>\n",
              "      <button class=\"colab-df-convert\" onclick=\"convertToInteractive('df-462942f9-42e5-4a5d-baff-bc853ab4c3b0')\"\n",
              "              title=\"Convert this dataframe to an interactive table.\"\n",
              "              style=\"display:none;\">\n",
              "        \n",
              "  <svg xmlns=\"http://www.w3.org/2000/svg\" height=\"24px\"viewBox=\"0 0 24 24\"\n",
              "       width=\"24px\">\n",
              "    <path d=\"M0 0h24v24H0V0z\" fill=\"none\"/>\n",
              "    <path d=\"M18.56 5.44l.94 2.06.94-2.06 2.06-.94-2.06-.94-.94-2.06-.94 2.06-2.06.94zm-11 1L8.5 8.5l.94-2.06 2.06-.94-2.06-.94L8.5 2.5l-.94 2.06-2.06.94zm10 10l.94 2.06.94-2.06 2.06-.94-2.06-.94-.94-2.06-.94 2.06-2.06.94z\"/><path d=\"M17.41 7.96l-1.37-1.37c-.4-.4-.92-.59-1.43-.59-.52 0-1.04.2-1.43.59L10.3 9.45l-7.72 7.72c-.78.78-.78 2.05 0 2.83L4 21.41c.39.39.9.59 1.41.59.51 0 1.02-.2 1.41-.59l7.78-7.78 2.81-2.81c.8-.78.8-2.07 0-2.86zM5.41 20L4 18.59l7.72-7.72 1.47 1.35L5.41 20z\"/>\n",
              "  </svg>\n",
              "      </button>\n",
              "      \n",
              "  <style>\n",
              "    .colab-df-container {\n",
              "      display:flex;\n",
              "      flex-wrap:wrap;\n",
              "      gap: 12px;\n",
              "    }\n",
              "\n",
              "    .colab-df-convert {\n",
              "      background-color: #E8F0FE;\n",
              "      border: none;\n",
              "      border-radius: 50%;\n",
              "      cursor: pointer;\n",
              "      display: none;\n",
              "      fill: #1967D2;\n",
              "      height: 32px;\n",
              "      padding: 0 0 0 0;\n",
              "      width: 32px;\n",
              "    }\n",
              "\n",
              "    .colab-df-convert:hover {\n",
              "      background-color: #E2EBFA;\n",
              "      box-shadow: 0px 1px 2px rgba(60, 64, 67, 0.3), 0px 1px 3px 1px rgba(60, 64, 67, 0.15);\n",
              "      fill: #174EA6;\n",
              "    }\n",
              "\n",
              "    [theme=dark] .colab-df-convert {\n",
              "      background-color: #3B4455;\n",
              "      fill: #D2E3FC;\n",
              "    }\n",
              "\n",
              "    [theme=dark] .colab-df-convert:hover {\n",
              "      background-color: #434B5C;\n",
              "      box-shadow: 0px 1px 3px 1px rgba(0, 0, 0, 0.15);\n",
              "      filter: drop-shadow(0px 1px 2px rgba(0, 0, 0, 0.3));\n",
              "      fill: #FFFFFF;\n",
              "    }\n",
              "  </style>\n",
              "\n",
              "      <script>\n",
              "        const buttonEl =\n",
              "          document.querySelector('#df-462942f9-42e5-4a5d-baff-bc853ab4c3b0 button.colab-df-convert');\n",
              "        buttonEl.style.display =\n",
              "          google.colab.kernel.accessAllowed ? 'block' : 'none';\n",
              "\n",
              "        async function convertToInteractive(key) {\n",
              "          const element = document.querySelector('#df-462942f9-42e5-4a5d-baff-bc853ab4c3b0');\n",
              "          const dataTable =\n",
              "            await google.colab.kernel.invokeFunction('convertToInteractive',\n",
              "                                                     [key], {});\n",
              "          if (!dataTable) return;\n",
              "\n",
              "          const docLinkHtml = 'Like what you see? Visit the ' +\n",
              "            '<a target=\"_blank\" href=https://colab.research.google.com/notebooks/data_table.ipynb>data table notebook</a>'\n",
              "            + ' to learn more about interactive tables.';\n",
              "          element.innerHTML = '';\n",
              "          dataTable['output_type'] = 'display_data';\n",
              "          await google.colab.output.renderOutput(dataTable, element);\n",
              "          const docLink = document.createElement('div');\n",
              "          docLink.innerHTML = docLinkHtml;\n",
              "          element.appendChild(docLink);\n",
              "        }\n",
              "      </script>\n",
              "    </div>\n",
              "  </div>\n",
              "  "
            ]
          },
          "metadata": {},
          "execution_count": 486
        }
      ]
    },
    {
      "cell_type": "markdown",
      "source": [
        "#*Correlação - Heatmap*\n",
        "Agora vamos verificar os Heatmaps das correlações apresentadas para analisar o que foi feito de maneira visual e intuitiva:"
      ],
      "metadata": {
        "id": "ddWUctIfOOaq"
      }
    },
    {
      "cell_type": "code",
      "source": [
        "HeatMap = Movie2.corr()\n",
        "sns.heatmap(HeatMap, annot = True, cmap= \"coolwarm\", )\n",
        "plt.title(\"Heatmap de correlações\")\n",
        "plt.show()"
      ],
      "metadata": {
        "colab": {
          "base_uri": "https://localhost:8080/",
          "height": 554
        },
        "id": "OcUY-71c34ID",
        "outputId": "e3e7a0e8-939f-45f8-8707-09c5370e9e75"
      },
      "execution_count": null,
      "outputs": [
        {
          "output_type": "display_data",
          "data": {
            "text/plain": [
              "<Figure size 640x480 with 2 Axes>"
            ],
            "image/png": "[encoded data removed]"
          },
          "metadata": {}
        }
      ]
    },
    {
      "cell_type": "markdown",
      "source": [
        "Podemos perceber que as correlaçoes mais fortes estão entre as colunas:\n",
        "* Potencial_classic X popular_bin,\n",
        "* Vote_Average X Avaliado_bin,\n",
        "* Popularity X Vote_count (isso faz sentido pois quanto mais pessoas assistiram o filme mais avaliadores teremos)"
      ],
      "metadata": {
        "id": "EN44wRU7dqe2"
      }
    },
    {
      "cell_type": "code",
      "source": [
        "import seaborn as sns\n",
        "sns.heatmap(Movie2.corr(), annot = True, yticklabels=False)"
      ],
      "metadata": {
        "colab": {
          "base_uri": "https://localhost:8080/",
          "height": 554
        },
        "id": "1nAl-jv7UlaS",
        "outputId": "ee0fd529-fedd-4813-aea2-cc34d8236389"
      },
      "execution_count": null,
      "outputs": [
        {
          "output_type": "execute_result",
          "data": {
            "text/plain": [
              "<Axes: >"
            ]
          },
          "metadata": {},
          "execution_count": 488
        },
        {
          "output_type": "display_data",
          "data": {
            "text/plain": [
              "<Figure size 640x480 with 2 Axes>"
            ],
            "image/png": "[encoded data removed]"
          },
          "metadata": {}
        }
      ]
    },
    {
      "cell_type": "markdown",
      "source": [
        "#*Distribuição Amostral*"
      ],
      "metadata": {
        "id": "LFAQAY5d7NZ9"
      }
    },
    {
      "cell_type": "markdown",
      "source": [
        "**Agora vamos analisar a distribuição amostral do datasset, vamos fazer isso da seguinte maneira, a primeira é analisando a coluna \"vote_average\" do Data Set Movie2 e em sguida criaremos n amostras para a criação de gráficos**"
      ],
      "metadata": {
        "id": "nGejpRET0mQt"
      }
    },
    {
      "cell_type": "markdown",
      "source": [
        "-Primeiro passo, analisar o tamanho do dataset:"
      ],
      "metadata": {
        "id": "KkY_l1xR1lx-"
      }
    },
    {
      "cell_type": "code",
      "source": [
        "print (\"esse datasset possui um total de (Linhas, colunas) =\",(Movie2.shape))"
      ],
      "metadata": {
        "colab": {
          "base_uri": "https://localhost:8080/"
        },
        "id": "XMcz4sTV1rV4",
        "outputId": "093642e2-3175-49e0-d06a-9d45c169d76b"
      },
      "execution_count": null,
      "outputs": [
        {
          "output_type": "stream",
          "name": "stdout",
          "text": [
            "esse datasset possui um total de (Linhas, colunas) = (1287, 7)\n"
          ]
        }
      ]
    },
    {
      "cell_type": "code",
      "source": [
        "from numpy import mean\n",
        "from matplotlib import pyplot as plt\n",
        "from numpy.random import seed, randint\n",
        "\n",
        "seed(1)"
      ],
      "metadata": {
        "id": "7dnh_OpUMYgz"
      },
      "execution_count": null,
      "outputs": []
    },
    {
      "cell_type": "code",
      "source": [
        "Media_am=[mean(Movie2[\"vote_average\"][randint(0, 1287, 1)]) for _ in range(1000)]\n",
        "plt.hist(Media_am)\n",
        "plt.show()"
      ],
      "metadata": {
        "colab": {
          "base_uri": "https://localhost:8080/",
          "height": 430
        },
        "id": "Ajjn1BXFNCKE",
        "outputId": "47fa13d2-509d-4f04-c37f-f8ed8aba5c00"
      },
      "execution_count": null,
      "outputs": [
        {
          "output_type": "display_data",
          "data": {
            "text/plain": [
              "<Figure size 640x480 with 1 Axes>"
            ],
            "image/png": "[encoded data removed]"
          },
          "metadata": {}
        }
      ]
    },
    {
      "cell_type": "code",
      "source": [
        "Media_am=[mean(Movie2[\"vote_average\"][randint(0, 1287, 10)]) for _ in range(1000)]\n",
        "plt.hist(Media_am)\n",
        "plt.show()"
      ],
      "metadata": {
        "colab": {
          "base_uri": "https://localhost:8080/",
          "height": 430
        },
        "id": "P91111XWmnYy",
        "outputId": "7e9257ae-a81b-4fc9-9874-1b5abb2abe85"
      },
      "execution_count": null,
      "outputs": [
        {
          "output_type": "display_data",
          "data": {
            "text/plain": [
              "<Figure size 640x480 with 1 Axes>"
            ],
            "image/png": "[encoded data removed]"
          },
          "metadata": {}
        }
      ]
    },
    {
      "cell_type": "code",
      "source": [
        "Media_am=[mean(Movie2[\"vote_average\"][randint(0, 1287, 100)]) for _ in range(1000)]\n",
        "plt.hist(Media_am)\n",
        "plt.show()"
      ],
      "metadata": {
        "colab": {
          "base_uri": "https://localhost:8080/",
          "height": 430
        },
        "id": "QLCzJMmdmtNp",
        "outputId": "9b6f842e-2ac1-4eca-a365-8ae7cf3b9b43"
      },
      "execution_count": null,
      "outputs": [
        {
          "output_type": "display_data",
          "data": {
            "text/plain": [
              "<Figure size 640x480 with 1 Axes>"
            ],
            "image/png": "[encoded data removed]"
          },
          "metadata": {}
        }
      ]
    },
    {
      "cell_type": "code",
      "source": [
        "Media_am=[mean(Movie2[\"vote_average\"][randint(0, 1287, 1000)]) for _ in range(1000)]\n",
        "plt.hist(Media_am)\n",
        "plt.show()"
      ],
      "metadata": {
        "colab": {
          "base_uri": "https://localhost:8080/",
          "height": 430
        },
        "id": "VRuco2Iym0eg",
        "outputId": "5f192e33-b4ab-45bc-cf5a-fec2cfa6cefd"
      },
      "execution_count": null,
      "outputs": [
        {
          "output_type": "display_data",
          "data": {
            "text/plain": [
              "<Figure size 640x480 with 1 Axes>"
            ],
            "image/png": "[encoded data removed]"
          },
          "metadata": {}
        }
      ]
    },
    {
      "cell_type": "code",
      "source": [
        "Movie2[\"vote_average\"].mean()"
      ],
      "metadata": {
        "colab": {
          "base_uri": "https://localhost:8080/"
        },
        "id": "As2X4unl2dUe",
        "outputId": "82eac895-d0b8-4eaf-b8da-35f68f1f0ca0"
      },
      "execution_count": null,
      "outputs": [
        {
          "output_type": "execute_result",
          "data": {
            "text/plain": [
              "6.279487179487179"
            ]
          },
          "metadata": {},
          "execution_count": 498
        }
      ]
    },
    {
      "cell_type": "markdown",
      "source": [
        "**Através da análise desses graficos acima, podemos perceber que quanto maior for o tamanho da amostra:**\n",
        "\n",
        "* 1 - A média da amostra se aproxima cada vez mais com a média da população\n",
        "* 2 - A distribuição se aproxima cada vez mais de uma distribuição normal"
      ],
      "metadata": {
        "id": "pIICBmm6suv0"
      }
    },
    {
      "cell_type": "markdown",
      "source": [
        "#*Intervalo de confiança*"
      ],
      "metadata": {
        "id": "2otLVCrG3MZS"
      }
    },
    {
      "cell_type": "markdown",
      "source": [
        "vamos fazer o intervalo de confiança para uma uma amostra de \"vote_count\""
      ],
      "metadata": {
        "id": "VjO1Uc6v3j0X"
      }
    },
    {
      "cell_type": "code",
      "source": [
        "#primeiro definimos o tamanho da amostra(n)\n",
        "n_amostra = 40"
      ],
      "metadata": {
        "id": "QyoaD_zp4k5I"
      },
      "execution_count": null,
      "outputs": []
    },
    {
      "cell_type": "markdown",
      "source": [
        "Vamos encontrar uma posição aleatória dentro da coluna e separar os 40 termos posteriores a ele em um dataframe a parte, para simular uma amostra de 40 elementos"
      ],
      "metadata": {
        "id": "0o9fXYTsAF_-"
      }
    },
    {
      "cell_type": "code",
      "source": [
        "pos = randint(0, 1237, 1)\n",
        "print(pos)"
      ],
      "metadata": {
        "colab": {
          "base_uri": "https://localhost:8080/"
        },
        "id": "d0uPL1iIAVva",
        "outputId": "bdc663c6-c46e-4ce4-9e1f-2333ce296ce6"
      },
      "execution_count": null,
      "outputs": [
        {
          "output_type": "stream",
          "name": "stdout",
          "text": [
            "[105]\n"
          ]
        }
      ]
    },
    {
      "cell_type": "code",
      "source": [
        "pos1 = int(pos[0])\n",
        "print(pos1)"
      ],
      "metadata": {
        "colab": {
          "base_uri": "https://localhost:8080/"
        },
        "id": "7iILCCuFXjeA",
        "outputId": "3244a438-027a-496a-b8df-c120fdfcd9ad"
      },
      "execution_count": null,
      "outputs": [
        {
          "output_type": "stream",
          "name": "stdout",
          "text": [
            "105\n"
          ]
        }
      ]
    },
    {
      "cell_type": "markdown",
      "source": [
        "Delimitada a amostra a partir de pos1 até pos1 + n_amostra, agora vamos separar em um dataframe para análise"
      ],
      "metadata": {
        "id": "IlsQ86NvAvGr"
      }
    },
    {
      "cell_type": "code",
      "source": [
        "Amostra = Movie2[\"vote_average\"][pos1 : (pos1 + n_amostra)]"
      ],
      "metadata": {
        "id": "efKbefw4A9L1"
      },
      "execution_count": null,
      "outputs": []
    },
    {
      "cell_type": "markdown",
      "source": [
        "Agora Vamos encontrar a média , e depois o desvio padrão da nossa população"
      ],
      "metadata": {
        "id": "LUUziQowJvSC"
      }
    },
    {
      "cell_type": "code",
      "source": [
        "#vamos encontrar a média(m) e o desvio padrão:\n",
        "Amostra.describe()"
      ],
      "metadata": {
        "colab": {
          "base_uri": "https://localhost:8080/"
        },
        "id": "zzBPXVRh6YTW",
        "outputId": "e3b78de9-ed4d-417e-deae-1ea13b2e35e6"
      },
      "execution_count": null,
      "outputs": [
        {
          "output_type": "execute_result",
          "data": {
            "text/plain": [
              "count    40.000000\n",
              "mean      6.395000\n",
              "std       0.855735\n",
              "min       3.800000\n",
              "25%       5.800000\n",
              "50%       6.250000\n",
              "75%       7.100000\n",
              "max       8.200000\n",
              "Name: vote_average, dtype: float64"
            ]
          },
          "metadata": {},
          "execution_count": 504
        }
      ]
    },
    {
      "cell_type": "code",
      "source": [
        "m = Amostra.mean()\n",
        "desvio = (Movie2[\"vote_average\"].std())\n",
        "print(desvio)"
      ],
      "metadata": {
        "colab": {
          "base_uri": "https://localhost:8080/"
        },
        "id": "qeFyQOmQ46uP",
        "outputId": "84930253-8edf-4b27-d218-459064ad6092"
      },
      "execution_count": null,
      "outputs": [
        {
          "output_type": "stream",
          "name": "stdout",
          "text": [
            "0.7959552012382826\n"
          ]
        }
      ]
    },
    {
      "cell_type": "markdown",
      "source": [
        "calculo para 90%\n",
        "*  Zc = 1,645"
      ],
      "metadata": {
        "id": "FNJDp3ej8fsV"
      }
    },
    {
      "cell_type": "code",
      "source": [
        "#calculo:\n",
        "E = 1.645 * (desvio / (n_amostra**(1/2)))\n",
        "print (E)"
      ],
      "metadata": {
        "colab": {
          "base_uri": "https://localhost:8080/"
        },
        "id": "6E_G7Zm6857A",
        "outputId": "ad672271-2517-491d-b355-6f18b187886c"
      },
      "execution_count": null,
      "outputs": [
        {
          "output_type": "stream",
          "name": "stdout",
          "text": [
            "0.20702582865023578\n"
          ]
        }
      ]
    },
    {
      "cell_type": "markdown",
      "source": [
        "O intervalo para 90% é:"
      ],
      "metadata": {
        "id": "xWMyNkg6P7TB"
      }
    },
    {
      "cell_type": "code",
      "source": [
        "print(f'entre {(6.5 - E)} e {6.5 + E} com a media populacional sendo {Movie2[\"vote_average\"].mean()}')"
      ],
      "metadata": {
        "colab": {
          "base_uri": "https://localhost:8080/"
        },
        "id": "L9RqtosvQIuL",
        "outputId": "033935f6-5f00-4770-d926-2fb13a59e945"
      },
      "execution_count": null,
      "outputs": [
        {
          "output_type": "stream",
          "name": "stdout",
          "text": [
            "entre 6.292974171349764 e 6.707025828650236 com a media populacional sendo 6.279487179487179\n"
          ]
        }
      ]
    },
    {
      "cell_type": "markdown",
      "source": [
        "calculo para 95%\n",
        "*  Zc = 1,96"
      ],
      "metadata": {
        "id": "6SiEULXN9hBR"
      }
    },
    {
      "cell_type": "code",
      "source": [
        "G = 1.96 * (desvio/(n_amostra**(1/2)))\n",
        "print (G)"
      ],
      "metadata": {
        "colab": {
          "base_uri": "https://localhost:8080/"
        },
        "id": "P5z4NYls9n_S",
        "outputId": "1980e769-924d-4f5d-cd54-64912ff54cbe"
      },
      "execution_count": null,
      "outputs": [
        {
          "output_type": "stream",
          "name": "stdout",
          "text": [
            "0.24666907243432348\n"
          ]
        }
      ]
    },
    {
      "cell_type": "markdown",
      "source": [
        "O intervalo para 95% é:"
      ],
      "metadata": {
        "id": "iU79dMNGR88J"
      }
    },
    {
      "cell_type": "code",
      "source": [
        "print(f'entre {(6.5 - G)} e {6.5 + G} com a media populacional sendo {Movie2[\"vote_average\"].mean()}')"
      ],
      "metadata": {
        "colab": {
          "base_uri": "https://localhost:8080/"
        },
        "id": "fZu1K7-iSDXo",
        "outputId": "333370d3-81fd-4720-bfc1-8ed4fdc76087"
      },
      "execution_count": null,
      "outputs": [
        {
          "output_type": "stream",
          "name": "stdout",
          "text": [
            "entre 6.253330927565677 e 6.746669072434323 com a media populacional sendo 6.279487179487179\n"
          ]
        }
      ]
    },
    {
      "cell_type": "markdown",
      "source": [
        "*Podemos concluir que para essa análise de intervalo de confiança, a amostra escolihida aleatóriamente de tamanho 40 produziu um bom estimador para um intervalo de 95%, mas impreciso para um intervalo de 90%*"
      ],
      "metadata": {
        "id": "OlDvM2KBaBYn"
      }
    }
  ]
}